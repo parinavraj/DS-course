{
 "cells": [
  {
   "cell_type": "markdown",
   "id": "fe0af659-4557-4d4b-88a5-cfcb3f23e837",
   "metadata": {},
   "source": [
    "# Python fundamental"
   ]
  },
  {
   "cell_type": "code",
   "execution_count": 9,
   "id": "d58c0aa0-6283-4b2b-bdc7-c4b8be01493a",
   "metadata": {},
   "outputs": [
    {
     "name": "stdout",
     "output_type": "stream",
     "text": [
      "Parinav raj\n"
     ]
    }
   ],
   "source": [
    "print('Parinav raj')"
   ]
  },
  {
   "cell_type": "code",
   "execution_count": 2,
   "id": "d300858a-7d24-4ae5-be05-7bd624bc11d7",
   "metadata": {},
   "outputs": [
    {
     "name": "stdout",
     "output_type": "stream",
     "text": [
      "parinav 9 3 0 4.5 True\n"
     ]
    }
   ],
   "source": [
    "print('parinav',9,3,0,4.5,True)"
   ]
  },
  {
   "cell_type": "code",
   "execution_count": 3,
   "id": "0fcd429e-53ae-43f4-91bd-52ad6109e89c",
   "metadata": {},
   "outputs": [
    {
     "name": "stdout",
     "output_type": "stream",
     "text": [
      "parinav/9/3/0/4.5/True\n"
     ]
    }
   ],
   "source": [
    "print('parinav',9,3,0,4.5,True,sep='/')"
   ]
  },
  {
   "cell_type": "code",
   "execution_count": 7,
   "id": "6cd545bd-9a34-4254-a731-f1f5047d4b5e",
   "metadata": {},
   "outputs": [
    {
     "name": "stdout",
     "output_type": "stream",
     "text": [
      "Parinav-Raj\n"
     ]
    }
   ],
   "source": [
    "print('Parinav',end = '-')\n",
    "print('Raj')"
   ]
  },
  {
   "cell_type": "markdown",
   "id": "95c67e4a-63e2-41b5-ab12-f721dc7ba745",
   "metadata": {},
   "source": [
    "# Data Types"
   ]
  },
  {
   "cell_type": "code",
   "execution_count": 10,
   "id": "2b363254-cefa-4f1b-994c-4c4e33ed7b4c",
   "metadata": {},
   "outputs": [
    {
     "name": "stdout",
     "output_type": "stream",
     "text": [
      "8\n"
     ]
    }
   ],
   "source": [
    "# integer\n",
    "print(8)"
   ]
  },
  {
   "cell_type": "code",
   "execution_count": 11,
   "id": "a1ab2bd7-ec6b-402f-8e58-7c7c13f62760",
   "metadata": {},
   "outputs": [
    {
     "name": "stdout",
     "output_type": "stream",
     "text": [
      "5.6\n"
     ]
    }
   ],
   "source": [
    "# decimal/float\n",
    "print(5.6)"
   ]
  },
  {
   "cell_type": "code",
   "execution_count": 12,
   "id": "f6b00cb1-c0a9-465c-b2bf-2def76475a2a",
   "metadata": {},
   "outputs": [
    {
     "name": "stdout",
     "output_type": "stream",
     "text": [
      "True\n",
      "False\n"
     ]
    }
   ],
   "source": [
    "# boolean\n",
    "print(True)\n",
    "print(False)"
   ]
  },
  {
   "cell_type": "code",
   "execution_count": 13,
   "id": "176da036-8048-4416-b94d-c7633cde7728",
   "metadata": {},
   "outputs": [
    {
     "name": "stdout",
     "output_type": "stream",
     "text": [
      "Parinav\n"
     ]
    }
   ],
   "source": [
    "# text/string\n",
    "print('Parinav')"
   ]
  },
  {
   "cell_type": "code",
   "execution_count": 14,
   "id": "b41eae1e-7e4e-4744-a560-40ad650f7638",
   "metadata": {},
   "outputs": [
    {
     "name": "stdout",
     "output_type": "stream",
     "text": [
      "(5+6j)\n"
     ]
    }
   ],
   "source": [
    "# complex\n",
    "print(5+6j)"
   ]
  },
  {
   "cell_type": "code",
   "execution_count": 15,
   "id": "49c78d66-1807-432c-9c9c-ab0cff596ee8",
   "metadata": {},
   "outputs": [
    {
     "name": "stdout",
     "output_type": "stream",
     "text": [
      "[1, 2, 3, 4, 5, 6]\n"
     ]
    }
   ],
   "source": [
    "# list -> c -> array\n",
    "print([1,2,3,4,5,6])"
   ]
  },
  {
   "cell_type": "code",
   "execution_count": 16,
   "id": "b35f2816-b04e-45cb-b288-906c7f6b8036",
   "metadata": {},
   "outputs": [
    {
     "name": "stdout",
     "output_type": "stream",
     "text": [
      "(1, 2, 3, 4, 5)\n"
     ]
    }
   ],
   "source": [
    "# tuple\n",
    "print((1,2,3,4,5))"
   ]
  },
  {
   "cell_type": "code",
   "execution_count": 17,
   "id": "3e914314-60cc-412d-8fea-e30583f568b6",
   "metadata": {},
   "outputs": [
    {
     "name": "stdout",
     "output_type": "stream",
     "text": [
      "{1, 2, 3, 4, 5}\n"
     ]
    }
   ],
   "source": [
    "# sets\n",
    "print({1,2,3,4,5})"
   ]
  },
  {
   "cell_type": "code",
   "execution_count": 18,
   "id": "9942c65e-32ab-45b8-a419-f13be2a04b0a",
   "metadata": {},
   "outputs": [
    {
     "name": "stdout",
     "output_type": "stream",
     "text": [
      "{'name': 'parinav', 'age': 20, 'gender': 'male'}\n"
     ]
    }
   ],
   "source": [
    "# dectionary\n",
    "print({'name':'parinav','age':20,'gender':'male'})"
   ]
  },
  {
   "cell_type": "code",
   "execution_count": 21,
   "id": "2426baab-a351-4bc5-bd79-887339d2a3f9",
   "metadata": {},
   "outputs": [
    {
     "data": {
      "text/plain": [
       "int"
      ]
     },
     "execution_count": 21,
     "metadata": {},
     "output_type": "execute_result"
    }
   ],
   "source": [
    "# type\n",
    "type(2)"
   ]
  },
  {
   "cell_type": "code",
   "execution_count": 22,
   "id": "92e77549-e16a-41e1-a4c0-800166c2528d",
   "metadata": {},
   "outputs": [
    {
     "data": {
      "text/plain": [
       "str"
      ]
     },
     "execution_count": 22,
     "metadata": {},
     "output_type": "execute_result"
    }
   ],
   "source": [
    "type('parinav')"
   ]
  },
  {
   "cell_type": "code",
   "execution_count": 23,
   "id": "d7217c18-10c9-4fe3-8898-9281fce2a33f",
   "metadata": {},
   "outputs": [
    {
     "data": {
      "text/plain": [
       "float"
      ]
     },
     "execution_count": 23,
     "metadata": {},
     "output_type": "execute_result"
    }
   ],
   "source": [
    "type(4.5)"
   ]
  },
  {
   "cell_type": "markdown",
   "id": "70591aab-2be8-40e4-b40e-236ce38718de",
   "metadata": {},
   "source": [
    "# variables"
   ]
  },
  {
   "cell_type": "code",
   "execution_count": 24,
   "id": "9053b222-7c86-447f-a12d-5f5f997524cd",
   "metadata": {},
   "outputs": [],
   "source": [
    "# static Vs Dynamic Typing\n",
    "# static Vs Dynamic Binding\n",
    "# stylish declaration technique"
   ]
  },
  {
   "cell_type": "code",
   "execution_count": 25,
   "id": "3f6f6dfc-94be-4b5f-b3af-b27dc1b0d455",
   "metadata": {},
   "outputs": [
    {
     "name": "stdout",
     "output_type": "stream",
     "text": [
      "Parinav\n"
     ]
    }
   ],
   "source": [
    "name = ('Parinav')\n",
    "print(name)"
   ]
  },
  {
   "cell_type": "code",
   "execution_count": 26,
   "id": "7934a326-a07a-406f-b4df-de536b5158ca",
   "metadata": {},
   "outputs": [
    {
     "name": "stdout",
     "output_type": "stream",
     "text": [
      "11\n"
     ]
    }
   ],
   "source": [
    "a = 5\n",
    "b = 6\n",
    "print(a + b)"
   ]
  },
  {
   "cell_type": "code",
   "execution_count": 28,
   "id": "267e6b20-bdff-4b17-9cbd-1a686da30506",
   "metadata": {},
   "outputs": [
    {
     "name": "stdout",
     "output_type": "stream",
     "text": [
      "5\n"
     ]
    }
   ],
   "source": [
    "# dynamic typing(way of creating variable without providing data type)\n",
    "a = 5\n",
    "print(a)"
   ]
  },
  {
   "cell_type": "code",
   "execution_count": 29,
   "id": "e32ecefa-d3f8-42c1-83b3-0863c49f4823",
   "metadata": {},
   "outputs": [
    {
     "name": "stdout",
     "output_type": "stream",
     "text": [
      "5\n",
      "Parinav\n"
     ]
    }
   ],
   "source": [
    "# static typing\n",
    "# static typing not support in python\n",
    "# dynamic binding\n",
    "a = 5\n",
    "print(a)\n",
    "a = 'Parinav'\n",
    "print(a)"
   ]
  },
  {
   "cell_type": "code",
   "execution_count": 30,
   "id": "10c9e86b-2c51-4dee-ab1d-4a069c04f7d6",
   "metadata": {},
   "outputs": [
    {
     "name": "stdout",
     "output_type": "stream",
     "text": [
      "1 2 3\n"
     ]
    }
   ],
   "source": [
    "# creating multiple variable at a time\n",
    "a = 1\n",
    "b = 2 \n",
    "c = 3\n",
    "print(a,b,c)"
   ]
  },
  {
   "cell_type": "code",
   "execution_count": 32,
   "id": "55cd01e9-65b3-4777-96e3-3e42cb802e46",
   "metadata": {},
   "outputs": [
    {
     "name": "stdout",
     "output_type": "stream",
     "text": [
      "1 2 3\n"
     ]
    }
   ],
   "source": [
    "a,b,c = 1,2,3\n",
    "print(a,b,c)"
   ]
  },
  {
   "cell_type": "code",
   "execution_count": 33,
   "id": "2c9aee7b-6a3c-41f6-a166-292d0c3f1a28",
   "metadata": {},
   "outputs": [
    {
     "name": "stdout",
     "output_type": "stream",
     "text": [
      "5 5 5\n"
     ]
    }
   ],
   "source": [
    "a=b=c= 5\n",
    "print(a,b,c)"
   ]
  },
  {
   "cell_type": "markdown",
   "id": "a84e06f9-1581-4a11-b9ed-9d8cc1fdc7fd",
   "metadata": {},
   "source": [
    "# user input"
   ]
  },
  {
   "cell_type": "code",
   "execution_count": 36,
   "id": "a861d516-03a2-40bf-9fe6-a4bd3672cf79",
   "metadata": {},
   "outputs": [
    {
     "name": "stdin",
     "output_type": "stream",
     "text": [
      "type here parinav\n"
     ]
    },
    {
     "data": {
      "text/plain": [
       "'parinav'"
      ]
     },
     "execution_count": 36,
     "metadata": {},
     "output_type": "execute_result"
    }
   ],
   "source": [
    "input('type here')"
   ]
  },
  {
   "cell_type": "code",
   "execution_count": 51,
   "id": "d12f632b-3043-4069-acba-2d9cfbdac9ec",
   "metadata": {},
   "outputs": [
    {
     "name": "stdin",
     "output_type": "stream",
     "text": [
      "enter first number 45\n",
      "enter second number 56\n"
     ]
    },
    {
     "name": "stdout",
     "output_type": "stream",
     "text": [
      "45 56\n",
      "101\n",
      "<class 'int'>\n"
     ]
    }
   ],
   "source": [
    "# take input from user and store them in a variavle\n",
    "fnum = int(input('enter first number'))\n",
    "snum = int(input('enter second number'))\n",
    "print(fnum,snum)\n",
    "# add the two variables\n",
    "result = fnum + snum\n",
    "# print the result\n",
    "print(result)\n",
    "print(type(fnum))"
   ]
  },
  {
   "cell_type": "code",
   "execution_count": 50,
   "id": "81be1fea-8571-4f71-b8de-887b8cde3cf7",
   "metadata": {},
   "outputs": [
    {
     "name": "stdin",
     "output_type": "stream",
     "text": [
      "enter first number 45\n",
      "enter second number 56\n"
     ]
    },
    {
     "name": "stdout",
     "output_type": "stream",
     "text": [
      "45 56\n",
      "101\n",
      "<class 'str'>\n"
     ]
    }
   ],
   "source": [
    "# take input from user and store them in a variavle\n",
    "fnum = input('enter first number')\n",
    "snum = input('enter second number')\n",
    "print(fnum,snum)\n",
    "# add the two variables\n",
    "result = int(fnum) + int(snum)\n",
    "# print the result\n",
    "print(result)\n",
    "print(type(fnum))"
   ]
  },
  {
   "cell_type": "markdown",
   "id": "a2b57bac-76e9-4f84-bc6c-247b7dd71cf5",
   "metadata": {},
   "source": [
    "# type conversion"
   ]
  },
  {
   "cell_type": "code",
   "execution_count": 46,
   "id": "21c61af8-0a47-4ce2-8294-302131eb4efc",
   "metadata": {},
   "outputs": [
    {
     "name": "stdout",
     "output_type": "stream",
     "text": [
      "10.6\n",
      "<class 'int'> <class 'float'>\n"
     ]
    }
   ],
   "source": [
    "# implicit(python convrt automatically the type of data)\n",
    "print(5+5.6)\n",
    "print(type(5),type(5.6))\n"
   ]
  },
  {
   "cell_type": "code",
   "execution_count": 47,
   "id": "a6b270e8-9ce9-4580-91bc-ea65eb708821",
   "metadata": {},
   "outputs": [
    {
     "name": "stdout",
     "output_type": "stream",
     "text": [
      "<class 'str'>\n",
      "<class 'int'>\n"
     ]
    }
   ],
   "source": [
    "#    Vs\n",
    "# Explicit(in this form don't convet by self type of data)\n",
    "# str -> int\n",
    "print(type('4'))\n",
    "print(type(int('4')))"
   ]
  },
  {
   "cell_type": "markdown",
   "id": "5cc3983e-3b4c-451c-a850-926554360c5e",
   "metadata": {},
   "source": [
    "# Literals"
   ]
  },
  {
   "cell_type": "code",
   "execution_count": 54,
   "id": "f6486484-17b9-43dc-b5e1-7ce6b3a35f78",
   "metadata": {},
   "outputs": [
    {
     "name": "stdout",
     "output_type": "stream",
     "text": [
      "10 100 200 300\n",
      "10.5 150.0 0.0015\n",
      "3.14j 3.14 0.0\n"
     ]
    }
   ],
   "source": [
    "a = 0b1010 # Binary Literals\n",
    "b = 100 # Decimal Literals\n",
    "c = 0o310 # Octal Literals\n",
    "d = 0x12c # Hexadecimal Literals\n",
    "\n",
    "# Float Literals\n",
    "float_1 = 10.5 # normal way\n",
    "float_2 = 1.5e2 # scientific way\n",
    "float_3 = 1.5e-3 \n",
    "\n",
    "# complex Literals\n",
    "x = 3.14j\n",
    "\n",
    "print(a, b, c, d)\n",
    "print(float_1,float_2,float_3)\n",
    "print(x,x.imag,x.real)"
   ]
  },
  {
   "cell_type": "code",
   "execution_count": 55,
   "id": "8ad1400b-c671-4f57-87ca-89cc28867895",
   "metadata": {},
   "outputs": [
    {
     "name": "stdout",
     "output_type": "stream",
     "text": [
      "This is python\n",
      "This is python\n",
      "C\n",
      "This is a multiline string with more than one line code,\n",
      "😀😆🤣\n",
      "raw \\n string\n"
     ]
    }
   ],
   "source": [
    "string = 'This is python'\n",
    "strings = \"This is python\"\n",
    "char = \"C\"\n",
    "multiline_str = \"\"\"This is a multiline string with more than one line code,\"\"\"\n",
    "unicode = u\"\\U0001f600\\U0001F606\\U0001F923\"\n",
    "raw_str = r\"raw \\n string\"\n",
    "\n",
    "print(string)\n",
    "print(strings)\n",
    "print(char)\n",
    "print(multiline_str)\n",
    "print(unicode)\n",
    "print(raw_str)"
   ]
  },
  {
   "cell_type": "code",
   "execution_count": 56,
   "id": "469d37cd-b129-40f5-ab22-35c80d8787a2",
   "metadata": {},
   "outputs": [
    {
     "name": "stdout",
     "output_type": "stream",
     "text": [
      "a: 5\n",
      "b: 10\n"
     ]
    }
   ],
   "source": [
    "a = True + 4\n",
    "b = False + 10\n",
    "\n",
    "print(\"a:\",a)\n",
    "print(\"b:\",b)"
   ]
  },
  {
   "cell_type": "code",
   "execution_count": 57,
   "id": "70d30030-2fb8-4be0-827f-eeac7d6380d9",
   "metadata": {},
   "outputs": [
    {
     "name": "stdout",
     "output_type": "stream",
     "text": [
      "None\n"
     ]
    }
   ],
   "source": [
    "a = None\n",
    "print(a)"
   ]
  },
  {
   "cell_type": "code",
   "execution_count": null,
   "id": "ff34205d-d566-4132-9f90-adc1db27855e",
   "metadata": {},
   "outputs": [],
   "source": []
  },
  {
   "cell_type": "code",
   "execution_count": null,
   "id": "e0b19231-a2ec-4faf-a4d8-90318a21facd",
   "metadata": {},
   "outputs": [],
   "source": []
  },
  {
   "cell_type": "code",
   "execution_count": null,
   "id": "a7a13d28-a761-4b0b-a2ee-3c92ee7f077f",
   "metadata": {},
   "outputs": [],
   "source": []
  },
  {
   "cell_type": "code",
   "execution_count": null,
   "id": "d205e0a1-50b3-49bf-ae67-730e14f01c0a",
   "metadata": {},
   "outputs": [],
   "source": []
  },
  {
   "cell_type": "markdown",
   "id": "44d86935-8076-44af-99f7-d919c9a7d049",
   "metadata": {},
   "source": [
    "# Task "
   ]
  },
  {
   "cell_type": "markdown",
   "id": "3fcdc753-7c41-43b0-b232-252af6de5b9b",
   "metadata": {},
   "source": [
    "### Q1 :- Print the given strings as per stated format.\n",
    "\n",
    "**Given strings**: \n",
    "```\n",
    "\"Data\" \"Science\" \"Mentorship\" \"Program\" \n",
    "\"By\" \"CampusX\"\n",
    "```\n",
    "**Output**: \n",
    "``` \n",
    "Data-Science-Mentorship-Program-started-By-CampusX\n",
    "```\n",
    "\n",
    "Concept- [Seperator and End]"
   ]
  },
  {
   "cell_type": "code",
   "execution_count": 60,
   "id": "a30413ac-da9f-4a59-b76f-265c5a7413ed",
   "metadata": {},
   "outputs": [
    {
     "name": "stdout",
     "output_type": "stream",
     "text": [
      "Data-Science-Mentorship-Program-started-By-Campus\n"
     ]
    }
   ],
   "source": [
    "print(\"Data\",end = '-')\n",
    "print(\"Science\",end = '-')\n",
    "print(\"Mentorship\",end = '-')\n",
    "print(\"Program\",end = '-')\n",
    "print(\"started\",end = '-')\n",
    "print(\"By\",end = '-')\n",
    "print(\"Campus\")"
   ]
  },
  {
   "cell_type": "code",
   "execution_count": null,
   "id": "bad6d608-feda-4e80-99e2-0873928c927c",
   "metadata": {},
   "outputs": [],
   "source": []
  }
 ],
 "metadata": {
  "kernelspec": {
   "display_name": "Python 3 (ipykernel)",
   "language": "python",
   "name": "python3"
  },
  "language_info": {
   "codemirror_mode": {
    "name": "ipython",
    "version": 3
   },
   "file_extension": ".py",
   "mimetype": "text/x-python",
   "name": "python",
   "nbconvert_exporter": "python",
   "pygments_lexer": "ipython3",
   "version": "3.9.7"
  }
 },
 "nbformat": 4,
 "nbformat_minor": 5
}
