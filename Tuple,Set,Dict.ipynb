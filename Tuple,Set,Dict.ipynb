{
 "cells": [
  {
   "cell_type": "markdown",
   "id": "7aff0641-8f66-48d7-b918-0909a7d1857c",
   "metadata": {},
   "source": [
    "# Tuples\n",
    "\n",
    "A tuple in Python is similar to a list. The difference between the two is that we cannot change the elements of a tuple once it is assigned whereas we can change the elements of a list.\n",
    "\n",
    "In short, a tuple is an immutable list. A tuple can not be changed in any way once it is created.\n",
    "\n",
    "Characterstics\n",
    "\n",
    "- Ordered\n",
    "- Unchangeble\n",
    "- Allows duplicate"
   ]
  },
  {
   "cell_type": "markdown",
   "id": "47a86449-003e-471b-91dc-9733a7a736c9",
   "metadata": {},
   "source": [
    "### Plan of attack\n",
    "\n",
    "- Creating a Tuple\n",
    "- Accessing items \n",
    "- Editing items\n",
    "- Deleting items\n",
    "- Operations on Tuples\n",
    "- Tuple Functions"
   ]
  },
  {
   "cell_type": "code",
   "execution_count": 1,
   "id": "dbf7eefc-537c-4972-a338-f6464817284c",
   "metadata": {},
   "outputs": [
    {
     "name": "stdout",
     "output_type": "stream",
     "text": [
      "()\n"
     ]
    }
   ],
   "source": [
    "# empty tuple\n",
    "t1 = ()\n",
    "print(t1)"
   ]
  },
  {
   "cell_type": "code",
   "execution_count": 5,
   "id": "0079d129-607a-4df4-ba5a-2a4719de1765",
   "metadata": {},
   "outputs": [
    {
     "name": "stdout",
     "output_type": "stream",
     "text": [
      "('hello',)\n"
     ]
    }
   ],
   "source": [
    "# create a tuple with a single item\n",
    "t2 = ('hello',)\n",
    "print(t2)"
   ]
  },
  {
   "cell_type": "code",
   "execution_count": 34,
   "id": "86d67b72-ff33-4a43-958c-53fd8816cb98",
   "metadata": {},
   "outputs": [
    {
     "name": "stdout",
     "output_type": "stream",
     "text": [
      "(1, 2, 3, 4)\n"
     ]
    }
   ],
   "source": [
    "# homogeneous\n",
    "t3 = (1,2,3,4)\n",
    "print(t3)"
   ]
  },
  {
   "cell_type": "code",
   "execution_count": 7,
   "id": "fd6427ad-0afa-4b21-beb0-a4fc5f1e28e2",
   "metadata": {},
   "outputs": [
    {
     "name": "stdout",
     "output_type": "stream",
     "text": [
      "(1, 2, 3, True, [1, 2, 3])\n"
     ]
    }
   ],
   "source": [
    "# hetrogeneous\n",
    "t4 = (1,2,3,True,[1,2,3])\n",
    "print(t4)"
   ]
  },
  {
   "cell_type": "code",
   "execution_count": 8,
   "id": "ec2dba95-3b76-4595-b8f1-0bf48243979f",
   "metadata": {},
   "outputs": [
    {
     "name": "stdout",
     "output_type": "stream",
     "text": [
      "(1, 2, 3, (4, 5, 6))\n"
     ]
    }
   ],
   "source": [
    "# tuple within tuple\n",
    "t5 = (1,2,3,(4,5,6))\n",
    "print(t5)"
   ]
  },
  {
   "cell_type": "code",
   "execution_count": 9,
   "id": "f3a1eccb-04ab-4ebd-a54a-bc65c062a972",
   "metadata": {},
   "outputs": [
    {
     "name": "stdout",
     "output_type": "stream",
     "text": [
      "('h', 'e', 'l', 'l', 'o')\n"
     ]
    }
   ],
   "source": [
    "# using type conversion\n",
    "t6 = tuple('hello')\n",
    "print(t6)"
   ]
  },
  {
   "cell_type": "markdown",
   "id": "c6b6187f-9cdd-4a55-b54b-f34c459f59a5",
   "metadata": {},
   "source": [
    "### Accessing items"
   ]
  },
  {
   "cell_type": "code",
   "execution_count": 10,
   "id": "9eb8dd9e-31e7-4415-bbd8-b2498fe787b9",
   "metadata": {},
   "outputs": [],
   "source": [
    "# indexing\n",
    "# slicing"
   ]
  },
  {
   "cell_type": "code",
   "execution_count": 12,
   "id": "d48c0de3-9106-410b-9718-0fe0195cd4f5",
   "metadata": {},
   "outputs": [
    {
     "name": "stdout",
     "output_type": "stream",
     "text": [
      "(1, 2, 3, 4)\n",
      "1\n",
      "4\n"
     ]
    }
   ],
   "source": [
    "print(t3)\n",
    "print(t3[0])\n",
    "print(t3[-1])"
   ]
  },
  {
   "cell_type": "code",
   "execution_count": 13,
   "id": "e33505ee-97e7-4bb2-a5f2-89187333265e",
   "metadata": {},
   "outputs": [
    {
     "name": "stdout",
     "output_type": "stream",
     "text": [
      "(1, 2, 3, 4)\n",
      "(1, 3)\n"
     ]
    }
   ],
   "source": [
    "# slicing\n",
    "print(t3)\n",
    "print(t3[0:4:2])"
   ]
  },
  {
   "cell_type": "code",
   "execution_count": 40,
   "id": "964bea93-167b-4b50-beb1-34b19492216a",
   "metadata": {},
   "outputs": [
    {
     "name": "stdout",
     "output_type": "stream",
     "text": [
      "(1, 2, 3, 4, 5, 6)\n",
      "(6, 5, 4, 3, 2, 1)\n"
     ]
    }
   ],
   "source": [
    "t = (1,2,3,4,5,6)\n",
    "print(t)\n",
    "print(t[-1::-1])"
   ]
  },
  {
   "cell_type": "code",
   "execution_count": 35,
   "id": "3ac2718b-c16f-49ca-b922-96ff4a957bbd",
   "metadata": {},
   "outputs": [
    {
     "name": "stdout",
     "output_type": "stream",
     "text": [
      "(1, 2, 3, 4)\n",
      "4\n"
     ]
    }
   ],
   "source": [
    "print(t3)\n",
    "print(t3[-1])"
   ]
  },
  {
   "cell_type": "code",
   "execution_count": 18,
   "id": "3986a926-2012-49ea-acb3-8b9e897f3bf1",
   "metadata": {},
   "outputs": [
    {
     "name": "stdout",
     "output_type": "stream",
     "text": [
      "(1, 2, 3, (4, 5, 6))\n",
      "4\n"
     ]
    }
   ],
   "source": [
    "print(t5)\n",
    "print(t5[3][0])"
   ]
  },
  {
   "cell_type": "code",
   "execution_count": 19,
   "id": "193fab5b-eaa6-48d0-9ecb-d5c536a76fb4",
   "metadata": {},
   "outputs": [
    {
     "name": "stdout",
     "output_type": "stream",
     "text": [
      "(1, 2, 3, (4, 5, 6))\n",
      "4\n"
     ]
    }
   ],
   "source": [
    "print(t5)\n",
    "print(t5[-1][0])"
   ]
  },
  {
   "cell_type": "code",
   "execution_count": 26,
   "id": "4d3bf122-7bf4-4142-b9c2-d4d6c2be43aa",
   "metadata": {},
   "outputs": [
    {
     "name": "stdout",
     "output_type": "stream",
     "text": [
      "(1, 2, 3, 4)\n"
     ]
    },
    {
     "ename": "TypeError",
     "evalue": "'tuple' object does not support item assignment",
     "output_type": "error",
     "traceback": [
      "\u001b[1;31m---------------------------------------------------------------------------\u001b[0m",
      "\u001b[1;31mTypeError\u001b[0m                                 Traceback (most recent call last)",
      "\u001b[1;32m~\\AppData\\Local\\Temp/ipykernel_3252/239563934.py\u001b[0m in \u001b[0;36m<module>\u001b[1;34m\u001b[0m\n\u001b[0;32m      1\u001b[0m \u001b[1;31m# Editing item not possible\u001b[0m\u001b[1;33m\u001b[0m\u001b[1;33m\u001b[0m\u001b[0m\n\u001b[0;32m      2\u001b[0m \u001b[0mprint\u001b[0m\u001b[1;33m(\u001b[0m\u001b[0mt3\u001b[0m\u001b[1;33m)\u001b[0m\u001b[1;33m\u001b[0m\u001b[1;33m\u001b[0m\u001b[0m\n\u001b[1;32m----> 3\u001b[1;33m \u001b[0mt3\u001b[0m\u001b[1;33m[\u001b[0m\u001b[1;36m0\u001b[0m\u001b[1;33m]\u001b[0m \u001b[1;33m=\u001b[0m \u001b[1;36m100\u001b[0m\u001b[1;33m\u001b[0m\u001b[1;33m\u001b[0m\u001b[0m\n\u001b[0m",
      "\u001b[1;31mTypeError\u001b[0m: 'tuple' object does not support item assignment"
     ]
    }
   ],
   "source": [
    "# Editing item not possible\n",
    "print(t3)\n",
    "t3[0] = 100"
   ]
  },
  {
   "cell_type": "code",
   "execution_count": 29,
   "id": "0dac7014-f7c0-43f2-9d0a-9c98edae80cb",
   "metadata": {},
   "outputs": [],
   "source": [
    "# Deleting items\n",
    "# it delete whole data when apply "
   ]
  },
  {
   "cell_type": "code",
   "execution_count": 41,
   "id": "fe8c7bd9-0ad2-49af-b971-f8ce0b9a74a9",
   "metadata": {},
   "outputs": [
    {
     "name": "stdout",
     "output_type": "stream",
     "text": [
      "(1, 2, 3, 4)\n"
     ]
    },
    {
     "ename": "NameError",
     "evalue": "name 't3' is not defined",
     "output_type": "error",
     "traceback": [
      "\u001b[1;31m---------------------------------------------------------------------------\u001b[0m",
      "\u001b[1;31mNameError\u001b[0m                                 Traceback (most recent call last)",
      "\u001b[1;32m~\\AppData\\Local\\Temp/ipykernel_3252/1737609542.py\u001b[0m in \u001b[0;36m<module>\u001b[1;34m\u001b[0m\n\u001b[0;32m      1\u001b[0m \u001b[0mprint\u001b[0m\u001b[1;33m(\u001b[0m\u001b[0mt3\u001b[0m\u001b[1;33m)\u001b[0m\u001b[1;33m\u001b[0m\u001b[1;33m\u001b[0m\u001b[0m\n\u001b[0;32m      2\u001b[0m \u001b[1;32mdel\u001b[0m \u001b[0mt3\u001b[0m\u001b[1;33m\u001b[0m\u001b[1;33m\u001b[0m\u001b[0m\n\u001b[1;32m----> 3\u001b[1;33m \u001b[0mprint\u001b[0m\u001b[1;33m(\u001b[0m\u001b[0mt3\u001b[0m\u001b[1;33m)\u001b[0m\u001b[1;33m\u001b[0m\u001b[1;33m\u001b[0m\u001b[0m\n\u001b[0m",
      "\u001b[1;31mNameError\u001b[0m: name 't3' is not defined"
     ]
    }
   ],
   "source": [
    "print(t3)\n",
    "del t3\n",
    "print(t3)"
   ]
  },
  {
   "cell_type": "markdown",
   "id": "b5a686cb-7952-4afa-bbd3-b5c349a56cbc",
   "metadata": {},
   "source": [
    "### Operations on tuple"
   ]
  },
  {
   "cell_type": "code",
   "execution_count": 49,
   "id": "62d75685-a8d8-4370-bc51-a27000899383",
   "metadata": {},
   "outputs": [
    {
     "name": "stdout",
     "output_type": "stream",
     "text": [
      "(1, 2, 3, 4, 5, 6, 7, 8)\n",
      "(1, 2, 3, 4, 1, 2, 3, 4, 1, 2, 3, 4)\n",
      "True\n",
      "1\n",
      "2\n",
      "3\n",
      "4\n"
     ]
    }
   ],
   "source": [
    "# '+' and '*'\n",
    "t1 = (1,2,3,4)\n",
    "t2 = (5,6,7,8)\n",
    "\n",
    "# '+'\n",
    "print(t1 + t2)\n",
    "\n",
    "# '*'\n",
    "print(t1*3)\n",
    "\n",
    "# membership\n",
    "print(1 in t1)\n",
    "\n",
    "# iteration\n",
    "for i in t1:\n",
    "    print(i)"
   ]
  },
  {
   "cell_type": "markdown",
   "id": "fea752b9-8025-453f-aa18-47fa67772844",
   "metadata": {},
   "source": [
    "### Tuple function"
   ]
  },
  {
   "cell_type": "code",
   "execution_count": 53,
   "id": "e970a409-789d-4ecf-927d-715f2aef5c26",
   "metadata": {},
   "outputs": [
    {
     "name": "stdout",
     "output_type": "stream",
     "text": [
      "5\n",
      "15\n",
      "1\n",
      "5\n",
      "[5, 4, 3, 2, 1]\n"
     ]
    }
   ],
   "source": [
    "# len/sum/mim/max/sorted\n",
    "t = (1,2,3,4,5)\n",
    "print(len(t))\n",
    "print(sum(t))\n",
    "print(min(t))\n",
    "print(max(t))\n",
    "print(sorted(t,reverse = True))"
   ]
  },
  {
   "cell_type": "code",
   "execution_count": 55,
   "id": "ec400a25-1b29-48df-adb7-b3910d045b4b",
   "metadata": {},
   "outputs": [
    {
     "data": {
      "text/plain": [
       "1"
      ]
     },
     "execution_count": 55,
     "metadata": {},
     "output_type": "execute_result"
    }
   ],
   "source": [
    "# count\n",
    "t = (1,2,3,4,5)\n",
    "t.count(2)"
   ]
  },
  {
   "cell_type": "code",
   "execution_count": 56,
   "id": "6e6bb800-a6d8-4430-94f9-23cb60cb3876",
   "metadata": {},
   "outputs": [
    {
     "data": {
      "text/plain": [
       "0"
      ]
     },
     "execution_count": 56,
     "metadata": {},
     "output_type": "execute_result"
    }
   ],
   "source": [
    "# count\n",
    "t = (1,2,3,4,5)\n",
    "t.count(20)"
   ]
  },
  {
   "cell_type": "code",
   "execution_count": 57,
   "id": "adffece9-28d8-4e21-a69e-ebda32c7bcea",
   "metadata": {},
   "outputs": [
    {
     "data": {
      "text/plain": [
       "2"
      ]
     },
     "execution_count": 57,
     "metadata": {},
     "output_type": "execute_result"
    }
   ],
   "source": [
    "# index\n",
    "t.index(3)"
   ]
  },
  {
   "cell_type": "markdown",
   "id": "1a7f89ce-ad01-41da-905f-d94905ce3717",
   "metadata": {},
   "source": [
    "### Difference between Lists and Tuples\n",
    "\n",
    "- Syntax\n",
    "- Mutability\n",
    "- Speed\n",
    "- Memory\n",
    "- Built in functionality\n",
    "- Error prone\n",
    "- Usability\n"
   ]
  },
  {
   "cell_type": "code",
   "execution_count": 66,
   "id": "57154b14-84c5-4ea4-aecf-1288aeeeca82",
   "metadata": {},
   "outputs": [
    {
     "name": "stdout",
     "output_type": "stream",
     "text": [
      "List time 23.221110582351685\n",
      "Tuple time 24.36655282974243\n"
     ]
    }
   ],
   "source": [
    "import time \n",
    "\n",
    "L = list(range(100000000))\n",
    "T = tuple(range(100000000))\n",
    "\n",
    "start = time.time()\n",
    "for i in L:\n",
    "  i*5\n",
    "print('List time',time.time()-start)\n",
    "\n",
    "start = time.time()\n",
    "for i in T:\n",
    "  i*5\n",
    "print('Tuple time',time.time()-start)"
   ]
  },
  {
   "cell_type": "code",
   "execution_count": 67,
   "id": "d56a82bd-f07a-4ca4-8693-192afc896da0",
   "metadata": {},
   "outputs": [
    {
     "name": "stdout",
     "output_type": "stream",
     "text": [
      "List size 8056\n",
      "Tuple size 8040\n"
     ]
    }
   ],
   "source": [
    "import sys\n",
    "\n",
    "L = list(range(1000))\n",
    "T = tuple(range(1000))\n",
    "\n",
    "print('List size',sys.getsizeof(L))\n",
    "print('Tuple size',sys.getsizeof(T))\n"
   ]
  },
  {
   "cell_type": "code",
   "execution_count": 68,
   "id": "7ed2ddaf-93bd-498f-9bbb-ab421882f4ea",
   "metadata": {},
   "outputs": [
    {
     "name": "stdout",
     "output_type": "stream",
     "text": [
      "[1, 2, 3, 4]\n",
      "[1, 2, 3, 4]\n"
     ]
    }
   ],
   "source": [
    "a = [1,2,3]\n",
    "b = a\n",
    "\n",
    "a.append(4)\n",
    "print(a)\n",
    "print(b)"
   ]
  },
  {
   "cell_type": "code",
   "execution_count": 69,
   "id": "95d777fd-c6f1-4490-a33e-7854a5be8c96",
   "metadata": {},
   "outputs": [
    {
     "name": "stdout",
     "output_type": "stream",
     "text": [
      "(1, 2, 3, 4)\n",
      "(1, 2, 3)\n"
     ]
    }
   ],
   "source": [
    "a = (1,2,3)\n",
    "b = a\n",
    "\n",
    "a = a + (4,)\n",
    "print(a)\n",
    "print(b)"
   ]
  },
  {
   "cell_type": "markdown",
   "id": "5d27d1f2-e591-47d1-a7d5-8647608986f8",
   "metadata": {},
   "source": [
    "# why use tuple"
   ]
  },
  {
   "cell_type": "markdown",
   "id": "cc8b7d45-b623-44f3-96f4-e8fdc92a6bc6",
   "metadata": {},
   "source": [
    "### special syntax"
   ]
  },
  {
   "cell_type": "code",
   "execution_count": 70,
   "id": "e8fe7e41-fff5-467e-b211-cb3f548e9437",
   "metadata": {},
   "outputs": [
    {
     "name": "stdout",
     "output_type": "stream",
     "text": [
      "1 2 3\n"
     ]
    }
   ],
   "source": [
    "# tuple unpacking\n",
    "a,b,c = (1,2,3)\n",
    "print(a,b,c)"
   ]
  },
  {
   "cell_type": "code",
   "execution_count": 71,
   "id": "061538f8-1724-4ce6-9f3e-d1577dabcde1",
   "metadata": {},
   "outputs": [
    {
     "name": "stdout",
     "output_type": "stream",
     "text": [
      "2 1\n"
     ]
    }
   ],
   "source": [
    "a = 1\n",
    "b = 2\n",
    "a,b = b,a\n",
    "print(a,b)"
   ]
  },
  {
   "cell_type": "code",
   "execution_count": 72,
   "id": "e146a8b4-3f63-41ee-bc89-211f377930cc",
   "metadata": {},
   "outputs": [
    {
     "name": "stdout",
     "output_type": "stream",
     "text": [
      "1 2\n",
      "[3, 4]\n"
     ]
    }
   ],
   "source": [
    "a,b,*others = (1,2,3,4)\n",
    "print(a,b)\n",
    "print(others)"
   ]
  },
  {
   "cell_type": "code",
   "execution_count": 73,
   "id": "64c94490-b4e6-4194-9f13-4c52ccc9357c",
   "metadata": {},
   "outputs": [
    {
     "data": {
      "text/plain": [
       "<zip at 0x210dc22eb40>"
      ]
     },
     "execution_count": 73,
     "metadata": {},
     "output_type": "execute_result"
    }
   ],
   "source": [
    "# zipping tuples\n",
    "a = (1,2,3,4)\n",
    "b = (5,6,7,8)\n",
    "zip(a,b)"
   ]
  },
  {
   "cell_type": "code",
   "execution_count": 74,
   "id": "6bfcb04c-0c2a-4bf3-bbe1-b1a8a310458c",
   "metadata": {},
   "outputs": [
    {
     "data": {
      "text/plain": [
       "[(1, 5), (2, 6), (3, 7), (4, 8)]"
      ]
     },
     "execution_count": 74,
     "metadata": {},
     "output_type": "execute_result"
    }
   ],
   "source": [
    "list(zip(a,b))"
   ]
  },
  {
   "cell_type": "code",
   "execution_count": 75,
   "id": "d707ed1e-7908-4aca-b428-5ae316a671a3",
   "metadata": {},
   "outputs": [
    {
     "data": {
      "text/plain": [
       "((1, 5), (2, 6), (3, 7), (4, 8))"
      ]
     },
     "execution_count": 75,
     "metadata": {},
     "output_type": "execute_result"
    }
   ],
   "source": [
    "tuple(zip(a,b))"
   ]
  },
  {
   "cell_type": "code",
   "execution_count": 76,
   "id": "190ca431-b010-420e-970f-4a37a291ea84",
   "metadata": {},
   "outputs": [
    {
     "data": {
      "text/plain": [
       "<zip at 0x210dc172140>"
      ]
     },
     "execution_count": 76,
     "metadata": {},
     "output_type": "execute_result"
    }
   ],
   "source": [
    "a = (1,2,3,4)\n",
    "b = (5,6,7,8)\n",
    "c = (9,10,11,12)\n",
    "zip(a,b,c)"
   ]
  },
  {
   "cell_type": "code",
   "execution_count": 77,
   "id": "d8eec894-8c82-4a25-9424-4e6a6bba2a21",
   "metadata": {},
   "outputs": [
    {
     "data": {
      "text/plain": [
       "((1, 5, 9), (2, 6, 10), (3, 7, 11), (4, 8, 12))"
      ]
     },
     "execution_count": 77,
     "metadata": {},
     "output_type": "execute_result"
    }
   ],
   "source": [
    "tuple(zip(a,b,c))"
   ]
  },
  {
   "cell_type": "markdown",
   "id": "8e95a56a-3afb-4d32-acfd-57551da79275",
   "metadata": {},
   "source": [
    "# Sets\n",
    "\n",
    "A set is an unordered collection of items. Every set element is unique (no duplicates) and must be immutable (cannot be changed).\n",
    "\n",
    "However, a set itself is mutable. We can add or remove items from it.\n",
    "\n",
    "Sets can also be used to perform mathematical set operations like union, intersection, symmetric difference, etc.\n",
    "\n",
    "Characterstics:\n",
    "- Unordered\n",
    "- Mutable\n",
    "- No Duplicates\n",
    "- Can't contain mutable data types"
   ]
  },
  {
   "cell_type": "markdown",
   "id": "7e20b6ec-43fc-4d0b-a597-88f11933e52f",
   "metadata": {},
   "source": [
    "### creating sets"
   ]
  },
  {
   "cell_type": "code",
   "execution_count": 79,
   "id": "a904d3a2-6808-4a52-bbc8-29f2df062116",
   "metadata": {},
   "outputs": [
    {
     "name": "stdout",
     "output_type": "stream",
     "text": [
      "set()\n"
     ]
    }
   ],
   "source": [
    "# empty set\n",
    "s = set()\n",
    "print(s)"
   ]
  },
  {
   "cell_type": "code",
   "execution_count": 81,
   "id": "e83b8f4c-fa88-45cd-83d6-e60ca947f808",
   "metadata": {},
   "outputs": [
    {
     "name": "stdout",
     "output_type": "stream",
     "text": [
      "{1, 2, 3}\n"
     ]
    },
    {
     "ename": "TypeError",
     "evalue": "unhashable type: 'set'",
     "output_type": "error",
     "traceback": [
      "\u001b[1;31m---------------------------------------------------------------------------\u001b[0m",
      "\u001b[1;31mTypeError\u001b[0m                                 Traceback (most recent call last)",
      "\u001b[1;32m~\\AppData\\Local\\Temp/ipykernel_3252/3410291575.py\u001b[0m in \u001b[0;36m<module>\u001b[1;34m\u001b[0m\n\u001b[0;32m      3\u001b[0m \u001b[0mprint\u001b[0m\u001b[1;33m(\u001b[0m\u001b[0ms1\u001b[0m\u001b[1;33m)\u001b[0m\u001b[1;33m\u001b[0m\u001b[1;33m\u001b[0m\u001b[0m\n\u001b[0;32m      4\u001b[0m \u001b[1;33m\u001b[0m\u001b[0m\n\u001b[1;32m----> 5\u001b[1;33m \u001b[0ms2\u001b[0m \u001b[1;33m=\u001b[0m \u001b[1;33m{\u001b[0m\u001b[1;36m1\u001b[0m\u001b[1;33m,\u001b[0m\u001b[1;36m2\u001b[0m\u001b[1;33m,\u001b[0m\u001b[1;36m3\u001b[0m\u001b[1;33m,\u001b[0m\u001b[1;33m{\u001b[0m\u001b[1;36m4\u001b[0m\u001b[1;33m,\u001b[0m\u001b[1;36m5\u001b[0m\u001b[1;33m,\u001b[0m\u001b[1;36m6\u001b[0m\u001b[1;33m}\u001b[0m\u001b[1;33m}\u001b[0m\u001b[1;33m\u001b[0m\u001b[1;33m\u001b[0m\u001b[0m\n\u001b[0m\u001b[0;32m      6\u001b[0m \u001b[0mprint\u001b[0m\u001b[1;33m(\u001b[0m\u001b[0ms2\u001b[0m\u001b[1;33m)\u001b[0m\u001b[1;33m\u001b[0m\u001b[1;33m\u001b[0m\u001b[0m\n",
      "\u001b[1;31mTypeError\u001b[0m: unhashable type: 'set'"
     ]
    }
   ],
   "source": [
    "# 1D & 2D set(2d set not possible)\n",
    "s1 = {1,2,3}\n",
    "print(s1)\n",
    "\n",
    "s2 = {1,2,3,{4,5,6}}\n",
    "print(s2)"
   ]
  },
  {
   "cell_type": "code",
   "execution_count": 83,
   "id": "b3c467a3-e3ba-484b-9d5c-1ecc247673a9",
   "metadata": {},
   "outputs": [
    {
     "name": "stdout",
     "output_type": "stream",
     "text": [
      "{1, 4.5, 'hello'}\n"
     ]
    }
   ],
   "source": [
    "# homogeneous\n",
    "s3 = {1,'hello',4.5,True}\n",
    "print(s3)"
   ]
  },
  {
   "cell_type": "code",
   "execution_count": 84,
   "id": "4117db3d-3715-4828-b728-dd57d945204e",
   "metadata": {},
   "outputs": [
    {
     "name": "stdout",
     "output_type": "stream",
     "text": [
      "<class 'set'>\n"
     ]
    }
   ],
   "source": [
    "# using type conversion\n",
    "s4 = set([1,2,3,4])\n",
    "print(type(s4))"
   ]
  },
  {
   "cell_type": "code",
   "execution_count": 85,
   "id": "574ad5a2-0705-4269-ad66-20470247d6da",
   "metadata": {},
   "outputs": [
    {
     "name": "stdout",
     "output_type": "stream",
     "text": [
      "{1, 2, 3, 4, 5}\n"
     ]
    }
   ],
   "source": [
    "# duplicates not allowed\n",
    "s5 = {1,2,3,2,1,4,3,5}\n",
    "print(s5)"
   ]
  },
  {
   "cell_type": "code",
   "execution_count": 86,
   "id": "6ae7b701-3cb6-4972-b1e8-982144da5a84",
   "metadata": {},
   "outputs": [
    {
     "ename": "TypeError",
     "evalue": "unhashable type: 'list'",
     "output_type": "error",
     "traceback": [
      "\u001b[1;31m---------------------------------------------------------------------------\u001b[0m",
      "\u001b[1;31mTypeError\u001b[0m                                 Traceback (most recent call last)",
      "\u001b[1;32m~\\AppData\\Local\\Temp/ipykernel_3252/1109909904.py\u001b[0m in \u001b[0;36m<module>\u001b[1;34m\u001b[0m\n\u001b[0;32m      1\u001b[0m \u001b[1;31m# set can't have mutable items\u001b[0m\u001b[1;33m\u001b[0m\u001b[1;33m\u001b[0m\u001b[0m\n\u001b[1;32m----> 2\u001b[1;33m \u001b[0ms6\u001b[0m \u001b[1;33m=\u001b[0m \u001b[1;33m{\u001b[0m\u001b[1;36m1\u001b[0m\u001b[1;33m,\u001b[0m\u001b[1;36m2\u001b[0m\u001b[1;33m,\u001b[0m\u001b[1;33m[\u001b[0m\u001b[1;36m3\u001b[0m\u001b[1;33m,\u001b[0m\u001b[1;36m4\u001b[0m\u001b[1;33m]\u001b[0m\u001b[1;33m}\u001b[0m\u001b[1;33m\u001b[0m\u001b[1;33m\u001b[0m\u001b[0m\n\u001b[0m\u001b[0;32m      3\u001b[0m \u001b[0mprint\u001b[0m\u001b[1;33m(\u001b[0m\u001b[0ms6\u001b[0m\u001b[1;33m)\u001b[0m\u001b[1;33m\u001b[0m\u001b[1;33m\u001b[0m\u001b[0m\n",
      "\u001b[1;31mTypeError\u001b[0m: unhashable type: 'list'"
     ]
    }
   ],
   "source": [
    "# set can't have mutable items\n",
    "s6 = {1,2,[3,4]}\n",
    "print(s6)"
   ]
  },
  {
   "cell_type": "code",
   "execution_count": 88,
   "id": "8f1fea88-a58a-4cf7-8b36-e945334e00b2",
   "metadata": {},
   "outputs": [
    {
     "name": "stdout",
     "output_type": "stream",
     "text": [
      "True\n"
     ]
    }
   ],
   "source": [
    "# unordered\n",
    "s1 = {1,2,3}\n",
    "s2 = {3,2,1}\n",
    "print(s1 == s2)"
   ]
  },
  {
   "cell_type": "markdown",
   "id": "77cd0d0d-2ade-471a-bcf8-1c076a4b1f6e",
   "metadata": {},
   "source": [
    "### Accessing items"
   ]
  },
  {
   "cell_type": "code",
   "execution_count": 89,
   "id": "27b01bfb-e0c3-45fc-85d3-149339565999",
   "metadata": {},
   "outputs": [],
   "source": [
    "s1 = {1,2,3,4}\n",
    "# accessing items doesn't allowed"
   ]
  },
  {
   "cell_type": "code",
   "execution_count": 90,
   "id": "cbb2c002-9553-4f9c-86a6-a64bb6bd88ab",
   "metadata": {},
   "outputs": [],
   "source": [
    "s1 = {1,2,3,4}\n",
    "# editing items doesn't allowed"
   ]
  },
  {
   "cell_type": "markdown",
   "id": "0b72bd5e-2124-4eb7-b00c-5719d5f0dff7",
   "metadata": {},
   "source": [
    "### Adding items\n"
   ]
  },
  {
   "cell_type": "code",
   "execution_count": 93,
   "id": "ab4c878b-9f9e-4385-959c-8dd774afcfe0",
   "metadata": {},
   "outputs": [
    {
     "name": "stdout",
     "output_type": "stream",
     "text": [
      "{1, 2, 3, 4}\n",
      "{1, 2, 3, 4, 5}\n"
     ]
    }
   ],
   "source": [
    "s = {1,2,3,4}\n",
    "print(s)\n",
    "# adding add only one items at the end\n",
    "s.add(5)\n",
    "print(s)"
   ]
  },
  {
   "cell_type": "code",
   "execution_count": 95,
   "id": "eb97aaae-8cac-4928-8ec5-33947c9b545d",
   "metadata": {},
   "outputs": [
    {
     "name": "stdout",
     "output_type": "stream",
     "text": [
      "{1, 2, 3, 4}\n",
      "{1, 2, 3, 4, 5, 6, 7}\n"
     ]
    }
   ],
   "source": [
    "# update(add multiple items)\n",
    "s = {1,2,3,4}\n",
    "print(s)\n",
    "s.update([5,6,7])\n",
    "print(s)"
   ]
  },
  {
   "cell_type": "markdown",
   "id": "275219ea-2f4d-4193-802c-561d04b2d0e0",
   "metadata": {},
   "source": [
    "### deleting items"
   ]
  },
  {
   "cell_type": "code",
   "execution_count": 110,
   "id": "7d7e66c1-8087-47e8-8d15-2a60290ec5d8",
   "metadata": {},
   "outputs": [
    {
     "name": "stdout",
     "output_type": "stream",
     "text": [
      "{1, 2, 3, 4, 5}\n"
     ]
    },
    {
     "ename": "NameError",
     "evalue": "name 's' is not defined",
     "output_type": "error",
     "traceback": [
      "\u001b[1;31m---------------------------------------------------------------------------\u001b[0m",
      "\u001b[1;31mNameError\u001b[0m                                 Traceback (most recent call last)",
      "\u001b[1;32m~\\AppData\\Local\\Temp/ipykernel_3252/26979391.py\u001b[0m in \u001b[0;36m<module>\u001b[1;34m\u001b[0m\n\u001b[0;32m      3\u001b[0m \u001b[0mprint\u001b[0m\u001b[1;33m(\u001b[0m\u001b[0ms\u001b[0m\u001b[1;33m)\u001b[0m\u001b[1;33m\u001b[0m\u001b[1;33m\u001b[0m\u001b[0m\n\u001b[0;32m      4\u001b[0m \u001b[1;32mdel\u001b[0m \u001b[0ms\u001b[0m\u001b[1;33m\u001b[0m\u001b[1;33m\u001b[0m\u001b[0m\n\u001b[1;32m----> 5\u001b[1;33m \u001b[0mprint\u001b[0m\u001b[1;33m(\u001b[0m\u001b[0ms\u001b[0m\u001b[1;33m)\u001b[0m\u001b[1;33m\u001b[0m\u001b[1;33m\u001b[0m\u001b[0m\n\u001b[0m",
      "\u001b[1;31mNameError\u001b[0m: name 's' is not defined"
     ]
    }
   ],
   "source": [
    "# del( we can delete whole set not a specific data\n",
    "s = {1,2,3,4,5}\n",
    "print(s)\n",
    "del s\n",
    "print(s)\n"
   ]
  },
  {
   "cell_type": "code",
   "execution_count": 107,
   "id": "d54a5570-2ef4-4a8b-ade5-c436d3917ab8",
   "metadata": {},
   "outputs": [
    {
     "name": "stdout",
     "output_type": "stream",
     "text": [
      "{1, 2, 3, 4, 5}\n",
      "{1, 2, 3, 4}\n"
     ]
    }
   ],
   "source": [
    "# discard(it helps to delete a specific data)\n",
    "s = {1,2,3,4,5}\n",
    "print(s)\n",
    "s.discard(5)\n",
    "print(s)"
   ]
  },
  {
   "cell_type": "code",
   "execution_count": 108,
   "id": "6ea4dfcb-86bd-4425-a6c5-ce5b53330908",
   "metadata": {},
   "outputs": [
    {
     "name": "stdout",
     "output_type": "stream",
     "text": [
      "{1, 2, 3, 4, 5}\n",
      "{1, 2, 3, 5}\n"
     ]
    }
   ],
   "source": [
    "# remove\n",
    "s = {1,2,3,4,5}\n",
    "print(s)\n",
    "s.remove(4)\n",
    "print(s)"
   ]
  },
  {
   "cell_type": "code",
   "execution_count": 109,
   "id": "9929d7c6-e5a1-4bc0-b54e-f6229368da35",
   "metadata": {},
   "outputs": [
    {
     "name": "stdout",
     "output_type": "stream",
     "text": [
      "{1, 2, 3, 4, 5}\n"
     ]
    },
    {
     "data": {
      "text/plain": [
       "1"
      ]
     },
     "execution_count": 109,
     "metadata": {},
     "output_type": "execute_result"
    }
   ],
   "source": [
    "# pop (delete any item rendomely)\n",
    "s = {1,2,3,4,5}\n",
    "print(s)\n",
    "s.pop()"
   ]
  },
  {
   "cell_type": "code",
   "execution_count": 112,
   "id": "3465064c-228e-4b1d-9c00-28fb8e64d52f",
   "metadata": {},
   "outputs": [
    {
     "name": "stdout",
     "output_type": "stream",
     "text": [
      "{1, 2, 3, 4, 5}\n",
      "set()\n"
     ]
    }
   ],
   "source": [
    "# clear(clear all the data from set)\n",
    "s = {1,2,3,4,5}\n",
    "print(s)\n",
    "s.clear()\n",
    "print(s)"
   ]
  },
  {
   "cell_type": "markdown",
   "id": "5e5064f4-6733-47d4-af7f-020dfc79244b",
   "metadata": {},
   "source": [
    "### set operation"
   ]
  },
  {
   "cell_type": "code",
   "execution_count": 113,
   "id": "715742a0-4304-45ab-b437-01bba56abb2b",
   "metadata": {},
   "outputs": [
    {
     "data": {
      "text/plain": [
       "{1, 2, 3, 4, 5, 6, 7, 8}"
      ]
     },
     "execution_count": 113,
     "metadata": {},
     "output_type": "execute_result"
    }
   ],
   "source": [
    "s1 = {1,2,3,4,5}\n",
    "s2 = {4,5,6,7,8}\n",
    "\n",
    "# unicode(|)\n",
    "s1 | s2"
   ]
  },
  {
   "cell_type": "code",
   "execution_count": 115,
   "id": "4446c788-a76f-46c8-b2e8-0bb8bbed52ac",
   "metadata": {},
   "outputs": [
    {
     "data": {
      "text/plain": [
       "{4, 5}"
      ]
     },
     "execution_count": 115,
     "metadata": {},
     "output_type": "execute_result"
    }
   ],
   "source": [
    "# intersection(&)\n",
    "s1& s2"
   ]
  },
  {
   "cell_type": "code",
   "execution_count": 117,
   "id": "b171f18f-41a2-40b0-bbcb-04f9566c0322",
   "metadata": {},
   "outputs": [
    {
     "data": {
      "text/plain": [
       "{1, 2, 3}"
      ]
     },
     "execution_count": 117,
     "metadata": {},
     "output_type": "execute_result"
    }
   ],
   "source": [
    "# difference(-)\n",
    "s1 - s2"
   ]
  },
  {
   "cell_type": "code",
   "execution_count": 119,
   "id": "f2820152-75cf-411a-bc23-2f02803b829f",
   "metadata": {},
   "outputs": [
    {
     "data": {
      "text/plain": [
       "{6, 7, 8}"
      ]
     },
     "execution_count": 119,
     "metadata": {},
     "output_type": "execute_result"
    }
   ],
   "source": [
    "s2 - s1"
   ]
  },
  {
   "cell_type": "code",
   "execution_count": 118,
   "id": "ed3dbf88-14af-4690-8945-7c2dc5a7cf27",
   "metadata": {},
   "outputs": [
    {
     "data": {
      "text/plain": [
       "{1, 2, 3, 6, 7, 8}"
      ]
     },
     "execution_count": 118,
     "metadata": {},
     "output_type": "execute_result"
    }
   ],
   "source": [
    "# symnetric defference(^)\n",
    "s1 ^ s2"
   ]
  },
  {
   "cell_type": "code",
   "execution_count": 120,
   "id": "225c4274-456e-48c0-a760-a3e54343ac5d",
   "metadata": {},
   "outputs": [
    {
     "data": {
      "text/plain": [
       "True"
      ]
     },
     "execution_count": 120,
     "metadata": {},
     "output_type": "execute_result"
    }
   ],
   "source": [
    "# membership test\n",
    "1 in s1"
   ]
  },
  {
   "cell_type": "code",
   "execution_count": 121,
   "id": "127e7009-10ea-47d4-bb63-49dd8d68e1a6",
   "metadata": {},
   "outputs": [
    {
     "data": {
      "text/plain": [
       "False"
      ]
     },
     "execution_count": 121,
     "metadata": {},
     "output_type": "execute_result"
    }
   ],
   "source": [
    "1 in s2"
   ]
  },
  {
   "cell_type": "code",
   "execution_count": 122,
   "id": "140c3d0f-e588-4e07-b71f-b0dc196060e0",
   "metadata": {},
   "outputs": [
    {
     "name": "stdout",
     "output_type": "stream",
     "text": [
      "1\n",
      "2\n",
      "3\n",
      "4\n",
      "5\n"
     ]
    }
   ],
   "source": [
    "# iteration\n",
    "for i in s1:\n",
    "    print(i)"
   ]
  },
  {
   "cell_type": "code",
   "execution_count": 132,
   "id": "4789c61a-1801-4131-8dfe-b5260ab4fca5",
   "metadata": {},
   "outputs": [
    {
     "name": "stdout",
     "output_type": "stream",
     "text": [
      "6\n",
      "22\n",
      "1\n",
      "7\n",
      "[1, 2, 3, 4, 5, 7]\n"
     ]
    },
    {
     "data": {
      "text/plain": [
       "[7, 5, 4, 3, 2, 1]"
      ]
     },
     "execution_count": 132,
     "metadata": {},
     "output_type": "execute_result"
    }
   ],
   "source": [
    "# len/sum/min/max/sorted\n",
    "s1 = {3,1,4,5,2,7}\n",
    "print(len(s1))\n",
    "print(sum(s1))\n",
    "print(min(s1))\n",
    "print(max(s1))\n",
    "print(sorted(s1))\n",
    "# for reverse sorted use 'reverse = True'\n",
    "sorted(s1,reverse=True)"
   ]
  },
  {
   "cell_type": "code",
   "execution_count": 133,
   "id": "61a5f9ca-8e26-4500-bd0f-3fcf6bc37c3a",
   "metadata": {},
   "outputs": [
    {
     "data": {
      "text/plain": [
       "{1, 2, 3, 4, 5}"
      ]
     },
     "execution_count": 133,
     "metadata": {},
     "output_type": "execute_result"
    }
   ],
   "source": [
    "# union / update\n",
    "s1 = {1,2,3,4,5}\n",
    "s2 = {4,5,6,7,8}\n",
    "s1.union(s1)"
   ]
  },
  {
   "cell_type": "code",
   "execution_count": 134,
   "id": "9e994cfb-976c-4e81-b2ef-e638a29eb7cc",
   "metadata": {},
   "outputs": [
    {
     "name": "stdout",
     "output_type": "stream",
     "text": [
      "{1, 2, 3, 4, 5, 6, 7, 8}\n",
      "{4, 5, 6, 7, 8}\n"
     ]
    }
   ],
   "source": [
    "s1 = {1,2,3,4,5}\n",
    "s2 = {4,5,6,7,8}\n",
    "s1.update(s2)\n",
    "print(s1)\n",
    "print(s2)"
   ]
  },
  {
   "cell_type": "code",
   "execution_count": 136,
   "id": "40fe46fd-6acb-47e5-9568-ffed4f48b14f",
   "metadata": {},
   "outputs": [
    {
     "name": "stdout",
     "output_type": "stream",
     "text": [
      "{4, 5}\n",
      "{4, 5, 6, 7, 8}\n"
     ]
    }
   ],
   "source": [
    "# intersection/intersection_update\n",
    "s1 = {1,2,3,4,5}\n",
    "s2 = {4,5,6,7,8}\n",
    "\n",
    "s1.intersection(s2)\n",
    "\n",
    "s1.intersection_update(s2)\n",
    "print(s1)\n",
    "print(s2)"
   ]
  },
  {
   "cell_type": "code",
   "execution_count": 137,
   "id": "01c7b629-39cc-4cf3-9a1a-5c2aa900f6de",
   "metadata": {},
   "outputs": [
    {
     "name": "stdout",
     "output_type": "stream",
     "text": [
      "{1, 2, 3}\n",
      "{4, 5, 6, 7, 8}\n"
     ]
    }
   ],
   "source": [
    "# difference / difference_update\n",
    "s1 = {1,2,3,4,5}\n",
    "s2 = {4,5,6,7,8}\n",
    "\n",
    "s1.difference(s2)\n",
    "\n",
    "s1.difference_update(s2)\n",
    "print(s1)\n",
    "print(s2)"
   ]
  },
  {
   "cell_type": "code",
   "execution_count": 138,
   "id": "7da57d73-fa06-477f-8fb9-b94c29658717",
   "metadata": {},
   "outputs": [
    {
     "name": "stdout",
     "output_type": "stream",
     "text": [
      "{1, 2, 3, 6, 7, 8}\n",
      "{4, 5, 6, 7, 8}\n"
     ]
    }
   ],
   "source": [
    "# symmetric_difference / symmetric_difference_update\n",
    "s1 = {1,2,3,4,5}\n",
    "s2 = {4,5,6,7,8}\n",
    "\n",
    "s1.symmetric_difference(s2)\n",
    "\n",
    "s1.symmetric_difference_update(s2)\n",
    "print(s1)\n",
    "print(s2)"
   ]
  },
  {
   "cell_type": "code",
   "execution_count": 139,
   "id": "1b3e28d7-d7f6-4b27-8e4a-92eb6cfea146",
   "metadata": {},
   "outputs": [
    {
     "data": {
      "text/plain": [
       "False"
      ]
     },
     "execution_count": 139,
     "metadata": {},
     "output_type": "execute_result"
    }
   ],
   "source": [
    "# isdisjoint/issubset/issuperset\n",
    "s1 = {1,2,3,4}\n",
    "s2  = {3,4,5,6}\n",
    "\n",
    "s1.isdisjoint(s2)"
   ]
  },
  {
   "cell_type": "code",
   "execution_count": 140,
   "id": "d3001cfe-5b78-48dd-8908-06e02f326ff0",
   "metadata": {},
   "outputs": [
    {
     "data": {
      "text/plain": [
       "True"
      ]
     },
     "execution_count": 140,
     "metadata": {},
     "output_type": "execute_result"
    }
   ],
   "source": [
    "s1 = {1,2,3,4}\n",
    "s2  = {5,6,7,8}\n",
    "\n",
    "s1.isdisjoint(s2)"
   ]
  },
  {
   "cell_type": "code",
   "execution_count": 141,
   "id": "4efb42e4-1aaa-45b4-b770-40ca5533ab62",
   "metadata": {},
   "outputs": [
    {
     "data": {
      "text/plain": [
       "True"
      ]
     },
     "execution_count": 141,
     "metadata": {},
     "output_type": "execute_result"
    }
   ],
   "source": [
    "s1 = {1,2,3,4,5}\n",
    "s2 = {3,4,5}\n",
    "\n",
    "s2.issubset(s1)"
   ]
  },
  {
   "cell_type": "code",
   "execution_count": 142,
   "id": "dc430864-bd4d-4ea7-8bf8-9c82c62ed12d",
   "metadata": {},
   "outputs": [
    {
     "data": {
      "text/plain": [
       "False"
      ]
     },
     "execution_count": 142,
     "metadata": {},
     "output_type": "execute_result"
    }
   ],
   "source": [
    "s1 = {1,2,3,4,5}\n",
    "s2 = {3,4,5}\n",
    "\n",
    "s1.issubset(s2)"
   ]
  },
  {
   "cell_type": "code",
   "execution_count": 144,
   "id": "e65605bd-26c2-4158-97c1-7beb7f1e9ba0",
   "metadata": {},
   "outputs": [
    {
     "data": {
      "text/plain": [
       "False"
      ]
     },
     "execution_count": 144,
     "metadata": {},
     "output_type": "execute_result"
    }
   ],
   "source": [
    "s1 = {1,2,3,4,5}\n",
    "s2 = {3,4,5}\n",
    "\n",
    "s2.issuperset(s1)"
   ]
  },
  {
   "cell_type": "code",
   "execution_count": 145,
   "id": "02147a64-e4d3-4bb4-8a9c-e9e23a2a7d42",
   "metadata": {},
   "outputs": [
    {
     "data": {
      "text/plain": [
       "True"
      ]
     },
     "execution_count": 145,
     "metadata": {},
     "output_type": "execute_result"
    }
   ],
   "source": [
    "s1 = {1,2,3,4,5}\n",
    "s2 = {3,4,5}\n",
    "\n",
    "s1.issuperset(s2)"
   ]
  },
  {
   "cell_type": "code",
   "execution_count": 147,
   "id": "1f1d11a9-ae52-4f90-99ac-ac0e06627116",
   "metadata": {},
   "outputs": [
    {
     "name": "stdout",
     "output_type": "stream",
     "text": [
      "{1, 2, 3}\n",
      "{1, 2, 3}\n",
      "2278078655616\n",
      "2278078655840\n"
     ]
    }
   ],
   "source": [
    "# copy\n",
    "s1 = {1,2,3}\n",
    "s2 = s1.copy()\n",
    "\n",
    "print(s1)\n",
    "print(s2)\n",
    "print(id(s1))\n",
    "print(id(s2))"
   ]
  },
  {
   "cell_type": "markdown",
   "id": "7df8e41d-107f-472a-8e8f-d4f81f249fbd",
   "metadata": {},
   "source": [
    "### Frozenset\n",
    "Frozen set is just an immutable version of a Python set object"
   ]
  },
  {
   "cell_type": "code",
   "execution_count": 148,
   "id": "cd988f52-1c15-48a4-8736-bf3a5c7b81c7",
   "metadata": {},
   "outputs": [
    {
     "data": {
      "text/plain": [
       "frozenset({1, 2, 3})"
      ]
     },
     "execution_count": 148,
     "metadata": {},
     "output_type": "execute_result"
    }
   ],
   "source": [
    "# create frozenset\n",
    "fs = frozenset([1,2,3])\n",
    "fs"
   ]
  },
  {
   "cell_type": "code",
   "execution_count": 151,
   "id": "e5dc1708-9433-4aef-acd4-fa1d43dca374",
   "metadata": {},
   "outputs": [],
   "source": [
    "# what works and what does not\n",
    "# :- works -> all read functions\n",
    "# :- does't work -> write operations"
   ]
  },
  {
   "cell_type": "code",
   "execution_count": 152,
   "id": "80f4d20a-ed35-4635-b8a1-12751817bfbb",
   "metadata": {},
   "outputs": [
    {
     "data": {
      "text/plain": [
       "frozenset({1, 2, frozenset({3, 4})})"
      ]
     },
     "execution_count": 152,
     "metadata": {},
     "output_type": "execute_result"
    }
   ],
   "source": [
    "# when to use \n",
    "# 2D frozen sets are possible\n",
    "fs = frozenset([1,2,frozenset([3,4])])\n",
    "fs"
   ]
  },
  {
   "cell_type": "markdown",
   "id": "d2e38238-99ba-4dbb-991c-6793e7c7fdfe",
   "metadata": {},
   "source": [
    "### set comprehension"
   ]
  },
  {
   "cell_type": "code",
   "execution_count": 154,
   "id": "d44aeef0-0f12-4d7d-a66f-03851af345fe",
   "metadata": {},
   "outputs": [
    {
     "data": {
      "text/plain": [
       "{1, 2, 3, 4, 5, 6, 7, 8, 9, 10}"
      ]
     },
     "execution_count": 154,
     "metadata": {},
     "output_type": "execute_result"
    }
   ],
   "source": [
    "# example\n",
    "\n",
    "{i for i in range(1,11)}"
   ]
  },
  {
   "cell_type": "code",
   "execution_count": 155,
   "id": "323da0e0-fdf2-467f-812b-8ecb37da20d2",
   "metadata": {},
   "outputs": [
    {
     "data": {
      "text/plain": [
       "{6, 7, 8, 9, 10}"
      ]
     },
     "execution_count": 155,
     "metadata": {},
     "output_type": "execute_result"
    }
   ],
   "source": [
    "{i for i in range(1,11) if i>5}"
   ]
  },
  {
   "cell_type": "markdown",
   "id": "7cfcb90f-a53b-4967-adc1-e506575b76ec",
   "metadata": {},
   "source": [
    "# Dictionary\n",
    "\n",
    "Dictionary in Python is a collection of keys values, used to store data values like a map, which, unlike other data types which hold only a single value as an element.\n",
    "\n",
    "In some languages it is known as map or assosiative arrays.\n",
    "\n",
    "dict = { 'name' : 'parinav' , 'age' : 20 , 'gender' : 'male' }\n",
    "\n",
    "Characterstics:\n",
    "\n",
    "- Mutable\n",
    "- Indexing has no meaning\n",
    "- keys can't be duplicated\n",
    "- keys can't be mutable items"
   ]
  },
  {
   "cell_type": "markdown",
   "id": "a55f7c9c-1256-49d3-9be0-abacfc378d01",
   "metadata": {},
   "source": [
    "### create dictionary"
   ]
  },
  {
   "cell_type": "code",
   "execution_count": 157,
   "id": "7cdf7954-3a73-4327-bb26-b45a987af48c",
   "metadata": {},
   "outputs": [
    {
     "data": {
      "text/plain": [
       "{}"
      ]
     },
     "execution_count": 157,
     "metadata": {},
     "output_type": "execute_result"
    }
   ],
   "source": [
    "# empty dict\n",
    "d = {}\n",
    "d"
   ]
  },
  {
   "cell_type": "code",
   "execution_count": 159,
   "id": "acded673-620d-401a-bb5d-586d56cca5cf",
   "metadata": {},
   "outputs": [
    {
     "data": {
      "text/plain": [
       "{'name': 'parinav', 'gender': 'male'}"
      ]
     },
     "execution_count": 159,
     "metadata": {},
     "output_type": "execute_result"
    }
   ],
   "source": [
    "# 1D dict( it is homogenous)\n",
    "d1 = {'name':'parinav','gender':'male'}\n",
    "d1"
   ]
  },
  {
   "cell_type": "code",
   "execution_count": 160,
   "id": "94d61c9f-cf07-4e8e-bffe-1f06a5d63909",
   "metadata": {},
   "outputs": [
    {
     "data": {
      "text/plain": [
       "{(1, 2, 3): 1, 'hello': 'world'}"
      ]
     },
     "execution_count": 160,
     "metadata": {},
     "output_type": "execute_result"
    }
   ],
   "source": [
    "# with mixed keys\n",
    "d2 = {(1,2,3):1,'hello':'world'}\n",
    "d2"
   ]
  },
  {
   "cell_type": "code",
   "execution_count": 162,
   "id": "de1cda47-ded7-4a93-a0d2-e9f91c9dc726",
   "metadata": {},
   "outputs": [
    {
     "data": {
      "text/plain": [
       "{'name': 'parinav',\n",
       " 'college': 'lnct',\n",
       " 'sex': 'male',\n",
       " 'subject': {'python': 50, 'sql': 70, 'time_series': 60}}"
      ]
     },
     "execution_count": 162,
     "metadata": {},
     "output_type": "execute_result"
    }
   ],
   "source": [
    "# 2D dict -> JSON\n",
    "s = {\n",
    "    'name':'parinav',\n",
    "    'college':'lnct',\n",
    "    'sex':'male',\n",
    "    'subject':{\n",
    "        'python':50,\n",
    "        'sql':70,\n",
    "        'time_series':60\n",
    "    }\n",
    "}\n",
    "s"
   ]
  },
  {
   "cell_type": "code",
   "execution_count": 163,
   "id": "a9e7d79e-535f-4725-9c85-44b074f3d932",
   "metadata": {},
   "outputs": [
    {
     "data": {
      "text/plain": [
       "{1: 1, 2: 2, 3: 3, 4: 4}"
      ]
     },
     "execution_count": 163,
     "metadata": {},
     "output_type": "execute_result"
    }
   ],
   "source": [
    "# using sequence and dict function\n",
    "d4 = dict([(1,1),(2,2),(3,3),(4,4)])\n",
    "d4"
   ]
  },
  {
   "cell_type": "code",
   "execution_count": 166,
   "id": "def1d369-1d2f-4f64-83ce-b958e805f555",
   "metadata": {},
   "outputs": [
    {
     "data": {
      "text/plain": [
       "{'name': 'rupesh'}"
      ]
     },
     "execution_count": 166,
     "metadata": {},
     "output_type": "execute_result"
    }
   ],
   "source": [
    "# duplicate keys(not allowed)\n",
    "d5 = {'name':'parinav','name':'rupesh'}\n",
    "d5"
   ]
  },
  {
   "cell_type": "code",
   "execution_count": 167,
   "id": "dde226b3-5201-413e-9fc7-262cab4a6666",
   "metadata": {},
   "outputs": [
    {
     "ename": "TypeError",
     "evalue": "unhashable type: 'list'",
     "output_type": "error",
     "traceback": [
      "\u001b[1;31m---------------------------------------------------------------------------\u001b[0m",
      "\u001b[1;31mTypeError\u001b[0m                                 Traceback (most recent call last)",
      "\u001b[1;32m~\\AppData\\Local\\Temp/ipykernel_3252/166703871.py\u001b[0m in \u001b[0;36m<module>\u001b[1;34m\u001b[0m\n\u001b[0;32m      1\u001b[0m \u001b[1;31m# mutable items as keys\u001b[0m\u001b[1;33m\u001b[0m\u001b[1;33m\u001b[0m\u001b[0m\n\u001b[1;32m----> 2\u001b[1;33m \u001b[0md6\u001b[0m \u001b[1;33m=\u001b[0m \u001b[1;33m{\u001b[0m\u001b[1;34m'name'\u001b[0m\u001b[1;33m:\u001b[0m\u001b[1;34m'parinav'\u001b[0m\u001b[1;33m,\u001b[0m\u001b[1;33m[\u001b[0m\u001b[1;36m1\u001b[0m\u001b[1;33m,\u001b[0m\u001b[1;36m2\u001b[0m\u001b[1;33m,\u001b[0m\u001b[1;36m3\u001b[0m\u001b[1;33m]\u001b[0m\u001b[1;33m:\u001b[0m\u001b[1;36m2\u001b[0m\u001b[1;33m}\u001b[0m\u001b[1;33m\u001b[0m\u001b[1;33m\u001b[0m\u001b[0m\n\u001b[0m",
      "\u001b[1;31mTypeError\u001b[0m: unhashable type: 'list'"
     ]
    }
   ],
   "source": [
    "# mutable items as keys\n",
    "d6 = {'name':'parinav',[1,2,3]:2}"
   ]
  },
  {
   "cell_type": "code",
   "execution_count": 170,
   "id": "b503c8b5-c87c-4757-a2ce-76078eb20bef",
   "metadata": {},
   "outputs": [
    {
     "data": {
      "text/plain": [
       "{'name': 'parinav', (1, 2, 3): 2}"
      ]
     },
     "execution_count": 170,
     "metadata": {},
     "output_type": "execute_result"
    }
   ],
   "source": [
    "d6 = {'name':'parinav',(1,2,3):2}\n",
    "d6"
   ]
  },
  {
   "cell_type": "markdown",
   "id": "d5902155-0390-4041-a974-7d77b507b2ef",
   "metadata": {},
   "source": [
    "### Accessing items"
   ]
  },
  {
   "cell_type": "code",
   "execution_count": 171,
   "id": "1c151077-1f41-40ce-93cc-3fafca9564b5",
   "metadata": {},
   "outputs": [
    {
     "data": {
      "text/plain": [
       "'parinav'"
      ]
     },
     "execution_count": 171,
     "metadata": {},
     "output_type": "execute_result"
    }
   ],
   "source": [
    "my_dict = {'name':'parinav','age':'20'}\n",
    "# []\n",
    "# get\n",
    "my_dict['name']"
   ]
  },
  {
   "cell_type": "code",
   "execution_count": 172,
   "id": "a476ec26-f1dc-4157-8577-77b59b9e7592",
   "metadata": {},
   "outputs": [
    {
     "data": {
      "text/plain": [
       "'20'"
      ]
     },
     "execution_count": 172,
     "metadata": {},
     "output_type": "execute_result"
    }
   ],
   "source": [
    "my_dict.get('age')"
   ]
  },
  {
   "cell_type": "markdown",
   "id": "8018f9af-7899-4307-9da3-8ee29681b2f5",
   "metadata": {},
   "source": [
    "### Adding key-value pair"
   ]
  },
  {
   "cell_type": "code",
   "execution_count": 183,
   "id": "d006c559-ac97-471a-b22a-3306518d41a8",
   "metadata": {},
   "outputs": [
    {
     "name": "stdout",
     "output_type": "stream",
     "text": [
      "{'name': 'parinav', 'age': 20}\n",
      "{'name': 'parinav', 'age': 20, 'gender': 'male'}\n"
     ]
    },
    {
     "data": {
      "text/plain": [
       "{'name': 'parinav', 'age': 20, 'gender': 'male', 'weight': '60kg'}"
      ]
     },
     "execution_count": 183,
     "metadata": {},
     "output_type": "execute_result"
    }
   ],
   "source": [
    "d7 = {'name':'parinav','age':20}\n",
    "print(d7)\n",
    "d7['gender'] = 'male'\n",
    "print(d7)\n",
    "d7['weight'] = '60kg'\n",
    "d7"
   ]
  },
  {
   "cell_type": "markdown",
   "id": "af2e1593-400c-41a6-b08f-415c1ac2e2fb",
   "metadata": {},
   "source": [
    "### Remove key-value pair"
   ]
  },
  {
   "cell_type": "code",
   "execution_count": 191,
   "id": "81a36253-7673-4fba-ade6-d06154a18d4b",
   "metadata": {},
   "outputs": [
    {
     "name": "stdout",
     "output_type": "stream",
     "text": [
      "{'name': 'parinav', 'age': 20, 'gender': 'male', 'weight': '60kg'}\n",
      "{'name': 'parinav', 'gender': 'male', 'weight': '60kg'}\n"
     ]
    }
   ],
   "source": [
    "# pop\n",
    "d8 = {'name': 'parinav', 'age': 20, 'gender': 'male', 'weight': '60kg'}\n",
    "print(d8)\n",
    "\n",
    "\n",
    "d8.pop('age')\n",
    "print(d8)"
   ]
  },
  {
   "cell_type": "code",
   "execution_count": 192,
   "id": "ea95ee86-7fee-4d52-bf76-7f1721e4e43f",
   "metadata": {},
   "outputs": [
    {
     "name": "stdout",
     "output_type": "stream",
     "text": [
      "{'name': 'parinav', 'gender': 'male'}\n"
     ]
    }
   ],
   "source": [
    "# popitems(delete last key-pair)\n",
    "d8.popitem()\n",
    "print(d8)"
   ]
  },
  {
   "cell_type": "code",
   "execution_count": 193,
   "id": "d61ee607-78cf-48bc-a0cd-71fb7be1e00c",
   "metadata": {},
   "outputs": [
    {
     "name": "stdout",
     "output_type": "stream",
     "text": [
      "{'gender': 'male'}\n"
     ]
    }
   ],
   "source": [
    "# del\n",
    "del d8['name']\n",
    "print(d8)"
   ]
  },
  {
   "cell_type": "code",
   "execution_count": 194,
   "id": "22db7743-0e0e-4ae0-95e8-f58b29b06b3a",
   "metadata": {},
   "outputs": [
    {
     "name": "stdout",
     "output_type": "stream",
     "text": [
      "{}\n"
     ]
    }
   ],
   "source": [
    "# clear\n",
    "d8.clear()\n",
    "print(d8)"
   ]
  },
  {
   "cell_type": "code",
   "execution_count": 196,
   "id": "a5d16e16-a505-4af2-ba23-7180cb45befa",
   "metadata": {},
   "outputs": [
    {
     "data": {
      "text/plain": [
       "{'name': 'parinav',\n",
       " 'college': 'lnct',\n",
       " 'sex': 'male',\n",
       " 'subject': {'python': 50, 'sql': 70, 'time_series': 60}}"
      ]
     },
     "execution_count": 196,
     "metadata": {},
     "output_type": "execute_result"
    }
   ],
   "source": [
    "# fetching/accessing\n",
    "s"
   ]
  },
  {
   "cell_type": "code",
   "execution_count": 197,
   "id": "57fa04a5-69fa-4d73-904b-883877945147",
   "metadata": {},
   "outputs": [
    {
     "data": {
      "text/plain": [
       "70"
      ]
     },
     "execution_count": 197,
     "metadata": {},
     "output_type": "execute_result"
    }
   ],
   "source": [
    "s['subject']['sql']"
   ]
  },
  {
   "cell_type": "markdown",
   "id": "a0ff4c45-717d-48c2-ac22-ea6717b3c127",
   "metadata": {},
   "source": [
    "### Adding key-value pair"
   ]
  },
  {
   "cell_type": "code",
   "execution_count": 202,
   "id": "4377ece8-5f53-482f-9fa3-84d371567cf3",
   "metadata": {},
   "outputs": [
    {
     "name": "stdout",
     "output_type": "stream",
     "text": [
      "{'name': 'parinav', 'college': 'lnct', 'sex': 'male', 'subject': {'python': 50, 'sql': 70, 'time_series': 60, 'finance': 77}, 'sem': '5th'}\n"
     ]
    },
    {
     "data": {
      "text/plain": [
       "{'name': 'parinav',\n",
       " 'college': 'lnct',\n",
       " 'sex': 'male',\n",
       " 'subject': {'python': 50, 'sql': 70, 'time_series': 60, 'finance': 77},\n",
       " 'sem': '5th'}"
      ]
     },
     "execution_count": 202,
     "metadata": {},
     "output_type": "execute_result"
    }
   ],
   "source": [
    "s['subject']['finance'] = 77\n",
    "print(s)\n",
    "s['sem'] = '5th'\n",
    "s"
   ]
  },
  {
   "cell_type": "markdown",
   "id": "1377f976-6acd-49da-8b69-9ad3cf16f1f5",
   "metadata": {},
   "source": [
    "### Editing key-value pair"
   ]
  },
  {
   "cell_type": "code",
   "execution_count": 204,
   "id": "8c8ae971-929c-45b8-ad5e-1f2188691766",
   "metadata": {},
   "outputs": [
    {
     "data": {
      "text/plain": [
       "{'name': 'parinav',\n",
       " 'college': 'lnct',\n",
       " 'sex': 'male',\n",
       " 'subject': {'python': 50, 'sql': 70, 'time_series': 60, 'finance': 77},\n",
       " 'sem': '6th'}"
      ]
     },
     "execution_count": 204,
     "metadata": {},
     "output_type": "execute_result"
    }
   ],
   "source": [
    "s['sem'] = '6th'\n",
    "s"
   ]
  },
  {
   "cell_type": "code",
   "execution_count": 206,
   "id": "4a82f599-bc70-4518-b45a-3acd095ada3a",
   "metadata": {},
   "outputs": [
    {
     "data": {
      "text/plain": [
       "{'name': 'parinav',\n",
       " 'college': 'lnct',\n",
       " 'sex': 'male',\n",
       " 'subject': {'python': 80, 'sql': 70, 'time_series': 60, 'finance': 77},\n",
       " 'sem': '6th'}"
      ]
     },
     "execution_count": 206,
     "metadata": {},
     "output_type": "execute_result"
    }
   ],
   "source": [
    "s['subject']['python'] = 80\n",
    "s"
   ]
  },
  {
   "cell_type": "markdown",
   "id": "984cee69-ee5e-4bf8-8029-70748effaf2f",
   "metadata": {},
   "source": [
    "### dictionary operations"
   ]
  },
  {
   "cell_type": "code",
   "execution_count": 207,
   "id": "a5c86065-99dc-4e24-bfdc-bdeeef376fd8",
   "metadata": {},
   "outputs": [],
   "source": [
    "# membership\n",
    "# iteration"
   ]
  },
  {
   "cell_type": "code",
   "execution_count": 209,
   "id": "c1454329-ea30-4ca4-a36f-a497accf4c4d",
   "metadata": {},
   "outputs": [
    {
     "name": "stdout",
     "output_type": "stream",
     "text": [
      "{'name': 'parinav', 'college': 'lnct', 'sex': 'male', 'subject': {'python': 80, 'sql': 70, 'time_series': 60, 'finance': 77}, 'sem': '6th'}\n"
     ]
    },
    {
     "data": {
      "text/plain": [
       "True"
      ]
     },
     "execution_count": 209,
     "metadata": {},
     "output_type": "execute_result"
    }
   ],
   "source": [
    "print(s)\n",
    "# to check membership give key as input not values\n",
    "'sex' in s"
   ]
  },
  {
   "cell_type": "code",
   "execution_count": 216,
   "id": "7147b82d-f787-4813-984e-7bf6ff798915",
   "metadata": {},
   "outputs": [
    {
     "name": "stdout",
     "output_type": "stream",
     "text": [
      "name\n",
      "gender\n",
      "age\n",
      "********************\n",
      "name parinav\n",
      "gender male\n",
      "age 19\n"
     ]
    }
   ],
   "source": [
    "d = {'name':'parinav','gender':'male','age':'19'}\n",
    "\n",
    "for i in d: # for getting key \n",
    "    print(i)\n",
    "print(20*'*')   \n",
    "for i in d:\n",
    "    print(i,d[i])"
   ]
  },
  {
   "cell_type": "markdown",
   "id": "08747cb3-d1bc-4471-8741-e3a78b144c0b",
   "metadata": {},
   "source": [
    "### dict functions"
   ]
  },
  {
   "cell_type": "code",
   "execution_count": 221,
   "id": "840932dc-9f4f-4eb2-9507-084472947cde",
   "metadata": {},
   "outputs": [
    {
     "name": "stdout",
     "output_type": "stream",
     "text": [
      "{'name': 'parinav', 'gender': 'male', 'age': '19'}\n",
      "3\n",
      "['age', 'gender', 'name']\n",
      "['name', 'gender', 'age']\n",
      "age\n",
      "name\n"
     ]
    }
   ],
   "source": [
    "# len / sorted/ min / max\n",
    "print(d)\n",
    "print(len(d))\n",
    "print(sorted(d))\n",
    "print(sorted(d,reverse = True))\n",
    "print(min(d))\n",
    "print(max(d))"
   ]
  },
  {
   "cell_type": "code",
   "execution_count": 223,
   "id": "d0848f3c-80a9-4f42-9785-32fcc067b67a",
   "metadata": {},
   "outputs": [
    {
     "name": "stdout",
     "output_type": "stream",
     "text": [
      "{'name': 'parinav', 'gender': 'male', 'age': '19'}\n",
      "dict_items([('name', 'parinav'), ('gender', 'male'), ('age', '19')])\n",
      "dict_keys(['name', 'gender', 'age'])\n",
      "dict_values(['parinav', 'male', '19'])\n"
     ]
    }
   ],
   "source": [
    "# items/keys/values\n",
    "print(d)\n",
    "print(d.items()) # it displays data into tuple form\n",
    "print(d.keys()) \n",
    "print(d.values())"
   ]
  },
  {
   "cell_type": "code",
   "execution_count": 227,
   "id": "c012d72d-cfe8-4db0-8250-a15addf989c5",
   "metadata": {},
   "outputs": [
    {
     "name": "stdout",
     "output_type": "stream",
     "text": [
      "None\n",
      "{1: 2, 3: 4, 4: 7, 6: 3}\n"
     ]
    }
   ],
   "source": [
    "# update\n",
    "d1 = {1:2,3:4,4:5}\n",
    "d2 = {4:7,6:3}\n",
    "\n",
    "print(d1.update(d2))\n",
    "print(d1)"
   ]
  },
  {
   "cell_type": "markdown",
   "id": "9ab31408-b544-40d4-9c7b-eee20bdee194",
   "metadata": {},
   "source": [
    "### Dictionary Comprehension\n",
    "![image.png](data:image/png;base64,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)"
   ]
  },
  {
   "cell_type": "code",
   "execution_count": 228,
   "id": "31838e1f-d540-40a7-879c-5a7ab78d6403",
   "metadata": {},
   "outputs": [
    {
     "data": {
      "text/plain": [
       "{1: 1, 2: 4, 3: 9, 4: 16, 5: 25, 6: 36, 7: 49, 8: 64, 9: 81, 10: 100}"
      ]
     },
     "execution_count": 228,
     "metadata": {},
     "output_type": "execute_result"
    }
   ],
   "source": [
    "# print 1st 10 number and their squares\n",
    "{i:i**2 for i in range(1,11)}"
   ]
  },
  {
   "cell_type": "code",
   "execution_count": 229,
   "id": "955b77ea-cbca-4d02-8e03-b65913feba67",
   "metadata": {},
   "outputs": [
    {
     "name": "stdout",
     "output_type": "stream",
     "text": [
      "dict_items([('delhi', 1000), ('mumbai', 2000), ('banglore', 3000)])\n"
     ]
    }
   ],
   "source": [
    "# using existing dict\n",
    "distances = {'delhi':1000,'mumbai':2000,'banglore':3000}\n",
    "print(distances.items())"
   ]
  },
  {
   "cell_type": "code",
   "execution_count": 231,
   "id": "0f9d1cf5-d863-4d22-9037-054ac3aa1685",
   "metadata": {},
   "outputs": [
    {
     "data": {
      "text/plain": [
       "{'delhi': 620.0, 'mumbai': 1240.0, 'banglore': 1860.0}"
      ]
     },
     "execution_count": 231,
     "metadata": {},
     "output_type": "execute_result"
    }
   ],
   "source": [
    "distances = {'delhi':1000,'mumbai':2000,'banglore':3000}\n",
    "{key:value*0.62 for (key,value) in distances.items()}"
   ]
  },
  {
   "cell_type": "code",
   "execution_count": 232,
   "id": "623a9cd4-58b2-4c57-b866-9597b48cec2f",
   "metadata": {},
   "outputs": [
    {
     "data": {
      "text/plain": [
       "{'Sunday': 30.5,\n",
       " 'Monday': 32.6,\n",
       " 'Tuesday': 31.8,\n",
       " 'Wednesday': 33.4,\n",
       " 'Thursday': 29.8,\n",
       " 'Friday': 30.2,\n",
       " 'Saturday': 29.9}"
      ]
     },
     "execution_count": 232,
     "metadata": {},
     "output_type": "execute_result"
    }
   ],
   "source": [
    "# using zip\n",
    "days = [\"Sunday\", \"Monday\",\"Tuesday\",\"Wednesday\",\"Thursday\",\"Friday\",\"Saturday\"]\n",
    "temp_C = [30.5,32.6,31.8,33.4,29.8,30.2,29.9]\n",
    "\n",
    "{i:j for (i,j) in zip(days,temp_C)}"
   ]
  },
  {
   "cell_type": "code",
   "execution_count": 236,
   "id": "9bd12ef3-b2ff-4cd0-9c2e-088026afc019",
   "metadata": {},
   "outputs": [
    {
     "data": {
      "text/plain": [
       "{'phone': 10, 'charger': 32}"
      ]
     },
     "execution_count": 236,
     "metadata": {},
     "output_type": "execute_result"
    }
   ],
   "source": [
    "# using if condition\n",
    "products = {'phone':10,'laptop':0,'charger':32,'tablet':0}\n",
    "{key:value for (key,value) in products.items() if value>0}"
   ]
  },
  {
   "cell_type": "code",
   "execution_count": 237,
   "id": "454dcb28-ef72-49cf-bd64-61ba982ea14c",
   "metadata": {},
   "outputs": [],
   "source": [
    "# nested comprehension\n",
    "# print tables of number from 2 to 4"
   ]
  },
  {
   "cell_type": "code",
   "execution_count": 238,
   "id": "f54adcd8-6864-486f-b649-fa38d3b99105",
   "metadata": {},
   "outputs": [
    {
     "data": {
      "text/plain": [
       "{2: {1: 2, 2: 4, 3: 6, 4: 8, 5: 10, 6: 12, 7: 14, 8: 16, 9: 18, 10: 20},\n",
       " 3: {1: 3, 2: 6, 3: 9, 4: 12, 5: 15, 6: 18, 7: 21, 8: 24, 9: 27, 10: 30},\n",
       " 4: {1: 4, 2: 8, 3: 12, 4: 16, 5: 20, 6: 24, 7: 28, 8: 32, 9: 36, 10: 40}}"
      ]
     },
     "execution_count": 238,
     "metadata": {},
     "output_type": "execute_result"
    }
   ],
   "source": [
    "{i:{j:i*j for j in range(1,11)} for i in range(2,5)}"
   ]
  },
  {
   "cell_type": "code",
   "execution_count": null,
   "id": "fb6a8390-01f7-4b86-a902-790cc80c6477",
   "metadata": {},
   "outputs": [],
   "source": []
  }
 ],
 "metadata": {
  "kernelspec": {
   "display_name": "Python 3 (ipykernel)",
   "language": "python",
   "name": "python3"
  },
  "language_info": {
   "codemirror_mode": {
    "name": "ipython",
    "version": 3
   },
   "file_extension": ".py",
   "mimetype": "text/x-python",
   "name": "python",
   "nbconvert_exporter": "python",
   "pygments_lexer": "ipython3",
   "version": "3.9.7"
  }
 },
 "nbformat": 4,
 "nbformat_minor": 5
}
