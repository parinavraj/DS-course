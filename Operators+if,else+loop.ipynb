{
 "cells": [
  {
   "cell_type": "markdown",
   "id": "5d8dbd7a-9f5c-477c-85fc-3be09a5fdd6f",
   "metadata": {},
   "source": [
    "# Operators in python"
   ]
  },
  {
   "cell_type": "code",
   "execution_count": 1,
   "id": "6ce0bd3a-34a1-40bf-844f-bac9eda011df",
   "metadata": {},
   "outputs": [],
   "source": [
    "# Arithmetic Operators\n",
    "# Relational operators\n",
    "# Logical Operators\n",
    "# Bitwise Operators\n",
    "# Assignment Operator\n",
    "# membership Operator"
   ]
  },
  {
   "cell_type": "code",
   "execution_count": 4,
   "id": "633eaa31-5083-4d54-bb79-461334acb51f",
   "metadata": {},
   "outputs": [
    {
     "name": "stdout",
     "output_type": "stream",
     "text": [
      "11\n",
      "-1\n",
      "30\n",
      "2.5\n",
      "2\n",
      "1\n",
      "25\n"
     ]
    }
   ],
   "source": [
    "# Arithmetic Operators\n",
    "print(5+6)\n",
    "\n",
    "print(5-6)\n",
    "\n",
    "print(5*6)\n",
    "\n",
    "print(5/2)\n",
    "\n",
    "print(5//2) # int output\n",
    "\n",
    "print(5%2)\n",
    "\n",
    "print(5**2)"
   ]
  },
  {
   "cell_type": "code",
   "execution_count": 5,
   "id": "1078cae2-7eb1-4cbc-a743-ff5c9e1765e7",
   "metadata": {},
   "outputs": [
    {
     "name": "stdout",
     "output_type": "stream",
     "text": [
      "False\n",
      "True\n",
      "True\n",
      "True\n",
      "True\n",
      "False\n"
     ]
    }
   ],
   "source": [
    "# Relational operators\n",
    "print(4>5)\n",
    "\n",
    "print(4<5)\n",
    "\n",
    "print(4>=4)\n",
    "\n",
    "print(4<=4)\n",
    "\n",
    "print(4==4)\n",
    "\n",
    "print(4!=4)"
   ]
  },
  {
   "cell_type": "code",
   "execution_count": 8,
   "id": "3ee40127-ddf8-4baf-8e34-133f387aacd2",
   "metadata": {},
   "outputs": [
    {
     "name": "stdout",
     "output_type": "stream",
     "text": [
      "0\n",
      "1\n",
      "False\n"
     ]
    }
   ],
   "source": [
    "# Logical operators\n",
    "print(1 and 0)\n",
    "\n",
    "print(1 or 0)\n",
    "\n",
    "print(not 1)"
   ]
  },
  {
   "cell_type": "code",
   "execution_count": 14,
   "id": "02d3d364-e4ef-4cc6-ba5d-597c55469c1a",
   "metadata": {},
   "outputs": [
    {
     "name": "stdout",
     "output_type": "stream",
     "text": [
      "2\n",
      "3\n",
      "1\n",
      "-4\n",
      "1\n",
      "20\n"
     ]
    }
   ],
   "source": [
    "# Bitwise Operators\n",
    "# Bitwise and \n",
    "print(2 & 3)\n",
    "\n",
    "# Bitwise or\n",
    "print(2|3)\n",
    "\n",
    "# Bitwise xor\n",
    "print(2 ^ 3)\n",
    "\n",
    "# Bitwise not\n",
    "print(~3)\n",
    "\n",
    "# Bitwise Left\n",
    "print(4 >> 2)\n",
    "\n",
    "# Bitwise Right\n",
    "print(5 << 2)"
   ]
  },
  {
   "cell_type": "code",
   "execution_count": 18,
   "id": "c5251ef5-7e56-4496-8da3-158cf1d1b96e",
   "metadata": {},
   "outputs": [
    {
     "name": "stdout",
     "output_type": "stream",
     "text": [
      "4\n",
      "0\n"
     ]
    }
   ],
   "source": [
    "# Assignment Operators\n",
    "# =\n",
    "# a = 2\n",
    "\n",
    "a = 2\n",
    "\n",
    "a += 2\n",
    "print(a)\n",
    "\n",
    "a %= 2\n",
    "print(a)"
   ]
  },
  {
   "cell_type": "code",
   "execution_count": 19,
   "id": "bb6ef89f-75e9-433d-a450-0bd5306a0bc4",
   "metadata": {},
   "outputs": [
    {
     "name": "stdout",
     "output_type": "stream",
     "text": [
      "True\n"
     ]
    }
   ],
   "source": [
    "# Membership operators\n",
    "# in/not in\n",
    "\n",
    "print('D' in 'Delhi')"
   ]
  },
  {
   "cell_type": "code",
   "execution_count": 20,
   "id": "6b1ce417-d471-43d1-a64d-3cc1f6e2d6b0",
   "metadata": {},
   "outputs": [
    {
     "name": "stdout",
     "output_type": "stream",
     "text": [
      "False\n"
     ]
    }
   ],
   "source": [
    "print('D' not in 'Delhi')"
   ]
  },
  {
   "cell_type": "code",
   "execution_count": 21,
   "id": "c2e78200-e74c-4f9b-b412-d6a798929eeb",
   "metadata": {},
   "outputs": [
    {
     "name": "stdout",
     "output_type": "stream",
     "text": [
      "False\n"
     ]
    }
   ],
   "source": [
    "print(1 in [2,3,4,5,6])"
   ]
  },
  {
   "cell_type": "code",
   "execution_count": 24,
   "id": "e3fdb003-bff0-40e4-a2a7-9b1f241b9479",
   "metadata": {},
   "outputs": [
    {
     "name": "stdin",
     "output_type": "stream",
     "text": [
      "Enter a 3 digit number 345\n"
     ]
    },
    {
     "name": "stdout",
     "output_type": "stream",
     "text": [
      "12\n"
     ]
    }
   ],
   "source": [
    "# Program - Find the sum of a 3 digit number entered by the user\n",
    "number = int(input('Enter a 3 digit number'))\n",
    "\n",
    "# 345%10 -> 5\n",
    "a = number%10\n",
    "\n",
    "number = number//10\n",
    "\n",
    "# 345%10 -> 4\n",
    "b = number%10\n",
    "\n",
    "number = number//10\n",
    "\n",
    "# 345%10 -> 3\n",
    "c = number % 10\n",
    "\n",
    "print(a+b+c)"
   ]
  },
  {
   "cell_type": "markdown",
   "id": "c3849c78-1d40-46ad-9312-b286e9f70886",
   "metadata": {},
   "source": [
    "# if-else in python"
   ]
  },
  {
   "cell_type": "code",
   "execution_count": 26,
   "id": "3269c783-dfb4-44f3-bcc5-e13432774025",
   "metadata": {},
   "outputs": [
    {
     "name": "stdin",
     "output_type": "stream",
     "text": [
      "enter your email parinavraj93044@gmail.com\n",
      "enter password 1234\n"
     ]
    },
    {
     "name": "stdout",
     "output_type": "stream",
     "text": [
      "Welcome\n"
     ]
    }
   ],
   "source": [
    "# login program and indentation\n",
    "# email -> parinavraj93044@gmail.com\n",
    "# password -> 1234\n",
    "\n",
    "email = input('enter your email')\n",
    "password = input ('enter password')\n",
    "\n",
    "if email == 'parinavraj93044@gmail.com'and password == '1234':\n",
    "    print('Welcome')\n",
    "else:\n",
    "    print('Not match email or Password ')"
   ]
  },
  {
   "cell_type": "code",
   "execution_count": 29,
   "id": "ea6651c3-2bec-45ea-b590-cb379fb12468",
   "metadata": {},
   "outputs": [
    {
     "name": "stdin",
     "output_type": "stream",
     "text": [
      "enter your email parinavraj93044@gmail.com\n",
      "enter password 12\n"
     ]
    },
    {
     "name": "stdout",
     "output_type": "stream",
     "text": [
      "wrong password\n"
     ]
    },
    {
     "name": "stdin",
     "output_type": "stream",
     "text": [
      "enter password again 1234\n"
     ]
    },
    {
     "name": "stdout",
     "output_type": "stream",
     "text": [
      "welcome finally\n"
     ]
    }
   ],
   "source": [
    "email = input('enter your email')\n",
    "password = input ('enter password')\n",
    "\n",
    "if email == 'parinavraj93044@gmail.com'and password == '1234':\n",
    "    print('Welcome')\n",
    "elif  'parinavraj93044@gmail.com'and password != '1234':\n",
    "    # tell the user\n",
    "    print('wrong password')\n",
    "    password = input('enter password again')\n",
    "    if password == '1234':\n",
    "        print('welcome finally')\n",
    "    else:\n",
    "        print('you are not able to login!')\n",
    "else:\n",
    "    print('Not match email or Password ')"
   ]
  },
  {
   "cell_type": "code",
   "execution_count": 31,
   "id": "fc56c1d3-325b-4644-8448-0279c8cbcf34",
   "metadata": {},
   "outputs": [],
   "source": [
    "# if-else examples\n",
    "# 1. Find the min of 3 given numbers\n",
    "# 2. Menu Driven Program"
   ]
  },
  {
   "cell_type": "code",
   "execution_count": 34,
   "id": "709fe132-035e-4f66-93da-5daf308722a9",
   "metadata": {},
   "outputs": [
    {
     "name": "stdin",
     "output_type": "stream",
     "text": [
      "first num 6\n",
      "second num 3\n",
      "third num 1\n"
     ]
    },
    {
     "name": "stdout",
     "output_type": "stream",
     "text": [
      "smallest is c 1\n"
     ]
    }
   ],
   "source": [
    "# min of 3 number\n",
    "\n",
    "a = int(input('first num'))\n",
    "b = int(input('second num'))\n",
    "c = int(input('third num'))\n",
    "\n",
    "if a<b and a<c:\n",
    "    print('a is smallest',a)\n",
    "elif b<c:\n",
    "    print('b is smallest than c',b)\n",
    "else:\n",
    "    print('smallest is c',c)"
   ]
  },
  {
   "cell_type": "code",
   "execution_count": 35,
   "id": "5391bbb1-db42-4fb4-8d5b-989cdee9d81f",
   "metadata": {},
   "outputs": [
    {
     "name": "stdin",
     "output_type": "stream",
     "text": [
      "first num 3\n",
      "second num 5\n",
      "third num 4\n"
     ]
    },
    {
     "name": "stdout",
     "output_type": "stream",
     "text": [
      "a is smallest 3\n"
     ]
    }
   ],
   "source": [
    "# min of 3 number\n",
    "\n",
    "a = int(input('first num'))\n",
    "b = int(input('second num'))\n",
    "c = int(input('third num'))\n",
    "\n",
    "if a<b and a<c:\n",
    "    print('a is smallest',a)\n",
    "elif b<c:\n",
    "    print('b is smallest than c',b)\n",
    "else:\n",
    "    print('smallest is c',c)"
   ]
  },
  {
   "cell_type": "code",
   "execution_count": 36,
   "id": "7a79d85a-1b30-49dc-825f-3a116bb4358f",
   "metadata": {},
   "outputs": [
    {
     "name": "stdin",
     "output_type": "stream",
     "text": [
      "first num 6\n",
      "second num 1\n",
      "third num 5\n"
     ]
    },
    {
     "name": "stdout",
     "output_type": "stream",
     "text": [
      "b is smallest than c 1\n"
     ]
    }
   ],
   "source": [
    "# min of 3 number\n",
    "\n",
    "a = int(input('first num'))\n",
    "b = int(input('second num'))\n",
    "c = int(input('third num'))\n",
    "\n",
    "if a<b and a<c:\n",
    "    print('a is smallest',a)\n",
    "elif b<c:\n",
    "    print('b is smallest than c',b)\n",
    "else:\n",
    "    print('smallest is c',c)"
   ]
  },
  {
   "cell_type": "code",
   "execution_count": 38,
   "id": "e3fdd3bf-963a-4dc9-bcf9-87d184dfb770",
   "metadata": {},
   "outputs": [
    {
     "name": "stdin",
     "output_type": "stream",
     "text": [
      "enter the 1st number 4\n",
      "enter the 2nd number 5\n",
      "enter the operation /\n"
     ]
    },
    {
     "name": "stdout",
     "output_type": "stream",
     "text": [
      "0.8\n"
     ]
    }
   ],
   "source": [
    "# menu driven calculator\n",
    "\n",
    "fnum = int(input('enter the 1st number'))\n",
    "snum = int(input('enter the 2nd number'))\n",
    "\n",
    "op = input('enter the operation')\n",
    "\n",
    "if op == '+':\n",
    "    print(fnum + snum)\n",
    "elif op == '-':\n",
    "    print(fnum - snum)\n",
    "elif op == '*':\n",
    "    print(fnum * snum)\n",
    "else:\n",
    "    print(fnum / snum)\n"
   ]
  },
  {
   "cell_type": "code",
   "execution_count": 39,
   "id": "217547f7-b2c2-4301-94e7-005ef613cf87",
   "metadata": {},
   "outputs": [
    {
     "name": "stdin",
     "output_type": "stream",
     "text": [
      "\n",
      "hi! how can i help you\n",
      "1. Enter 1 for pin change\n",
      "2. Enter 2 for balance check\n",
      "3. Enter 3 for withdrawl\n",
      "4. Enter 4 for exit\n",
      " 3\n"
     ]
    },
    {
     "name": "stdout",
     "output_type": "stream",
     "text": [
      "withdrawl\n"
     ]
    }
   ],
   "source": [
    "menu = input(\"\"\"\n",
    "hi! how can i help you\n",
    "1. Enter 1 for pin change\n",
    "2. Enter 2 for balance check\n",
    "3. Enter 3 for withdrawl\n",
    "4. Enter 4 for exit\n",
    "\"\"\")\n",
    "\n",
    "if menu == '1':\n",
    "    print('pin change')\n",
    "elif menu == '2':\n",
    "    print('balance change')\n",
    "elif menu == '3':\n",
    "    print('withdrawl')\n",
    "else:\n",
    "    print('exit')"
   ]
  },
  {
   "cell_type": "markdown",
   "id": "83abaf2b-ac6f-4158-95ae-eb4a14ff65d9",
   "metadata": {},
   "source": [
    "# modules in python"
   ]
  },
  {
   "cell_type": "code",
   "execution_count": 41,
   "id": "c4c407d6-fe10-425d-ad12-9a2b09006db5",
   "metadata": {},
   "outputs": [],
   "source": [
    "# math\n",
    "# keyword\n",
    "# random\n",
    "# datetime"
   ]
  },
  {
   "cell_type": "code",
   "execution_count": 45,
   "id": "04e827da-8b78-44f2-be78-8686d608e1e7",
   "metadata": {},
   "outputs": [
    {
     "data": {
      "text/plain": [
       "2.23606797749979"
      ]
     },
     "execution_count": 45,
     "metadata": {},
     "output_type": "execute_result"
    }
   ],
   "source": [
    "# math\n",
    "import math\n",
    "\n",
    "math.sqrt(5)"
   ]
  },
  {
   "cell_type": "code",
   "execution_count": 46,
   "id": "be05ebc2-598f-4a6f-9859-c6d78730f6ec",
   "metadata": {},
   "outputs": [
    {
     "name": "stdout",
     "output_type": "stream",
     "text": [
      "['False', 'None', 'True', '__peg_parser__', 'and', 'as', 'assert', 'async', 'await', 'break', 'class', 'continue', 'def', 'del', 'elif', 'else', 'except', 'finally', 'for', 'from', 'global', 'if', 'import', 'in', 'is', 'lambda', 'nonlocal', 'not', 'or', 'pass', 'raise', 'return', 'try', 'while', 'with', 'yield']\n"
     ]
    }
   ],
   "source": [
    "import keyword\n",
    "print(keyword.kwlist)"
   ]
  },
  {
   "cell_type": "code",
   "execution_count": 47,
   "id": "da375c87-de46-4776-80f8-1fb55f8ffa10",
   "metadata": {},
   "outputs": [
    {
     "name": "stdout",
     "output_type": "stream",
     "text": [
      "43\n"
     ]
    }
   ],
   "source": [
    "import random\n",
    "print(random.randint(1,100))"
   ]
  },
  {
   "cell_type": "code",
   "execution_count": 48,
   "id": "169f1f19-b4cc-4e20-887c-5f23bda86860",
   "metadata": {},
   "outputs": [
    {
     "name": "stdout",
     "output_type": "stream",
     "text": [
      "2023-09-05 15:19:36.060604\n"
     ]
    }
   ],
   "source": [
    "# datetime\n",
    "import datetime\n",
    "print(datetime.datetime.now())"
   ]
  },
  {
   "cell_type": "code",
   "execution_count": 50,
   "id": "3eb68381-423a-4d4b-ad83-6ee64d74788c",
   "metadata": {},
   "outputs": [
    {
     "name": "stdout",
     "output_type": "stream",
     "text": [
      "\n",
      "Please wait a moment while I gather a list of all available modules...\n",
      "\n"
     ]
    },
    {
     "name": "stderr",
     "output_type": "stream",
     "text": [
      "C:\\Users\\hp\\anaconda3\\lib\\site-packages\\IPython\\kernel\\__init__.py:12: ShimWarning: The `IPython.kernel` package has been deprecated since IPython 4.0.You should import from ipykernel or jupyter_client instead.\n",
      "  warn(\"The `IPython.kernel` package has been deprecated since IPython 4.0.\"\n",
      "WARNING: AstropyDeprecationWarning: The private astropy._erfa module has been made into its own package, pyerfa, which is a dependency of astropy and can be imported directly using \"import erfa\" [astropy._erfa]\n",
      "C:\\Users\\hp\\anaconda3\\lib\\pkgutil.py:93: MatplotlibDeprecationWarning: \n",
      "The matplotlib.compat module was deprecated in Matplotlib 3.3 and will be removed two minor releases later.\n",
      "  __import__(info.name)\n",
      "C:\\Users\\hp\\anaconda3\\lib\\site-packages\\nltk\\twitter\\__init__.py:20: UserWarning: The twython library has not been installed. Some functionality from the twitter package will not be available.\n",
      "  warnings.warn(\n",
      "QSS file sucessfuly loaded.\n",
      "Found application patches to be applied.\n",
      "No QCoreApplication instance found. Application patches not applied. You have to call load_stylesheet function after instantiation of QApplication to take effect. \n",
      "C:\\Users\\hp\\anaconda3\\lib\\pkgutil.py:108: VisibleDeprecationWarning: zmq.eventloop.minitornado is deprecated in pyzmq 14.0 and will be removed.\n",
      "    Install tornado itself to use zmq with the tornado IOLoop.\n",
      "    \n",
      "  yield from walk_packages(path, info.name+'.', onerror)\n"
     ]
    },
    {
     "name": "stdout",
     "output_type": "stream",
     "text": [
      "Cython              codeop              mock                sortedcollections\n",
      "IPython             collections         modulefinder        sortedcontainers\n",
      "OpenSSL             colorama            more_itertools      soupsieve\n",
      "PIL                 colorsys            mpmath              sphinx\n",
      "PyQt5               commctrl            msgpack             sphinxcontrib\n",
      "TBB                 compileall          msilib              spyder\n",
      "__future__          comtypes            msvcrt              spyder_kernels\n",
      "_abc                concurrent          multipledispatch    sqlalchemy\n",
      "_aix_support        conda               multiprocessing     sqlite3\n",
      "_ast                conda_build         munkres             sre_compile\n",
      "_asyncio            conda_content_trust mypy_extensions     sre_constants\n",
      "_bisect             conda_env           nacl                sre_parse\n",
      "_black_version      conda_pack          navigator_updater   ssl\n",
      "_blake2             conda_package_handling nbclassic           sspi\n",
      "_bootlocale         conda_token         nbclient            sspicon\n",
      "_bootsubprocess     conda_verify        nbconvert           stat\n",
      "_bz2                configparser        nbformat            statistics\n",
      "_cffi_backend       contextlib          nest_asyncio        statsmodels\n",
      "_codecs             contextlib2         netbios             storemagic\n",
      "_codecs_cn          contextvars         netrc               string\n",
      "_codecs_hk          cookiecutter        networkx            stringprep\n",
      "_codecs_iso2022     copy                nltk                struct\n",
      "_codecs_jp          copyreg             nntplib             subprocess\n",
      "_codecs_kr          crypt               nose                sunau\n",
      "_codecs_tw          cryptography        notebook            symbol\n",
      "_collections        csv                 nt                  sympy\n",
      "_collections_abc    ctypes              ntpath              sympyprinting\n",
      "_compat_pickle      curl                ntsecuritycon       symtable\n",
      "_compression        curses              nturl2path          sys\n",
      "_contextvars        cwp                 numba               sysconfig\n",
      "_csv                cycler              numbers             tables\n",
      "_ctypes             cython              numexpr             tabnanny\n",
      "_ctypes_test        cythonmagic         numpy               tarfile\n",
      "_daal4py            cytoolz             numpydoc            tbb\n",
      "_datetime           daal4py             odbc                tblib\n",
      "_decimal            dask                olefile             telnetlib\n",
      "_distutils_hack     dataclasses         onedal              tempfile\n",
      "_elementtree        datetime            opcode              terminado\n",
      "_functools          dateutil            openpyxl            test\n",
      "_hashlib            dbi                 operator            test_pycosat\n",
      "_heapq              dbm                 optparse            testpath\n",
      "_imp                dde                 os                  tests\n",
      "_io                 debugpy             packaging           text_unidecode\n",
      "_json               decimal             pandas              textdistance\n",
      "_locale             decorator           pandocfilters       textwrap\n",
      "_lsprof             defusedxml          paramiko            this\n",
      "_lzma               diff_match_patch    parser              threading\n",
      "_markupbase         difflib             parso               threadpoolctl\n",
      "_md5                dis                 partd               three_merge\n",
      "_msi                distributed         past                tifffile\n",
      "_multibytecodec     distutils           path                time\n",
      "_multiprocessing    dns                 pathlib             timeit\n",
      "_nsis               doctest             pathlib2            timer\n",
      "_onedal4py_host     docutils            pathspec            tinycss\n",
      "_opcode             email               patsy               tkinter\n",
      "_operator           encodings           pdb                 tlz\n",
      "_osx_support        ensurepip           pep8                token\n",
      "_overlapped         entrypoints         perfmon             tokenize\n",
      "_peg_parser         enum                pexpect             toml\n",
      "_pickle             erfa                pickle              toolz\n",
      "_py_abc             errno               pickleshare         tornado\n",
      "_pydecimal          et_xmlfile          pickletools         tqdm\n",
      "_pyio               fastcache           pip                 trace\n",
      "_pyrsistent_version faulthandler        pipes               traceback\n",
      "_pytest             filecmp             pkg_resources       tracemalloc\n",
      "_queue              fileinput           pkginfo             traitlets\n",
      "_random             filelock            pkgutil             tty\n",
      "_sha1               flake8              platform            turtle\n",
      "_sha256             flask               plistlib            turtledemo\n",
      "_sha3               flask_cors          pluggy              typed_ast\n",
      "_sha512             fnmatch             ply                 types\n",
      "_signal             fontTools           poplib              typing\n",
      "_sitebuiltins       formatter           posixpath           typing_extensions\n",
      "_socket             fractions           poyo                ujson\n",
      "_sqlite3            fsspec              pprint              unicodecsv\n",
      "_sre                ftplib              profile             unicodedata\n",
      "_ssl                functools           prometheus_client   unidecode\n",
      "_stat               future              prompt_toolkit      unittest\n",
      "_statistics         gc                  pstats              urllib\n",
      "_string             genericpath         psutil              urllib3\n",
      "_strptime           getopt              pty                 uu\n",
      "_struct             getpass             ptyprocess          uuid\n",
      "_symtable           gettext             pvectorc            venv\n",
      "_system_path        gevent              py                  warnings\n",
      "_testbuffer         glob                py_compile          watchdog\n",
      "_testcapi           glob2               pyclbr              wave\n",
      "_testconsole        graphlib            pycodestyle         wcwidth\n",
      "_testimportmultiple greenlet            pycosat             weakref\n",
      "_testinternalcapi   gridfs              pycparser           webbrowser\n",
      "_testmultiphase     gunicorn            pycurl              webencodings\n",
      "_thread             gzip                pydoc               werkzeug\n",
      "_threading_local    h5py                pydoc_data          wheel\n",
      "_tkinter            hashlib             pydocstyle          whichcraft\n",
      "_tracemalloc        heapdict            pyexpat             widgetsnbextension\n",
      "_uuid               heapq               pyflakes            win2kras\n",
      "_warnings           hmac                pygments            win32api\n",
      "_weakref            html                pygwalker           win32clipboard\n",
      "_weakrefset         html5lib            pylab               win32com\n",
      "_win32sysloader     http                pylint              win32con\n",
      "_winapi             idlelib             pyls_spyder         win32console\n",
      "_winxptheme         idna                pylsp               win32cred\n",
      "_xxsubinterpreters  imagecodecs         pylsp_black         win32crypt\n",
      "_yaml               imageio             pylsp_jsonrpc       win32cryptcon\n",
      "_zoneinfo           imagesize           pymongo             win32ctypes\n",
      "abc                 imaplib             pyodbc              win32event\n",
      "adodbapi            imghdr              pyparsing           win32evtlog\n",
      "afxres              imp                 pyreadline          win32evtlogutil\n",
      "aifc                importlib           pyrsistent          win32file\n",
      "alabaster           importlib_metadata  pytest              win32gui\n",
      "anaconda_navigator  inflection          pythoncom           win32gui_struct\n",
      "anaconda_project    iniconfig           pytz                win32help\n",
      "antigravity         inspect             pywin               win32inet\n",
      "anyio               intervaltree        pywin32_bootstrap   win32inetcon\n",
      "appdirs             io                  pywin32_testutil    win32job\n",
      "argh                ipaddress           pywintypes          win32lz\n",
      "argon2              ipykernel           pywt                win32net\n",
      "argparse            ipykernel_launcher  pyximport           win32netcon\n",
      "array               ipython_genutils    qdarkstyle          win32pdh\n",
      "arrow               ipywidgets          qstylizer           win32pdhquery\n",
      "asn1crypto          isapi               qtawesome           win32pdhutil\n",
      "ast                 isort               qtconsole           win32pipe\n",
      "astroid             isympy              qtpy                win32print\n",
      "astropy             itertools           queue               win32process\n",
      "async_generator     itsdangerous        quopri              win32profile\n",
      "asynchat            jdcal               random              win32ras\n",
      "asyncio             jedi                rasutil             win32rcparser\n",
      "asyncore            jinja2              re                  win32security\n",
      "atexit              jinja2_time         readline            win32service\n",
      "atomicwrites        joblib              regcheck            win32serviceutil\n",
      "attr                json                regex               win32timezone\n",
      "audioop             json5               regutil             win32trace\n",
      "autopep8            jsonschema          repo_cli            win32traceutil\n",
      "autoreload          jupyter             reprlib             win32transaction\n",
      "babel               jupyter_client      requests            win32ts\n",
      "backcall            jupyter_console     rlcompleter         win32ui\n",
      "backports           jupyter_core        rmagic              win32uiole\n",
      "base64              jupyter_server      rope                win32verstamp\n",
      "bcrypt              jupyterlab          rtree               win32wnet\n",
      "bdb                 jupyterlab_pygments ruamel_yaml         win_inet_pton\n",
      "binaryornot         jupyterlab_server   run                 win_unicode_console\n",
      "binascii            jupyterlab_widgets  runpy               wincertstore\n",
      "binhex              jwt                 sched               winerror\n",
      "binstar_client      keyring             scipy               winioctlcon\n",
      "bisect              keyword             scripts             winnt\n",
      "bitarray            kiwisolver          seaborn             winperf\n",
      "bkcharts            lazy_object_proxy   secrets             winpty\n",
      "black               lib2to3             select              winreg\n",
      "blackd              libarchive          selectors           winsound\n",
      "bleach              libfuturize         send2trash          winxpgui\n",
      "blib2to3            libpasteurize       servicemanager      winxptheme\n",
      "bokeh               lief                setuptools          wrapt\n",
      "boto                linecache           shelve              wsgiref\n",
      "bottleneck          llvmlite            shlex               xdrlib\n",
      "brotli              locale              shutil              xlrd\n",
      "bs4                 locket              signal              xlsxwriter\n",
      "bson                logging             simplegeneric       xlwings\n",
      "builtins            lxml                singledispatch      xlwt\n",
      "bz2                 lzma                sip                 xml\n",
      "cProfile            mailbox             sipconfig           xmlrpc\n",
      "cached_property     mailcap             sipdistutils        xmltodict\n",
      "calendar            markupsafe          site                xxsubtype\n",
      "certifi             marshal             six                 yaml\n",
      "cffi                math                skimage             yapf\n",
      "cgi                 matplotlib          sklearn             yapftests\n",
      "cgitb               matplotlib_inline   sklearnex           zict\n",
      "chardet             mccabe              slugify             zipapp\n",
      "charset_normalizer  menuinst            smtpd               zipfile\n",
      "chunk               mimetypes           smtplib             zipimport\n",
      "click               mistune             sndhdr              zipp\n",
      "cloudpickle         mkl                 sniffio             zlib\n",
      "clyent              mkl_fft             snowballstemmer     zmq\n",
      "cmath               mkl_random          socket              zoneinfo\n",
      "cmd                 mmap                socketserver        zope\n",
      "code                mmapfile            socks               \n",
      "codecs              mmsystem            sockshandler        \n",
      "\n",
      "Enter any module name to get more help.  Or, type \"modules spam\" to search\n",
      "for modules whose name or summary contain the string \"spam\".\n",
      "\n"
     ]
    }
   ],
   "source": [
    "help('modules')"
   ]
  },
  {
   "cell_type": "markdown",
   "id": "ed26fdd8-692e-4298-b057-a66c12ebb8c6",
   "metadata": {},
   "source": [
    "# Loops in python"
   ]
  },
  {
   "cell_type": "code",
   "execution_count": 51,
   "id": "d0860ff6-3d4b-4d80-a503-63f2e0ac9995",
   "metadata": {},
   "outputs": [],
   "source": [
    "# needs for loops\n",
    "# while loop\n",
    "# for loop"
   ]
  },
  {
   "cell_type": "code",
   "execution_count": 52,
   "id": "f7dd7e54-ef68-4d79-950c-e1f11e0b0442",
   "metadata": {},
   "outputs": [],
   "source": [
    "# while loop example -> program to print the table\n",
    "# program -> sum of all digits of a given number\n",
    "# program -> keep accepting number from users till he/she enters a 0 and then find the avg"
   ]
  },
  {
   "cell_type": "code",
   "execution_count": 56,
   "id": "11e2da29-d993-488b-9d48-a0aefeb649df",
   "metadata": {},
   "outputs": [
    {
     "name": "stdin",
     "output_type": "stream",
     "text": [
      "enter a number 5\n"
     ]
    },
    {
     "name": "stdout",
     "output_type": "stream",
     "text": [
      "5\n",
      "10\n",
      "15\n",
      "20\n",
      "25\n",
      "30\n",
      "35\n",
      "40\n",
      "45\n",
      "50\n"
     ]
    }
   ],
   "source": [
    "number = int(input('enter a number'))\n",
    "\n",
    "i = 1\n",
    "\n",
    "while i<11:\n",
    "    print(number*i)\n",
    "    i +=1"
   ]
  },
  {
   "cell_type": "code",
   "execution_count": 57,
   "id": "ded2acd0-df9d-4cdb-aea8-e05338a8a7a8",
   "metadata": {},
   "outputs": [
    {
     "name": "stdin",
     "output_type": "stream",
     "text": [
      "enter a number 5\n"
     ]
    },
    {
     "name": "stdout",
     "output_type": "stream",
     "text": [
      "5 * 1 = 5\n",
      "5 * 2 = 10\n",
      "5 * 3 = 15\n",
      "5 * 4 = 20\n",
      "5 * 5 = 25\n",
      "5 * 6 = 30\n",
      "5 * 7 = 35\n",
      "5 * 8 = 40\n",
      "5 * 9 = 45\n",
      "5 * 10 = 50\n"
     ]
    }
   ],
   "source": [
    "number = int(input('enter a number'))\n",
    "\n",
    "i = 1\n",
    "\n",
    "while i<11:\n",
    "    print(number,'*',i,'=',number*i)\n",
    "    i +=1"
   ]
  },
  {
   "cell_type": "code",
   "execution_count": 58,
   "id": "6a3550b5-0aa0-4f9c-ae04-ad5a9f12136e",
   "metadata": {},
   "outputs": [
    {
     "name": "stdout",
     "output_type": "stream",
     "text": [
      "1\n",
      "2\n",
      "3\n",
      "4\n",
      "limit crossed\n"
     ]
    }
   ],
   "source": [
    "# while loop with else\n",
    "x = 1\n",
    "\n",
    "while x < 5:\n",
    "    print(x)\n",
    "    x += 1\n",
    "    \n",
    "else:\n",
    "    print('limit crossed')"
   ]
  },
  {
   "cell_type": "code",
   "execution_count": 61,
   "id": "09db8ba5-b845-4a63-9bd7-631539ada9f0",
   "metadata": {},
   "outputs": [
    {
     "name": "stdin",
     "output_type": "stream",
     "text": [
      "guess a number 18\n"
     ]
    },
    {
     "name": "stdout",
     "output_type": "stream",
     "text": [
      "wrong! higher selection\n"
     ]
    },
    {
     "name": "stdin",
     "output_type": "stream",
     "text": [
      "guess again 20\n"
     ]
    },
    {
     "name": "stdout",
     "output_type": "stream",
     "text": [
      "wrong! higher selection\n"
     ]
    },
    {
     "name": "stdin",
     "output_type": "stream",
     "text": [
      "guess again 30\n"
     ]
    },
    {
     "name": "stdout",
     "output_type": "stream",
     "text": [
      "wrong! lower selection\n"
     ]
    },
    {
     "name": "stdin",
     "output_type": "stream",
     "text": [
      "guess again 25\n"
     ]
    },
    {
     "name": "stdout",
     "output_type": "stream",
     "text": [
      "correct guess 4\n"
     ]
    }
   ],
   "source": [
    "# guessing game\n",
    "# generate a random integer between 1 and 100\n",
    "\n",
    "import random\n",
    "jackpot = random.randint(1,100)\n",
    "\n",
    "guess = int(input('guess a number'))\n",
    "counter = 1\n",
    "\n",
    "while guess != jackpot: \n",
    "\n",
    "    if guess < jackpot:\n",
    "        print('wrong! higher selection')\n",
    "    else:\n",
    "        print('wrong! lower selection')\n",
    "    guess = int(input('guess again'))\n",
    "    counter += 1\n",
    "else:\n",
    "    print('correct guess',counter)"
   ]
  },
  {
   "cell_type": "code",
   "execution_count": 62,
   "id": "059bc557-4a12-47ab-945b-5df15ac002b3",
   "metadata": {},
   "outputs": [
    {
     "name": "stdout",
     "output_type": "stream",
     "text": [
      "1\n",
      "2\n",
      "3\n",
      "4\n",
      "5\n",
      "6\n",
      "7\n",
      "8\n",
      "9\n",
      "10\n"
     ]
    }
   ],
   "source": [
    "# for loop demo\n",
    "for i in range (1,11):\n",
    "    print(i)"
   ]
  },
  {
   "cell_type": "code",
   "execution_count": 63,
   "id": "67a95ab8-f66c-4732-a5db-796afddcd178",
   "metadata": {},
   "outputs": [
    {
     "name": "stdout",
     "output_type": "stream",
     "text": [
      "1\n",
      "2\n",
      "3\n",
      "4\n",
      "5\n",
      "6\n",
      "7\n",
      "8\n",
      "9\n",
      "10\n"
     ]
    }
   ],
   "source": [
    "for i in 1,2,3,4,5,6,7,8,9,10:\n",
    "    print(i)"
   ]
  },
  {
   "cell_type": "code",
   "execution_count": 64,
   "id": "56185081-9879-441e-9b1a-95232321f403",
   "metadata": {},
   "outputs": [
    {
     "name": "stdout",
     "output_type": "stream",
     "text": [
      "1\n",
      "3\n",
      "5\n",
      "7\n",
      "9\n"
     ]
    }
   ],
   "source": [
    "# for loop demo\n",
    "for i in range (1,11,2):\n",
    "    print(i)"
   ]
  },
  {
   "cell_type": "code",
   "execution_count": 65,
   "id": "a7917183-7f86-48da-8b5b-625e3de9253d",
   "metadata": {},
   "outputs": [
    {
     "name": "stdout",
     "output_type": "stream",
     "text": [
      "10\n",
      "9\n",
      "8\n",
      "7\n",
      "6\n",
      "5\n",
      "4\n",
      "3\n",
      "2\n",
      "1\n"
     ]
    }
   ],
   "source": [
    "# for loop demo\n",
    "for i in range (10,0,-1):\n",
    "    print(i)"
   ]
  },
  {
   "cell_type": "code",
   "execution_count": 67,
   "id": "579e8b65-ae86-4730-92f6-41db2b9ea6ea",
   "metadata": {},
   "outputs": [
    {
     "name": "stdout",
     "output_type": "stream",
     "text": [
      "d\n",
      "e\n",
      "l\n",
      "h\n",
      "i\n"
     ]
    }
   ],
   "source": [
    "for i in 'delhi':\n",
    "    print(i)"
   ]
  },
  {
   "cell_type": "code",
   "execution_count": 68,
   "id": "10ee26c1-0b4d-47e2-a5c5-8d2bb411e2f2",
   "metadata": {},
   "outputs": [
    {
     "name": "stdout",
     "output_type": "stream",
     "text": [
      "1\n",
      "2\n",
      "3\n",
      "4\n",
      "5\n",
      "6\n"
     ]
    }
   ],
   "source": [
    "for i in [1,2,3,4,5,6]:\n",
    "    print(i)"
   ]
  },
  {
   "cell_type": "code",
   "execution_count": 69,
   "id": "91f5e2f3-ddf1-49ab-bab8-7adadf39eebb",
   "metadata": {},
   "outputs": [
    {
     "name": "stdout",
     "output_type": "stream",
     "text": [
      "1\n",
      "2\n",
      "3\n",
      "4\n",
      "5\n",
      "6\n"
     ]
    }
   ],
   "source": [
    "for i in {1,2,3,4,5,6}:\n",
    "    print(i)"
   ]
  },
  {
   "cell_type": "code",
   "execution_count": 70,
   "id": "01217552-6297-46e0-9081-1735e8f12e31",
   "metadata": {},
   "outputs": [],
   "source": [
    "# for loop example\n",
    "# Program - The current population of a town is 10000.  The population of town is increasing at the rate of 105 per year. You have to write a program to find out the population at the end of each of the last 10 years.\n"
   ]
  },
  {
   "cell_type": "code",
   "execution_count": 72,
   "id": "8cb498ed-18b6-4496-8617-bb26007c23fa",
   "metadata": {},
   "outputs": [
    {
     "name": "stdout",
     "output_type": "stream",
     "text": [
      "10 10000\n",
      "9 9090.90909090909\n",
      "8 8264.462809917353\n",
      "7 7513.148009015775\n",
      "6 6830.134553650703\n",
      "5 6209.213230591548\n",
      "4 5644.739300537771\n",
      "3 5131.5811823070635\n",
      "2 4665.07380209733\n",
      "1 4240.976183724845\n"
     ]
    }
   ],
   "source": [
    "curr_pop = 10000\n",
    "\n",
    "for i in range(10,0,-1):\n",
    "    print(i,curr_pop)\n",
    "    curr_pop = curr_pop /1.1\n",
    "    "
   ]
  },
  {
   "cell_type": "markdown",
   "id": "a2aa3b0f-9c2a-495b-85d4-7a78c620423a",
   "metadata": {},
   "source": [
    "# sequence sum"
   ]
  },
  {
   "cell_type": "markdown",
   "id": "e9c9ab6b-37e9-4033-8e1f-a0cf233c7637",
   "metadata": {},
   "source": [
    "1/1!+2/2!+3/3!+..."
   ]
  },
  {
   "cell_type": "code",
   "execution_count": 75,
   "id": "e3a23225-5d9c-4a52-988d-afccc3378413",
   "metadata": {},
   "outputs": [
    {
     "name": "stdin",
     "output_type": "stream",
     "text": [
      "enter n  2\n"
     ]
    },
    {
     "name": "stdout",
     "output_type": "stream",
     "text": [
      "2.0\n"
     ]
    }
   ],
   "source": [
    "n = int(input('enter n '))\n",
    "\n",
    "result = 0\n",
    "fact = 1\n",
    "\n",
    "for i in range(1,n+1):\n",
    "    fact = fact*i\n",
    "    result = result + i/fact\n",
    "print(result)"
   ]
  },
  {
   "cell_type": "markdown",
   "id": "e56b60fb-94e5-45ed-8cd1-dae62bb12d9c",
   "metadata": {},
   "source": [
    "# Nested Loop"
   ]
  },
  {
   "cell_type": "code",
   "execution_count": 76,
   "id": "5563ae8c-6be9-4575-809e-5426f95db0ea",
   "metadata": {},
   "outputs": [],
   "source": [
    "# Examples -> unique pairs"
   ]
  },
  {
   "cell_type": "code",
   "execution_count": 77,
   "id": "1b71fbba-8fef-4a0f-95b3-3e83425f6f79",
   "metadata": {},
   "outputs": [
    {
     "name": "stdout",
     "output_type": "stream",
     "text": [
      "1 1\n",
      "1 2\n",
      "1 3\n",
      "1 4\n",
      "2 1\n",
      "2 2\n",
      "2 3\n",
      "2 4\n",
      "3 1\n",
      "3 2\n",
      "3 3\n",
      "3 4\n",
      "4 1\n",
      "4 2\n",
      "4 3\n",
      "4 4\n"
     ]
    }
   ],
   "source": [
    "for i in range(1,5):\n",
    "    for j in range(1,5):\n",
    "        print(i,j)"
   ]
  },
  {
   "cell_type": "markdown",
   "id": "93ba5d0c-958f-45a3-834f-4706a18a0481",
   "metadata": {},
   "source": [
    "# pattern 1"
   ]
  },
  {
   "cell_type": "raw",
   "id": "23371f5f-232c-4135-be50-1ca55aa81cee",
   "metadata": {},
   "source": [
    "*\n",
    "**\n",
    "***\n",
    "****"
   ]
  },
  {
   "cell_type": "code",
   "execution_count": 83,
   "id": "8a118d1e-3b4c-4c57-afde-db53803ab517",
   "metadata": {},
   "outputs": [
    {
     "name": "stdin",
     "output_type": "stream",
     "text": [
      "enter number of rows 5\n"
     ]
    },
    {
     "name": "stdout",
     "output_type": "stream",
     "text": [
      "*\n",
      "**\n",
      "***\n",
      "****\n",
      "*****\n"
     ]
    }
   ],
   "source": [
    "rows = int(input('enter number of rows'))\n",
    "\n",
    "for i in range(1,rows+1):\n",
    "    for j in range(1,i+1):\n",
    "        print('*',end = '')\n",
    "    print()"
   ]
  },
  {
   "cell_type": "markdown",
   "id": "96e5012a-7a02-4070-8d78-3125f205ec43",
   "metadata": {},
   "source": [
    "# Pattern 2"
   ]
  },
  {
   "cell_type": "raw",
   "id": "d6a71acd-0f95-46e7-80be-4527b94b0d13",
   "metadata": {},
   "source": [
    "1\n",
    "121\n",
    "1231\n",
    "1234321"
   ]
  },
  {
   "cell_type": "code",
   "execution_count": 87,
   "id": "37b5189f-2f3a-41fd-9409-58d64aeeff6a",
   "metadata": {},
   "outputs": [
    {
     "name": "stdin",
     "output_type": "stream",
     "text": [
      "enter number of rows 4\n"
     ]
    },
    {
     "name": "stdout",
     "output_type": "stream",
     "text": [
      "1\n",
      "121\n",
      "12321\n",
      "1234321\n"
     ]
    }
   ],
   "source": [
    "rows = int(input('enter number of rows'))\n",
    "\n",
    "for i in range(1,rows+1):\n",
    "    for j in range(1,i+1):\n",
    "        print(j,end = '')\n",
    "    for k in range(i-1,0,-1):\n",
    "        print(k,end = '')\n",
    "    print()"
   ]
  },
  {
   "cell_type": "markdown",
   "id": "478894e0-0ccc-4766-ad8e-585c97f1aaed",
   "metadata": {},
   "source": [
    "# Loop Control Statement"
   ]
  },
  {
   "cell_type": "markdown",
   "id": "43513f78-0586-4409-825e-6dd40ebcd6f5",
   "metadata": {},
   "source": [
    "### Break\n",
    "### Continue\n",
    "### Pass"
   ]
  },
  {
   "cell_type": "code",
   "execution_count": 93,
   "id": "9f5245aa-14a9-4967-9c3e-cc5aac2f46ea",
   "metadata": {},
   "outputs": [
    {
     "name": "stdout",
     "output_type": "stream",
     "text": [
      "1\n",
      "2\n",
      "3\n",
      "4\n"
     ]
    }
   ],
   "source": [
    "# Break\n",
    "for i in range(1,10):\n",
    "    if i == 5:\n",
    "        break\n",
    "    print(i)"
   ]
  },
  {
   "cell_type": "code",
   "execution_count": 92,
   "id": "ce37f612-ca41-4d49-bc46-8ad46d5a8242",
   "metadata": {},
   "outputs": [
    {
     "name": "stdin",
     "output_type": "stream",
     "text": [
      "enter lower range 10\n",
      "enter upper range 100\n"
     ]
    },
    {
     "name": "stdout",
     "output_type": "stream",
     "text": [
      "11\n",
      "13\n",
      "17\n",
      "19\n",
      "23\n",
      "29\n",
      "31\n",
      "37\n",
      "41\n",
      "43\n",
      "47\n",
      "53\n",
      "59\n",
      "61\n",
      "67\n",
      "71\n",
      "73\n",
      "79\n",
      "83\n",
      "89\n",
      "97\n"
     ]
    }
   ],
   "source": [
    "lower = int(input('enter lower range'))\n",
    "upper = int(input('enter upper range'))\n",
    "\n",
    "for i in range(lower,upper+1):\n",
    "    for j in range(2,i):\n",
    "        if i %j == 0:\n",
    "            break\n",
    "    else:\n",
    "        print(i)"
   ]
  },
  {
   "cell_type": "code",
   "execution_count": 96,
   "id": "366c4e11-0853-439e-8597-f2c531aed8da",
   "metadata": {},
   "outputs": [
    {
     "name": "stdout",
     "output_type": "stream",
     "text": [
      "1\n",
      "2\n",
      "3\n",
      "4\n",
      "5\n",
      "7\n",
      "8\n",
      "9\n"
     ]
    }
   ],
   "source": [
    "# continue statement\n",
    "for i in range(1,10):\n",
    "    if i == 6:\n",
    "        continue\n",
    "    print(i)"
   ]
  },
  {
   "cell_type": "code",
   "execution_count": 97,
   "id": "5cd1baea-fc36-49df-9264-92b91de8f914",
   "metadata": {},
   "outputs": [],
   "source": [
    "# Pass\n",
    "for i in range(1,10):\n",
    "    pass"
   ]
  },
  {
   "cell_type": "code",
   "execution_count": null,
   "id": "d5a790fe-446a-49f3-ad26-a14070e3e112",
   "metadata": {},
   "outputs": [],
   "source": []
  }
 ],
 "metadata": {
  "kernelspec": {
   "display_name": "Python 3 (ipykernel)",
   "language": "python",
   "name": "python3"
  },
  "language_info": {
   "codemirror_mode": {
    "name": "ipython",
    "version": 3
   },
   "file_extension": ".py",
   "mimetype": "text/x-python",
   "name": "python",
   "nbconvert_exporter": "python",
   "pygments_lexer": "ipython3",
   "version": "3.9.7"
  }
 },
 "nbformat": 4,
 "nbformat_minor": 5
}
