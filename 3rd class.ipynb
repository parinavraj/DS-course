{
 "cells": [
  {
   "cell_type": "code",
   "execution_count": 1,
   "id": "a4245922-6c45-42cd-9349-a41bd0dc24a1",
   "metadata": {},
   "outputs": [],
   "source": [
    "import numpy as np\n",
    "import pandas as pd\n",
    "import matplotlib.pyplot as plt"
   ]
  },
  {
   "cell_type": "markdown",
   "id": "d3cee0b6-efa6-4a79-8ddb-c59598bc7d8c",
   "metadata": {},
   "source": [
    "# np.sort"
   ]
  },
  {
   "cell_type": "raw",
   "id": "5c6e5345-e0fb-48ba-b7ac-80a357063211",
   "metadata": {},
   "source": [
    "# return a sorted copy of an array"
   ]
  },
  {
   "cell_type": "markdown",
   "id": "b52a48f4-43a7-444e-8977-0c8b6b04e80b",
   "metadata": {},
   "source": [
    "https://numpy.org/doc/stable/reference/generated/numpy.sort.html"
   ]
  },
  {
   "cell_type": "code",
   "execution_count": 5,
   "id": "1309d312-2bce-4572-8a05-34f5f886bf7a",
   "metadata": {},
   "outputs": [
    {
     "data": {
      "text/plain": [
       "array([24,  1,  9, 91, 56, 84, 57, 94, 27, 73, 91, 21, 79, 93, 19])"
      ]
     },
     "execution_count": 5,
     "metadata": {},
     "output_type": "execute_result"
    }
   ],
   "source": [
    "a = np.random.randint(1,100,15)\n",
    "a"
   ]
  },
  {
   "cell_type": "code",
   "execution_count": 6,
   "id": "1f428b34-1928-4fe4-b3df-928c08e2b54f",
   "metadata": {},
   "outputs": [
    {
     "data": {
      "text/plain": [
       "array([[ 6, 40, 84, 95],\n",
       "       [43, 51, 85, 71],\n",
       "       [88, 36, 11, 17],\n",
       "       [13, 90, 77, 49],\n",
       "       [94, 66, 88, 42],\n",
       "       [73,  2, 81,  1]])"
      ]
     },
     "execution_count": 6,
     "metadata": {},
     "output_type": "execute_result"
    }
   ],
   "source": [
    "b = np.random.randint(1,100,24).reshape(6,4)\n",
    "b"
   ]
  },
  {
   "cell_type": "code",
   "execution_count": 7,
   "id": "d9aab3ae-62cc-4d3f-a1be-a62abf0c9b59",
   "metadata": {},
   "outputs": [
    {
     "data": {
      "text/plain": [
       "array([ 1,  9, 19, 21, 24, 27, 56, 57, 73, 79, 84, 91, 91, 93, 94])"
      ]
     },
     "execution_count": 7,
     "metadata": {},
     "output_type": "execute_result"
    }
   ],
   "source": [
    "np.sort(a)"
   ]
  },
  {
   "cell_type": "code",
   "execution_count": 9,
   "id": "d391688c-e37d-43bf-839d-c3390e2fb7ff",
   "metadata": {},
   "outputs": [
    {
     "data": {
      "text/plain": [
       "array([[ 6, 40, 84, 95],\n",
       "       [43, 51, 71, 85],\n",
       "       [11, 17, 36, 88],\n",
       "       [13, 49, 77, 90],\n",
       "       [42, 66, 88, 94],\n",
       "       [ 1,  2, 73, 81]])"
      ]
     },
     "execution_count": 9,
     "metadata": {},
     "output_type": "execute_result"
    }
   ],
   "source": [
    "# sort by column bydefault\n",
    "np.sort(b)"
   ]
  },
  {
   "cell_type": "code",
   "execution_count": 10,
   "id": "de038290-4eae-4af7-ae69-37a8356ef50f",
   "metadata": {},
   "outputs": [
    {
     "data": {
      "text/plain": [
       "array([[ 6, 40, 84, 95],\n",
       "       [43, 51, 71, 85],\n",
       "       [11, 17, 36, 88],\n",
       "       [13, 49, 77, 90],\n",
       "       [42, 66, 88, 94],\n",
       "       [ 1,  2, 73, 81]])"
      ]
     },
     "execution_count": 10,
     "metadata": {},
     "output_type": "execute_result"
    }
   ],
   "source": [
    "# sort by column we can use axis = 1\n",
    "np.sort(b,axis = 1)"
   ]
  },
  {
   "cell_type": "code",
   "execution_count": 12,
   "id": "a2db38d8-6aa6-4fa6-9c57-82135dcffa22",
   "metadata": {},
   "outputs": [
    {
     "name": "stdout",
     "output_type": "stream",
     "text": [
      "[[ 6 40 84 95]\n",
      " [43 51 85 71]\n",
      " [88 36 11 17]\n",
      " [13 90 77 49]\n",
      " [94 66 88 42]\n",
      " [73  2 81  1]]\n"
     ]
    },
    {
     "data": {
      "text/plain": [
       "array([[ 6,  2, 11,  1],\n",
       "       [13, 36, 77, 17],\n",
       "       [43, 40, 81, 42],\n",
       "       [73, 51, 84, 49],\n",
       "       [88, 66, 85, 71],\n",
       "       [94, 90, 88, 95]])"
      ]
     },
     "execution_count": 12,
     "metadata": {},
     "output_type": "execute_result"
    }
   ],
   "source": [
    "# sort by row we use axis = 0\n",
    "print(b)\n",
    "np.sort(b, axis = 0)"
   ]
  },
  {
   "cell_type": "code",
   "execution_count": 14,
   "id": "228bcc3a-a410-444e-b6ac-924bb1b97566",
   "metadata": {},
   "outputs": [
    {
     "name": "stdout",
     "output_type": "stream",
     "text": [
      "[24  1  9 91 56 84 57 94 27 73 91 21 79 93 19]\n"
     ]
    },
    {
     "data": {
      "text/plain": [
       "array([94, 93, 91, 91, 84, 79, 73, 57, 56, 27, 24, 21, 19,  9,  1])"
      ]
     },
     "execution_count": 14,
     "metadata": {},
     "output_type": "execute_result"
    }
   ],
   "source": [
    "# for decending sorting\n",
    "# use [::-1]\n",
    "print(a)\n",
    "np.sort(a)[::-1]"
   ]
  },
  {
   "cell_type": "code",
   "execution_count": 18,
   "id": "f7c562e9-7227-41d4-b2c2-4707366a9754",
   "metadata": {},
   "outputs": [
    {
     "name": "stdout",
     "output_type": "stream",
     "text": [
      "[[ 6 40 84 95]\n",
      " [43 51 85 71]\n",
      " [88 36 11 17]\n",
      " [13 90 77 49]\n",
      " [94 66 88 42]\n",
      " [73  2 81  1]]\n"
     ]
    },
    {
     "data": {
      "text/plain": [
       "array([[ 1,  2, 73, 81],\n",
       "       [42, 66, 88, 94],\n",
       "       [13, 49, 77, 90],\n",
       "       [11, 17, 36, 88],\n",
       "       [43, 51, 71, 85],\n",
       "       [ 6, 40, 84, 95]])"
      ]
     },
     "execution_count": 18,
     "metadata": {},
     "output_type": "execute_result"
    }
   ],
   "source": [
    "# for decending sorting\n",
    "# use [::-1]\n",
    "print(b)\n",
    "np.sort(b)[::-1]"
   ]
  },
  {
   "cell_type": "code",
   "execution_count": 19,
   "id": "4447533d-7a89-4e48-a4b8-cd9a9035779e",
   "metadata": {},
   "outputs": [
    {
     "name": "stdout",
     "output_type": "stream",
     "text": [
      "[[ 6 40 84 95]\n",
      " [43 51 85 71]\n",
      " [88 36 11 17]\n",
      " [13 90 77 49]\n",
      " [94 66 88 42]\n",
      " [73  2 81  1]]\n"
     ]
    },
    {
     "data": {
      "text/plain": [
       "array([[94, 90, 88, 95],\n",
       "       [88, 66, 85, 71],\n",
       "       [73, 51, 84, 49],\n",
       "       [43, 40, 81, 42],\n",
       "       [13, 36, 77, 17],\n",
       "       [ 6,  2, 11,  1]])"
      ]
     },
     "execution_count": 19,
     "metadata": {},
     "output_type": "execute_result"
    }
   ],
   "source": [
    "# for decending sorting\n",
    "# use [::-1]\n",
    "print(b)\n",
    "np.sort(b,axis = 0)[::-1]"
   ]
  },
  {
   "cell_type": "markdown",
   "id": "cc47b365-45b9-4974-bf98-ddb070aebbea",
   "metadata": {},
   "source": [
    "# np.append"
   ]
  },
  {
   "cell_type": "markdown",
   "id": "1f471131-fd48-4b1b-93e7-226a8acb0067",
   "metadata": {},
   "source": [
    "The numpy.append() appends values along the mentioned axis at the end of the array"
   ]
  },
  {
   "cell_type": "markdown",
   "id": "93ff521e-4824-4aed-b62c-a74b4448d2e4",
   "metadata": {},
   "source": [
    "https://numpy.org/doc/stable/reference/generated/numpy.append.html"
   ]
  },
  {
   "cell_type": "code",
   "execution_count": 21,
   "id": "24d0c345-7445-4719-be29-41e0979b1b64",
   "metadata": {},
   "outputs": [
    {
     "name": "stdout",
     "output_type": "stream",
     "text": [
      "[24  1  9 91 56 84 57 94 27 73 91 21 79 93 19]\n"
     ]
    },
    {
     "data": {
      "text/plain": [
       "array([ 24,   1,   9,  91,  56,  84,  57,  94,  27,  73,  91,  21,  79,\n",
       "        93,  19, 200])"
      ]
     },
     "execution_count": 21,
     "metadata": {},
     "output_type": "execute_result"
    }
   ],
   "source": [
    "# code\n",
    "print(a)\n",
    "np.append(a,200)"
   ]
  },
  {
   "cell_type": "code",
   "execution_count": 23,
   "id": "729a197a-9ac0-470e-82a3-c459f2cba3d3",
   "metadata": {},
   "outputs": [
    {
     "data": {
      "text/plain": [
       "array([[ 6., 40., 84., 95.,  1.],\n",
       "       [43., 51., 85., 71.,  1.],\n",
       "       [88., 36., 11., 17.,  1.],\n",
       "       [13., 90., 77., 49.,  1.],\n",
       "       [94., 66., 88., 42.,  1.],\n",
       "       [73.,  2., 81.,  1.,  1.]])"
      ]
     },
     "execution_count": 23,
     "metadata": {},
     "output_type": "execute_result"
    }
   ],
   "source": [
    "# add one more column \n",
    "np.append(b,np.ones((b.shape[0],1)),axis=1)"
   ]
  },
  {
   "cell_type": "markdown",
   "id": "11535a86-b522-439e-98fb-4fe1750f2f5d",
   "metadata": {},
   "source": [
    "# np.concatenate"
   ]
  },
  {
   "cell_type": "markdown",
   "id": "d9050b9b-9d54-48b3-9f1b-58eb53c53120",
   "metadata": {},
   "source": [
    "numpy.concatenate() function concatenate a sequence of arrays along an existing axis."
   ]
  },
  {
   "cell_type": "markdown",
   "id": "9204dd7e-4ba4-4860-90a6-45932b3a9306",
   "metadata": {},
   "source": [
    "https://numpy.org/doc/stable/reference/generated/numpy.concatenate.html"
   ]
  },
  {
   "cell_type": "code",
   "execution_count": 24,
   "id": "28236a04-a355-43ae-8fb8-4e7b690574ab",
   "metadata": {},
   "outputs": [
    {
     "name": "stdout",
     "output_type": "stream",
     "text": [
      "[[0 1 2]\n",
      " [3 4 5]]\n",
      "[[ 6  7  8]\n",
      " [ 9 10 11]]\n"
     ]
    }
   ],
   "source": [
    "# code\n",
    "c = np.arange(6).reshape(2,3)\n",
    "d = np.arange(6,12).reshape(2,3)\n",
    "\n",
    "print(c)\n",
    "print(d)"
   ]
  },
  {
   "cell_type": "code",
   "execution_count": 58,
   "id": "4e74c283-7835-4f5e-a90d-59a3371a53b0",
   "metadata": {},
   "outputs": [
    {
     "data": {
      "text/plain": [
       "array([[ 0,  1,  2],\n",
       "       [ 3,  4,  5],\n",
       "       [ 6,  7,  8],\n",
       "       [ 9, 10, 11]])"
      ]
     },
     "execution_count": 58,
     "metadata": {},
     "output_type": "execute_result"
    }
   ],
   "source": [
    "# '1' is use for rowwise addition\n",
    "np.concatenate((c,d),axis = 0)"
   ]
  },
  {
   "cell_type": "code",
   "execution_count": 59,
   "id": "5b8230a8-f021-4b86-97dd-bb7aa98b606f",
   "metadata": {},
   "outputs": [
    {
     "data": {
      "text/plain": [
       "array([[ 0,  1,  2,  6,  7,  8],\n",
       "       [ 3,  4,  5,  9, 10, 11]])"
      ]
     },
     "execution_count": 59,
     "metadata": {},
     "output_type": "execute_result"
    }
   ],
   "source": [
    "# '0' is use for columnwise addition\n",
    "np.concatenate((c,d),axis = 1)"
   ]
  },
  {
   "cell_type": "markdown",
   "id": "7e649113-7288-4793-99c6-b95fcbb05d77",
   "metadata": {},
   "source": [
    "# np.unique"
   ]
  },
  {
   "cell_type": "markdown",
   "id": "a566951a-22d2-4fda-9272-25bbb0147bc6",
   "metadata": {},
   "source": [
    "With the help of np.unique() method, we can get the unique values from an array given as parameter in np.unique() method."
   ]
  },
  {
   "cell_type": "markdown",
   "id": "7b46f570-5b38-4fee-a3f3-c26357a35bd2",
   "metadata": {},
   "source": [
    "https://numpy.org/doc/stable/reference/generated/numpy.unique.html/"
   ]
  },
  {
   "cell_type": "code",
   "execution_count": 31,
   "id": "818f6ac8-3370-4fc6-a598-00fc86ab03a6",
   "metadata": {},
   "outputs": [],
   "source": [
    "# code\n",
    "e = ([1,2,3,3,2,4,5,5,4,6,6,6,1])"
   ]
  },
  {
   "cell_type": "code",
   "execution_count": 32,
   "id": "67eb6fe7-a94d-4c22-aeb3-998b48ef27b4",
   "metadata": {},
   "outputs": [
    {
     "data": {
      "text/plain": [
       "array([1, 2, 3, 4, 5, 6])"
      ]
     },
     "execution_count": 32,
     "metadata": {},
     "output_type": "execute_result"
    }
   ],
   "source": [
    "np.unique(e)"
   ]
  },
  {
   "cell_type": "markdown",
   "id": "7acc29e2-8822-4af1-8adf-c4ca37f71977",
   "metadata": {},
   "source": [
    "# np.expand_dims"
   ]
  },
  {
   "cell_type": "markdown",
   "id": "a163d9cf-5ec3-4903-a977-575fd19dfd83",
   "metadata": {},
   "source": [
    "With the help of Numpy.expand_dims() method, we can get the expanded dimensions of an array"
   ]
  },
  {
   "cell_type": "markdown",
   "id": "2a6c76b9-a60c-4076-a484-76b2e6e19d75",
   "metadata": {},
   "source": [
    "https://numpy.org/doc/stable/reference/generated/numpy.expand_dims.html"
   ]
  },
  {
   "cell_type": "code",
   "execution_count": 39,
   "id": "d56fa31f-388e-4aa4-b525-237d175cb5f3",
   "metadata": {},
   "outputs": [
    {
     "data": {
      "text/plain": [
       "(1, 15)"
      ]
     },
     "execution_count": 39,
     "metadata": {},
     "output_type": "execute_result"
    }
   ],
   "source": [
    "np.expand_dims(a,axis = 0).shape"
   ]
  },
  {
   "cell_type": "code",
   "execution_count": 38,
   "id": "5c6bf84e-99fa-495e-a304-d11b975495b2",
   "metadata": {},
   "outputs": [
    {
     "data": {
      "text/plain": [
       "array([[24,  1,  9, 91, 56, 84, 57, 94, 27, 73, 91, 21, 79, 93, 19]])"
      ]
     },
     "execution_count": 38,
     "metadata": {},
     "output_type": "execute_result"
    }
   ],
   "source": [
    "np.expand_dims(a,axis = 0)"
   ]
  },
  {
   "cell_type": "code",
   "execution_count": 40,
   "id": "384b6cea-5aba-4748-8294-8225f371c49e",
   "metadata": {},
   "outputs": [
    {
     "data": {
      "text/plain": [
       "array([[24],\n",
       "       [ 1],\n",
       "       [ 9],\n",
       "       [91],\n",
       "       [56],\n",
       "       [84],\n",
       "       [57],\n",
       "       [94],\n",
       "       [27],\n",
       "       [73],\n",
       "       [91],\n",
       "       [21],\n",
       "       [79],\n",
       "       [93],\n",
       "       [19]])"
      ]
     },
     "execution_count": 40,
     "metadata": {},
     "output_type": "execute_result"
    }
   ],
   "source": [
    "np.expand_dims(a,axis = 1)"
   ]
  },
  {
   "cell_type": "code",
   "execution_count": 41,
   "id": "db6d45ab-5db9-4ce6-9bfe-d5cfcd05559d",
   "metadata": {},
   "outputs": [
    {
     "data": {
      "text/plain": [
       "(1, 15)"
      ]
     },
     "execution_count": 41,
     "metadata": {},
     "output_type": "execute_result"
    }
   ],
   "source": [
    "np.expand_dims(a,axis = 0).shape"
   ]
  },
  {
   "cell_type": "markdown",
   "id": "92bd3bb5-7611-413e-9bdd-38e729f71b8c",
   "metadata": {},
   "source": [
    "# np.where"
   ]
  },
  {
   "cell_type": "markdown",
   "id": "f748bb48-89d7-4e25-930b-a481f1b2f70f",
   "metadata": {},
   "source": [
    "The numpy.where() function returns the indices of elements in an input array where the given condition is satisfied."
   ]
  },
  {
   "cell_type": "markdown",
   "id": "33fee0f3-6ccf-48fb-86e6-42db9e534b19",
   "metadata": {},
   "source": [
    "https://numpy.org/doc/stable/reference/generated/numpy.where.html"
   ]
  },
  {
   "cell_type": "code",
   "execution_count": 42,
   "id": "ae3f073b-2318-43a1-a40b-c42c70e014f5",
   "metadata": {},
   "outputs": [
    {
     "data": {
      "text/plain": [
       "array([24,  1,  9, 91, 56, 84, 57, 94, 27, 73, 91, 21, 79, 93, 19])"
      ]
     },
     "execution_count": 42,
     "metadata": {},
     "output_type": "execute_result"
    }
   ],
   "source": [
    "a"
   ]
  },
  {
   "cell_type": "code",
   "execution_count": 44,
   "id": "27a0bf58-7907-4d8e-91a2-0284e985477e",
   "metadata": {},
   "outputs": [
    {
     "data": {
      "text/plain": [
       "(array([ 3,  4,  5,  6,  7,  9, 10, 12, 13], dtype=int64),)"
      ]
     },
     "execution_count": 44,
     "metadata": {},
     "output_type": "execute_result"
    }
   ],
   "source": [
    "# find all indexex which is greater than 50\n",
    "np.where(a>50)"
   ]
  },
  {
   "cell_type": "code",
   "execution_count": 45,
   "id": "5d387acb-3bba-4c73-b1e7-107faacd275d",
   "metadata": {},
   "outputs": [
    {
     "data": {
      "text/plain": [
       "array([24,  1,  9,  0,  0,  0,  0,  0, 27,  0,  0, 21,  0,  0, 19])"
      ]
     },
     "execution_count": 45,
     "metadata": {},
     "output_type": "execute_result"
    }
   ],
   "source": [
    "# replace all values >50 with 0\n",
    "# write code on below basis\n",
    "# # np.where(condition,true,false)\n",
    "np.where(a>50,0,a)"
   ]
  },
  {
   "cell_type": "code",
   "execution_count": 47,
   "id": "b4f80238-4235-418c-a0d1-716f6b08ad86",
   "metadata": {},
   "outputs": [
    {
     "data": {
      "text/plain": [
       "array(['P', 'P', 'P', '91', '56', '84', '57', '94', 'P', '73', '91', 'P',\n",
       "       '79', '93', 'P'], dtype='<U11')"
      ]
     },
     "execution_count": 47,
     "metadata": {},
     "output_type": "execute_result"
    }
   ],
   "source": [
    "# replace all values < 50 with 'P'\n",
    "np.where(a<50,'P',a)"
   ]
  },
  {
   "cell_type": "code",
   "execution_count": 50,
   "id": "5b0535d2-0860-45a2-b3e6-bbe96574cf31",
   "metadata": {},
   "outputs": [
    {
     "data": {
      "text/plain": [
       "array([ 0,  1,  9, 91,  0,  0, 57,  0, 27, 73, 91, 21, 79, 93, 19])"
      ]
     },
     "execution_count": 50,
     "metadata": {},
     "output_type": "execute_result"
    }
   ],
   "source": [
    "# replace all the values divisable by 2 with 0\n",
    "np.where(a%2 == 0,0,a)"
   ]
  },
  {
   "cell_type": "code",
   "execution_count": 55,
   "id": "4939923d-8e13-4f34-bf72-895f34e0a8cb",
   "metadata": {},
   "outputs": [
    {
     "data": {
      "text/plain": [
       "array([ 0,  1,  0, 91, 56,  0,  0, 94,  0, 73, 91,  0, 79,  0, 19])"
      ]
     },
     "execution_count": 55,
     "metadata": {},
     "output_type": "execute_result"
    }
   ],
   "source": [
    "# replace all the values divisable by 3 with 0\n",
    "np.where(a%3 == 0,0,a)"
   ]
  },
  {
   "cell_type": "markdown",
   "id": "eb09464e-e0b2-4bd8-802c-250705c6e87c",
   "metadata": {},
   "source": [
    "# np.argmax"
   ]
  },
  {
   "cell_type": "markdown",
   "id": "89772621-217e-4a97-878b-9f2b29088ddf",
   "metadata": {},
   "source": [
    "The numpy.argmax() function returns indices of the max element of the array in a particular axis."
   ]
  },
  {
   "cell_type": "markdown",
   "id": "d4ee6c2a-bcee-4507-bd98-8bc3216a390b",
   "metadata": {},
   "source": [
    "https://numpy.org/doc/stable/reference/generated/numpy.argmax.html"
   ]
  },
  {
   "cell_type": "code",
   "execution_count": 57,
   "id": "43859da5-b966-4ba7-8dd2-14be24ebbf09",
   "metadata": {},
   "outputs": [
    {
     "name": "stdout",
     "output_type": "stream",
     "text": [
      "[24  1  9 91 56 84 57 94 27 73 91 21 79 93 19]\n"
     ]
    },
    {
     "data": {
      "text/plain": [
       "7"
      ]
     },
     "execution_count": 57,
     "metadata": {},
     "output_type": "execute_result"
    }
   ],
   "source": [
    "# by this we find max value form the array\n",
    "print(a)\n",
    "np.argmax(a)"
   ]
  },
  {
   "cell_type": "code",
   "execution_count": 61,
   "id": "019fe1c8-0823-46af-b859-dd5648e17609",
   "metadata": {},
   "outputs": [
    {
     "name": "stdout",
     "output_type": "stream",
     "text": [
      "[[ 6 40 84 95]\n",
      " [43 51 85 71]\n",
      " [88 36 11 17]\n",
      " [13 90 77 49]\n",
      " [94 66 88 42]\n",
      " [73  2 81  1]]\n"
     ]
    },
    {
     "data": {
      "text/plain": [
       "array([3, 2, 0, 1, 0, 2], dtype=int64)"
      ]
     },
     "execution_count": 61,
     "metadata": {},
     "output_type": "execute_result"
    }
   ],
   "source": [
    "# by this we find max value form the array \n",
    "# we find first rowwise (use axis = 1)\n",
    "print(b)\n",
    "np.argmax(b,axis = 1)"
   ]
  },
  {
   "cell_type": "code",
   "execution_count": 63,
   "id": "55d5bf88-a768-4974-a3e0-822772483b3e",
   "metadata": {},
   "outputs": [
    {
     "name": "stdout",
     "output_type": "stream",
     "text": [
      "[[ 6 40 84 95]\n",
      " [43 51 85 71]\n",
      " [88 36 11 17]\n",
      " [13 90 77 49]\n",
      " [94 66 88 42]\n",
      " [73  2 81  1]]\n"
     ]
    },
    {
     "data": {
      "text/plain": [
       "array([4, 3, 4, 0], dtype=int64)"
      ]
     },
     "execution_count": 63,
     "metadata": {},
     "output_type": "execute_result"
    }
   ],
   "source": [
    "# by this we find max value form the array \n",
    "# we find first columnwise (use axis = 0 )\n",
    "print(b)\n",
    "np.argmax(b,axis = 0)"
   ]
  },
  {
   "cell_type": "code",
   "execution_count": 65,
   "id": "862fa8a1-ba93-43d0-8d0e-a4bbe50cfec1",
   "metadata": {},
   "outputs": [
    {
     "name": "stdout",
     "output_type": "stream",
     "text": [
      "[[ 6 40 84 95]\n",
      " [43 51 85 71]\n",
      " [88 36 11 17]\n",
      " [13 90 77 49]\n",
      " [94 66 88 42]\n",
      " [73  2 81  1]]\n"
     ]
    },
    {
     "data": {
      "text/plain": [
       "array([0, 5, 2, 5], dtype=int64)"
      ]
     },
     "execution_count": 65,
     "metadata": {},
     "output_type": "execute_result"
    }
   ],
   "source": [
    "# we also find minimum value\n",
    "print(b)\n",
    "np.argmin(b, axis = 0)"
   ]
  },
  {
   "cell_type": "markdown",
   "id": "56884b94-edd0-46ad-91c4-e671db471edf",
   "metadata": {},
   "source": [
    "# np.cumsum"
   ]
  },
  {
   "cell_type": "markdown",
   "id": "505494c2-5476-4586-be04-ad5ea7a936df",
   "metadata": {},
   "source": [
    "numpy.cumsum() function is used when we want to compute the cumulative sum of array elements over a given axis."
   ]
  },
  {
   "cell_type": "markdown",
   "id": "d63f3dd1-28e0-411e-9f2a-5f177c635590",
   "metadata": {},
   "source": [
    "https://numpy.org/doc/stable/reference/generated/numpy.cumsum.html"
   ]
  },
  {
   "cell_type": "code",
   "execution_count": 66,
   "id": "d3021e22-16d5-4f4e-8611-184cc928abd0",
   "metadata": {},
   "outputs": [
    {
     "name": "stdout",
     "output_type": "stream",
     "text": [
      "[24  1  9 91 56 84 57 94 27 73 91 21 79 93 19]\n"
     ]
    },
    {
     "data": {
      "text/plain": [
       "array([ 24,  25,  34, 125, 181, 265, 322, 416, 443, 516, 607, 628, 707,\n",
       "       800, 819], dtype=int32)"
      ]
     },
     "execution_count": 66,
     "metadata": {},
     "output_type": "execute_result"
    }
   ],
   "source": [
    "print(a)\n",
    "np.cumsum(a)"
   ]
  },
  {
   "cell_type": "code",
   "execution_count": 72,
   "id": "e1b99fbb-133f-4f33-aa9d-50fc0340d7dd",
   "metadata": {},
   "outputs": [
    {
     "name": "stdout",
     "output_type": "stream",
     "text": [
      "[[ 6 40 84 95]\n",
      " [43 51 85 71]\n",
      " [88 36 11 17]\n",
      " [13 90 77 49]\n",
      " [94 66 88 42]\n",
      " [73  2 81  1]]\n"
     ]
    },
    {
     "data": {
      "text/plain": [
       "array([   6,   46,  130,  225,  268,  319,  404,  475,  563,  599,  610,\n",
       "        627,  640,  730,  807,  856,  950, 1016, 1104, 1146, 1219, 1221,\n",
       "       1302, 1303], dtype=int32)"
      ]
     },
     "execution_count": 72,
     "metadata": {},
     "output_type": "execute_result"
    }
   ],
   "source": [
    "print(b)\n",
    "np.cumsum(b)"
   ]
  },
  {
   "cell_type": "code",
   "execution_count": 73,
   "id": "6a15b02b-e931-4464-8181-86a614307675",
   "metadata": {},
   "outputs": [
    {
     "name": "stdout",
     "output_type": "stream",
     "text": [
      "[[ 6 40 84 95]\n",
      " [43 51 85 71]\n",
      " [88 36 11 17]\n",
      " [13 90 77 49]\n",
      " [94 66 88 42]\n",
      " [73  2 81  1]]\n"
     ]
    },
    {
     "data": {
      "text/plain": [
       "array([[  6,  40,  84,  95],\n",
       "       [ 49,  91, 169, 166],\n",
       "       [137, 127, 180, 183],\n",
       "       [150, 217, 257, 232],\n",
       "       [244, 283, 345, 274],\n",
       "       [317, 285, 426, 275]], dtype=int32)"
      ]
     },
     "execution_count": 73,
     "metadata": {},
     "output_type": "execute_result"
    }
   ],
   "source": [
    "print(b)\n",
    "np.cumsum(b,axis = 0)"
   ]
  },
  {
   "cell_type": "code",
   "execution_count": 74,
   "id": "9bb86594-78fd-478b-bfe5-ceedf4954040",
   "metadata": {},
   "outputs": [
    {
     "name": "stdout",
     "output_type": "stream",
     "text": [
      "[[ 6 40 84 95]\n",
      " [43 51 85 71]\n",
      " [88 36 11 17]\n",
      " [13 90 77 49]\n",
      " [94 66 88 42]\n",
      " [73  2 81  1]]\n"
     ]
    },
    {
     "data": {
      "text/plain": [
       "array([[  6,  46, 130, 225],\n",
       "       [ 43,  94, 179, 250],\n",
       "       [ 88, 124, 135, 152],\n",
       "       [ 13, 103, 180, 229],\n",
       "       [ 94, 160, 248, 290],\n",
       "       [ 73,  75, 156, 157]], dtype=int32)"
      ]
     },
     "execution_count": 74,
     "metadata": {},
     "output_type": "execute_result"
    }
   ],
   "source": [
    "print(b)\n",
    "np.cumsum(b,axis = 1)"
   ]
  },
  {
   "cell_type": "code",
   "execution_count": 75,
   "id": "32c96f87-2720-4375-a36b-79ac34298685",
   "metadata": {},
   "outputs": [
    {
     "name": "stdout",
     "output_type": "stream",
     "text": [
      "[24  1  9 91 56 84 57 94 27 73 91 21 79 93 19]\n"
     ]
    },
    {
     "data": {
      "text/plain": [
       "array([         24,          24,         216,       19656,     1100736,\n",
       "          92461824,   975356672,  1489213952,  1554071040,  1778036224,\n",
       "       -1407460864,   508092928,  1484635648,   632161792,  -873827840],\n",
       "      dtype=int32)"
      ]
     },
     "execution_count": 75,
     "metadata": {},
     "output_type": "execute_result"
    }
   ],
   "source": [
    "# np.cumprod\n",
    "## it is basically use for multiplication\n",
    "\n",
    "print(a)\n",
    "np.cumprod(a)"
   ]
  },
  {
   "cell_type": "markdown",
   "id": "8187e904-f688-4277-9e9c-7b60bf288c47",
   "metadata": {},
   "source": [
    "# np.percentile"
   ]
  },
  {
   "cell_type": "markdown",
   "id": "2150fd9b-fc96-4cd6-af59-4c44f42cd10b",
   "metadata": {},
   "source": [
    "numpy.cumsum() function is used when we want to compute the cumulative sum of array elements over a given axis."
   ]
  },
  {
   "cell_type": "markdown",
   "id": "1fd326ef-1b96-4cb7-ad53-c8f0df8dcc39",
   "metadata": {},
   "source": [
    "https://numpy.org/doc/stable/reference/generated/numpy.cumsum.html"
   ]
  },
  {
   "cell_type": "code",
   "execution_count": 76,
   "id": "3a41ab1b-c534-4dc7-a0fd-daee2c8df375",
   "metadata": {},
   "outputs": [
    {
     "data": {
      "text/plain": [
       "array([24,  1,  9, 91, 56, 84, 57, 94, 27, 73, 91, 21, 79, 93, 19])"
      ]
     },
     "execution_count": 76,
     "metadata": {},
     "output_type": "execute_result"
    }
   ],
   "source": [
    "a"
   ]
  },
  {
   "cell_type": "code",
   "execution_count": 77,
   "id": "720b2a36-b532-4d9d-b6b2-8d6d229615f3",
   "metadata": {},
   "outputs": [
    {
     "data": {
      "text/plain": [
       "94.0"
      ]
     },
     "execution_count": 77,
     "metadata": {},
     "output_type": "execute_result"
    }
   ],
   "source": [
    "np.percentile(a,100)"
   ]
  },
  {
   "cell_type": "code",
   "execution_count": 78,
   "id": "1722bd51-0f7c-4ab1-9ac8-8f1e0682d524",
   "metadata": {},
   "outputs": [
    {
     "data": {
      "text/plain": [
       "57.0"
      ]
     },
     "execution_count": 78,
     "metadata": {},
     "output_type": "execute_result"
    }
   ],
   "source": [
    "np.percentile(a,50)"
   ]
  },
  {
   "cell_type": "markdown",
   "id": "101d507d-ef99-4796-8f2e-f45a4d3b380f",
   "metadata": {},
   "source": [
    "# np.histogram"
   ]
  },
  {
   "cell_type": "markdown",
   "id": "cc78cfb0-8929-44fa-a4b0-989543d0e09e",
   "metadata": {},
   "source": [
    "Numpy has a built-in numpy.histogram() function which represents the frequency of data distribution in the graphical form."
   ]
  },
  {
   "cell_type": "markdown",
   "id": "110753de-bed1-4953-98b2-4f04e1c6914a",
   "metadata": {},
   "source": [
    "https://numpy.org/doc/stable/reference/generated/numpy.histogram.html"
   ]
  },
  {
   "cell_type": "code",
   "execution_count": 79,
   "id": "b2df9702-647f-4e29-a1e3-9fad3a6f0946",
   "metadata": {},
   "outputs": [
    {
     "data": {
      "text/plain": [
       "array([24,  1,  9, 91, 56, 84, 57, 94, 27, 73, 91, 21, 79, 93, 19])"
      ]
     },
     "execution_count": 79,
     "metadata": {},
     "output_type": "execute_result"
    }
   ],
   "source": [
    "a"
   ]
  },
  {
   "cell_type": "code",
   "execution_count": 80,
   "id": "483ccf4a-e47c-47c7-befd-7b67bd92a5c2",
   "metadata": {},
   "outputs": [
    {
     "data": {
      "text/plain": [
       "(array([1, 3, 0, 0], dtype=int64), array([10, 20, 30, 40, 50]))"
      ]
     },
     "execution_count": 80,
     "metadata": {},
     "output_type": "execute_result"
    }
   ],
   "source": [
    "np.histogram(a,bins = [10,20,30,40,50])"
   ]
  },
  {
   "cell_type": "markdown",
   "id": "f36a4efe-ccc4-43b2-855a-e20fc3016983",
   "metadata": {},
   "source": [
    "# np.corrcoef"
   ]
  },
  {
   "cell_type": "markdown",
   "id": "4714c446-f3b5-4528-b89e-26a66fa47d4c",
   "metadata": {},
   "source": [
    "Return Pearson product-moment correlation coefficients."
   ]
  },
  {
   "cell_type": "markdown",
   "id": "a597f305-f2a8-4bba-a60d-b252551d5633",
   "metadata": {},
   "source": [
    "https://numpy.org/doc/stable/reference/generated/numpy.corrcoef.html"
   ]
  },
  {
   "cell_type": "code",
   "execution_count": 81,
   "id": "bb02b33b-6c8d-47a8-a949-a882921a0eab",
   "metadata": {},
   "outputs": [
    {
     "data": {
      "text/plain": [
       "array([[1.        , 0.25344572],\n",
       "       [0.25344572, 1.        ]])"
      ]
     },
     "execution_count": 81,
     "metadata": {},
     "output_type": "execute_result"
    }
   ],
   "source": [
    "salary = np.array([20000,40000,25000,35000,60000])\n",
    "experience = np.array([1,3,2,4,2])\n",
    "\n",
    "np.corrcoef(salary,experience)"
   ]
  },
  {
   "cell_type": "markdown",
   "id": "2625372e-501b-4e1f-bcd3-37f0f0c687c5",
   "metadata": {},
   "source": [
    "# np.isin"
   ]
  },
  {
   "cell_type": "markdown",
   "id": "9adad8f8-f002-4761-9f4b-2c19a633d85c",
   "metadata": {},
   "source": [
    "With the help of numpy.isin() method, we can see that one array having values are checked in a different numpy array having different elements with different sizes."
   ]
  },
  {
   "cell_type": "markdown",
   "id": "063a745e-e309-4389-824f-e2915ccfaef5",
   "metadata": {},
   "source": [
    "https://numpy.org/doc/stable/reference/generated/numpy.isin.html"
   ]
  },
  {
   "cell_type": "code",
   "execution_count": 82,
   "id": "d964d65a-d1eb-447c-86f9-6fcbd49c1973",
   "metadata": {},
   "outputs": [
    {
     "data": {
      "text/plain": [
       "array([24,  1,  9, 91, 56, 84, 57, 94, 27, 73, 91, 21, 79, 93, 19])"
      ]
     },
     "execution_count": 82,
     "metadata": {},
     "output_type": "execute_result"
    }
   ],
   "source": [
    "a"
   ]
  },
  {
   "cell_type": "code",
   "execution_count": 90,
   "id": "8c8d2561-5ef8-43c2-8af4-221b4da1ee4f",
   "metadata": {},
   "outputs": [
    {
     "data": {
      "text/plain": [
       "array([False,  True, False,  True, False,  True, False, False, False,\n",
       "       False,  True, False, False, False, False])"
      ]
     },
     "execution_count": 90,
     "metadata": {},
     "output_type": "execute_result"
    }
   ],
   "source": [
    "items = 10,91,84,40,1\n",
    "np.isin(a,items)"
   ]
  },
  {
   "cell_type": "code",
   "execution_count": 89,
   "id": "5380b1f3-57f5-4ae3-91db-61a5065855b3",
   "metadata": {},
   "outputs": [
    {
     "data": {
      "text/plain": [
       "array([ 1, 91, 84, 91])"
      ]
     },
     "execution_count": 89,
     "metadata": {},
     "output_type": "execute_result"
    }
   ],
   "source": [
    "items = 10,91,84,40,1\n",
    "a[np.isin(a,items)]"
   ]
  },
  {
   "cell_type": "markdown",
   "id": "7f9bbb7b-a046-47fc-924d-5a06c98399f6",
   "metadata": {},
   "source": [
    "# np.flip"
   ]
  },
  {
   "cell_type": "markdown",
   "id": "16edc0a0-a85f-4a1c-a993-35e6be5f7e75",
   "metadata": {},
   "source": [
    "The numpy.flip() function reverses the order of array elements along the specified axis, preserving the shape of the array."
   ]
  },
  {
   "cell_type": "markdown",
   "id": "995bb178-e216-43cb-9eff-c791ada4ac42",
   "metadata": {},
   "source": [
    "https://numpy.org/doc/stable/reference/generated/numpy.flip.html"
   ]
  },
  {
   "cell_type": "code",
   "execution_count": 91,
   "id": "a701cc82-3b93-48a7-ae64-bf21dc63348d",
   "metadata": {},
   "outputs": [
    {
     "data": {
      "text/plain": [
       "array([24,  1,  9, 91, 56, 84, 57, 94, 27, 73, 91, 21, 79, 93, 19])"
      ]
     },
     "execution_count": 91,
     "metadata": {},
     "output_type": "execute_result"
    }
   ],
   "source": [
    "a"
   ]
  },
  {
   "cell_type": "code",
   "execution_count": 92,
   "id": "c0c33c20-ddbe-425a-afff-4366f2b3d9a2",
   "metadata": {},
   "outputs": [
    {
     "data": {
      "text/plain": [
       "array([19, 93, 79, 21, 91, 73, 27, 94, 57, 84, 56, 91,  9,  1, 24])"
      ]
     },
     "execution_count": 92,
     "metadata": {},
     "output_type": "execute_result"
    }
   ],
   "source": [
    "np.flip(a)"
   ]
  },
  {
   "cell_type": "code",
   "execution_count": 93,
   "id": "9239dc8a-9354-45bc-97b9-6f47a92023d0",
   "metadata": {},
   "outputs": [
    {
     "name": "stdout",
     "output_type": "stream",
     "text": [
      "[[ 6 40 84 95]\n",
      " [43 51 85 71]\n",
      " [88 36 11 17]\n",
      " [13 90 77 49]\n",
      " [94 66 88 42]\n",
      " [73  2 81  1]]\n"
     ]
    },
    {
     "data": {
      "text/plain": [
       "array([[ 1, 81,  2, 73],\n",
       "       [42, 88, 66, 94],\n",
       "       [49, 77, 90, 13],\n",
       "       [17, 11, 36, 88],\n",
       "       [71, 85, 51, 43],\n",
       "       [95, 84, 40,  6]])"
      ]
     },
     "execution_count": 93,
     "metadata": {},
     "output_type": "execute_result"
    }
   ],
   "source": [
    "print(b)\n",
    "np.flip(b)"
   ]
  },
  {
   "cell_type": "code",
   "execution_count": 95,
   "id": "9c021d65-c71c-4bfd-99bc-913079b199d6",
   "metadata": {},
   "outputs": [
    {
     "name": "stdout",
     "output_type": "stream",
     "text": [
      "[[ 6 40 84 95]\n",
      " [43 51 85 71]\n",
      " [88 36 11 17]\n",
      " [13 90 77 49]\n",
      " [94 66 88 42]\n",
      " [73  2 81  1]]\n"
     ]
    },
    {
     "data": {
      "text/plain": [
       "array([[73,  2, 81,  1],\n",
       "       [94, 66, 88, 42],\n",
       "       [13, 90, 77, 49],\n",
       "       [88, 36, 11, 17],\n",
       "       [43, 51, 85, 71],\n",
       "       [ 6, 40, 84, 95]])"
      ]
     },
     "execution_count": 95,
     "metadata": {},
     "output_type": "execute_result"
    }
   ],
   "source": [
    "# for column fliping use axis = 0\n",
    "print(b)\n",
    "np.flip(b,axis = 0)"
   ]
  },
  {
   "cell_type": "code",
   "execution_count": 97,
   "id": "eba9f33e-b578-4875-b6d2-abb64a2558b8",
   "metadata": {},
   "outputs": [
    {
     "name": "stdout",
     "output_type": "stream",
     "text": [
      "[[ 6 40 84 95]\n",
      " [43 51 85 71]\n",
      " [88 36 11 17]\n",
      " [13 90 77 49]\n",
      " [94 66 88 42]\n",
      " [73  2 81  1]]\n"
     ]
    },
    {
     "data": {
      "text/plain": [
       "array([[95, 84, 40,  6],\n",
       "       [71, 85, 51, 43],\n",
       "       [17, 11, 36, 88],\n",
       "       [49, 77, 90, 13],\n",
       "       [42, 88, 66, 94],\n",
       "       [ 1, 81,  2, 73]])"
      ]
     },
     "execution_count": 97,
     "metadata": {},
     "output_type": "execute_result"
    }
   ],
   "source": [
    "# for row fliping use axis = 1\n",
    "print(b)\n",
    "np.flip(b,axis = 1)"
   ]
  },
  {
   "cell_type": "markdown",
   "id": "85a861a0-acd7-4709-9791-7b397cf585af",
   "metadata": {},
   "source": [
    "# np.put"
   ]
  },
  {
   "cell_type": "markdown",
   "id": "59de9a21-6c83-412b-9071-fccfea0cb75d",
   "metadata": {},
   "source": [
    "The numpy.put() function replaces specific elements of an array with given values of p_array. Array indexed works on flattened array."
   ]
  },
  {
   "cell_type": "markdown",
   "id": "d6a82086-db76-4429-98bb-045a68b001b3",
   "metadata": {},
   "source": [
    "https://numpy.org/doc/stable/reference/generated/numpy.put.html"
   ]
  },
  {
   "cell_type": "code",
   "execution_count": 112,
   "id": "ba5a9f9d-b6ef-42af-bcbe-f0be06ad5c79",
   "metadata": {},
   "outputs": [
    {
     "name": "stdout",
     "output_type": "stream",
     "text": [
      "[28 21 36 34 17 26 25 23 37 39]\n",
      "[32 33 36 34 17 26 25 23 37 39]\n"
     ]
    }
   ],
   "source": [
    "# code\n",
    "z = np.random.randint(10,50,10)\n",
    "print(z)\n",
    "\n",
    "np.put(z,[0,1],[32,33])\n",
    "print(z)"
   ]
  },
  {
   "cell_type": "markdown",
   "id": "3ae72998-518b-428a-8982-fda61c41b554",
   "metadata": {},
   "source": [
    "# np.delete"
   ]
  },
  {
   "cell_type": "markdown",
   "id": "6af17886-ab06-4db0-8ede-bc194182519e",
   "metadata": {},
   "source": [
    "The numpy.delete() function returns a new array with the deletion of sub-arrays along with the mentioned axis."
   ]
  },
  {
   "cell_type": "markdown",
   "id": "1ff15c31-9d66-45f2-82e6-408e913bc131",
   "metadata": {},
   "source": [
    "https://numpy.org/doc/stable/reference/generated/numpy.delete.html"
   ]
  },
  {
   "cell_type": "code",
   "execution_count": 114,
   "id": "ac046d32-d6d6-427d-8de4-831065870160",
   "metadata": {},
   "outputs": [
    {
     "name": "stdout",
     "output_type": "stream",
     "text": [
      "[32 33 36 34 17 26 25 23 37 39]\n"
     ]
    },
    {
     "data": {
      "text/plain": [
       "array([33, 36, 34, 17, 26, 25, 23, 37, 39])"
      ]
     },
     "execution_count": 114,
     "metadata": {},
     "output_type": "execute_result"
    }
   ],
   "source": [
    "print(z)\n",
    "# for deleting single value\n",
    "np.delete(z,0)"
   ]
  },
  {
   "cell_type": "code",
   "execution_count": 116,
   "id": "96590b5a-8814-4e41-ab61-8cacfe936a2f",
   "metadata": {},
   "outputs": [
    {
     "name": "stdout",
     "output_type": "stream",
     "text": [
      "[32 33 36 34 17 26 25 23 37 39]\n"
     ]
    },
    {
     "data": {
      "text/plain": [
       "array([33, 34, 26, 25, 23, 37, 39])"
      ]
     },
     "execution_count": 116,
     "metadata": {},
     "output_type": "execute_result"
    }
   ],
   "source": [
    "print(z)\n",
    "# for deleting multiple value\n",
    "np.delete(z,[0,2,4])"
   ]
  },
  {
   "cell_type": "markdown",
   "id": "1dcf328f-bfde-4c96-b538-43b09052289e",
   "metadata": {},
   "source": [
    "# set function"
   ]
  },
  {
   "cell_type": "markdown",
   "id": "198378ae-1376-4d50-9597-4b9a72c4ad9a",
   "metadata": {},
   "source": [
    "np.union1d"
   ]
  },
  {
   "cell_type": "markdown",
   "id": "f0a9be63-33dc-4a0d-8a2e-955223ce1b4d",
   "metadata": {},
   "source": [
    "np.intersect1d"
   ]
  },
  {
   "cell_type": "markdown",
   "id": "4fd039b3-fe50-4abc-9ea7-f3c4946d42b3",
   "metadata": {},
   "source": [
    "np.setdiff1d"
   ]
  },
  {
   "cell_type": "markdown",
   "id": "31b54d7f-af48-4b62-8056-67aca895eb3c",
   "metadata": {},
   "source": [
    "np.setxor1d"
   ]
  },
  {
   "cell_type": "markdown",
   "id": "8b720133-fa53-46b3-87c7-ab00da81a2ba",
   "metadata": {},
   "source": [
    "np.in1d"
   ]
  },
  {
   "cell_type": "code",
   "execution_count": 117,
   "id": "1f34b593-18bb-4c05-99e3-0290bd839140",
   "metadata": {},
   "outputs": [
    {
     "data": {
      "text/plain": [
       "array([1, 2, 3, 4, 5, 6, 7])"
      ]
     },
     "execution_count": 117,
     "metadata": {},
     "output_type": "execute_result"
    }
   ],
   "source": [
    "m = np.array([1,2,3,4,5])\n",
    "n = np.array([3,4,5,6,7])\n",
    "\n",
    "np.union1d(m,n)"
   ]
  },
  {
   "cell_type": "code",
   "execution_count": 118,
   "id": "e092d59f-171a-4798-bbbe-2d133edb112b",
   "metadata": {},
   "outputs": [
    {
     "data": {
      "text/plain": [
       "array([3, 4, 5])"
      ]
     },
     "execution_count": 118,
     "metadata": {},
     "output_type": "execute_result"
    }
   ],
   "source": [
    "m = np.array([1,2,3,4,5])\n",
    "n = np.array([3,4,5,6,7])\n",
    "\n",
    "np.intersect1d(m,n)"
   ]
  },
  {
   "cell_type": "code",
   "execution_count": 119,
   "id": "b799fb82-4af8-411b-8b4d-a15a7d7049d0",
   "metadata": {},
   "outputs": [
    {
     "data": {
      "text/plain": [
       "array([1, 2])"
      ]
     },
     "execution_count": 119,
     "metadata": {},
     "output_type": "execute_result"
    }
   ],
   "source": [
    "m = np.array([1,2,3,4,5])\n",
    "n = np.array([3,4,5,6,7])\n",
    "\n",
    "np.setdiff1d(m,n)"
   ]
  },
  {
   "cell_type": "code",
   "execution_count": 120,
   "id": "061d58f9-927b-4537-bb7d-26b2871b94b2",
   "metadata": {},
   "outputs": [
    {
     "data": {
      "text/plain": [
       "array([1, 2, 6, 7])"
      ]
     },
     "execution_count": 120,
     "metadata": {},
     "output_type": "execute_result"
    }
   ],
   "source": [
    "m = np.array([1,2,3,4,5])\n",
    "n = np.array([3,4,5,6,7])\n",
    "\n",
    "np.setxor1d(m,n)"
   ]
  },
  {
   "cell_type": "code",
   "execution_count": 121,
   "id": "f98b3e41-4757-4e91-b531-499820f65633",
   "metadata": {},
   "outputs": [
    {
     "data": {
      "text/plain": [
       "array([False, False,  True,  True,  True])"
      ]
     },
     "execution_count": 121,
     "metadata": {},
     "output_type": "execute_result"
    }
   ],
   "source": [
    "m = np.array([1,2,3,4,5])\n",
    "n = np.array([3,4,5,6,7])\n",
    "\n",
    "np.in1d(m,n)"
   ]
  },
  {
   "cell_type": "code",
   "execution_count": 123,
   "id": "a4e554d5-0f5b-48e1-8725-1d6de2d02c2a",
   "metadata": {},
   "outputs": [
    {
     "data": {
      "text/plain": [
       "array([1])"
      ]
     },
     "execution_count": 123,
     "metadata": {},
     "output_type": "execute_result"
    }
   ],
   "source": [
    "m[np.in1d(m,1)]"
   ]
  },
  {
   "cell_type": "markdown",
   "id": "fdaa63c1-eea9-4163-a060-75bc26dccc08",
   "metadata": {},
   "source": [
    "# np.clip"
   ]
  },
  {
   "cell_type": "markdown",
   "id": "2f04f4f3-ced1-478b-b243-48923d62f116",
   "metadata": {},
   "source": [
    "numpy.clip() function is used to Clip (limit) the values in an array."
   ]
  },
  {
   "cell_type": "markdown",
   "id": "e9f76eec-df2a-494b-9c01-90bf3c743ec6",
   "metadata": {},
   "source": [
    "https://numpy.org/doc/stable/reference/generated/numpy.clip.html"
   ]
  },
  {
   "cell_type": "code",
   "execution_count": 124,
   "id": "718589af-04b3-41e0-922e-688cdb9cbbc9",
   "metadata": {},
   "outputs": [
    {
     "data": {
      "text/plain": [
       "array([24,  1,  9, 91, 56, 84, 57, 94, 27, 73, 91, 21, 79, 93, 19])"
      ]
     },
     "execution_count": 124,
     "metadata": {},
     "output_type": "execute_result"
    }
   ],
   "source": [
    "a"
   ]
  },
  {
   "cell_type": "code",
   "execution_count": 125,
   "id": "d7f97b63-06a6-4de2-b4d8-3387dc17ac26",
   "metadata": {},
   "outputs": [
    {
     "data": {
      "text/plain": [
       "array([25, 25, 25, 75, 56, 75, 57, 75, 27, 73, 75, 25, 75, 75, 25])"
      ]
     },
     "execution_count": 125,
     "metadata": {},
     "output_type": "execute_result"
    }
   ],
   "source": [
    "np.clip(a,a_min = 25,a_max = 75)"
   ]
  },
  {
   "cell_type": "code",
   "execution_count": null,
   "id": "f7976b03-0105-420b-a73e-9816653f7884",
   "metadata": {},
   "outputs": [],
   "source": []
  }
 ],
 "metadata": {
  "kernelspec": {
   "display_name": "Python 3 (ipykernel)",
   "language": "python",
   "name": "python3"
  },
  "language_info": {
   "codemirror_mode": {
    "name": "ipython",
    "version": 3
   },
   "file_extension": ".py",
   "mimetype": "text/x-python",
   "name": "python",
   "nbconvert_exporter": "python",
   "pygments_lexer": "ipython3",
   "version": "3.9.7"
  }
 },
 "nbformat": 4,
 "nbformat_minor": 5
}
