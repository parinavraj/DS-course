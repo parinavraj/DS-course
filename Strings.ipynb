{
 "cells": [
  {
   "cell_type": "markdown",
   "id": "c943f586-5891-4be2-b758-abf808debe26",
   "metadata": {},
   "source": [
    "# Strings"
   ]
  },
  {
   "cell_type": "markdown",
   "id": "0a3321a7-1810-4800-886b-ce18f79f7744",
   "metadata": {},
   "source": [
    "Strings are sequence of Characters\n",
    "\n",
    "In Python specifically, strings are a sequence of Unicode Characters\n",
    "\n",
    "- Creating Strings\n",
    "- Accessing Strings\n",
    "- Adding Chars to Strings\n",
    "- Editing Strings\n",
    "- Deleting Strings\n",
    "- Operations on Strings\n",
    "- String Functions"
   ]
  },
  {
   "cell_type": "markdown",
   "id": "732a391e-14eb-4b3b-8d36-11b2058ca815",
   "metadata": {},
   "source": [
    "# creating strings"
   ]
  },
  {
   "cell_type": "code",
   "execution_count": 3,
   "id": "53c55d07-41b5-4849-a32d-d9648b43a7cb",
   "metadata": {},
   "outputs": [
    {
     "name": "stdout",
     "output_type": "stream",
     "text": [
      "hello\n"
     ]
    }
   ],
   "source": [
    "s = 'hello'\n",
    "s = \"hello\"\n",
    "s = '''hello'''# for multilines strings\n",
    "s = \"\"\"hello\"\"\"\n",
    "s = str('hello')\n",
    "print(s)"
   ]
  },
  {
   "cell_type": "markdown",
   "id": "3d1c462d-6081-405d-9f52-d0ded8bcb894",
   "metadata": {},
   "source": [
    "# Accessing Substrings from a string"
   ]
  },
  {
   "cell_type": "code",
   "execution_count": 5,
   "id": "efdb5b76-f54d-4b64-8117-294b1676e093",
   "metadata": {},
   "outputs": [
    {
     "name": "stdout",
     "output_type": "stream",
     "text": [
      "e\n"
     ]
    }
   ],
   "source": [
    "# Positive indexing\n",
    "s = 'hello world'\n",
    "print(s[1])"
   ]
  },
  {
   "cell_type": "code",
   "execution_count": 7,
   "id": "ecbc2480-3fa6-4e0e-bc6b-d7819c053c24",
   "metadata": {},
   "outputs": [
    {
     "name": "stdout",
     "output_type": "stream",
     "text": [
      "d\n"
     ]
    }
   ],
   "source": [
    "# Negative indexing\n",
    "s = 'hello world'\n",
    "print(s[-1])"
   ]
  },
  {
   "cell_type": "code",
   "execution_count": 8,
   "id": "65788b63-a636-47f2-a6ad-b48cc7cbe9c6",
   "metadata": {},
   "outputs": [
    {
     "name": "stdout",
     "output_type": "stream",
     "text": [
      "hello\n"
     ]
    }
   ],
   "source": [
    "# slicing \n",
    "s = 'hello world'\n",
    "print(s[0:5])"
   ]
  },
  {
   "cell_type": "code",
   "execution_count": 9,
   "id": "06596408-0e15-4ce8-a827-2c103d0c8830",
   "metadata": {},
   "outputs": [
    {
     "name": "stdout",
     "output_type": "stream",
     "text": [
      "hlwl\n"
     ]
    }
   ],
   "source": [
    "s = 'hello world'\n",
    "print(s[::3])"
   ]
  },
  {
   "cell_type": "code",
   "execution_count": 11,
   "id": "8ec8fb32-7c32-4c27-aa9b-a3b1aca95746",
   "metadata": {},
   "outputs": [
    {
     "name": "stdout",
     "output_type": "stream",
     "text": [
      "w olle\n"
     ]
    }
   ],
   "source": [
    "s = 'hello world'\n",
    "print(s[6:0:-1])"
   ]
  },
  {
   "cell_type": "code",
   "execution_count": 12,
   "id": "f69530f2-c99d-4e25-832b-a4cee9560867",
   "metadata": {},
   "outputs": [
    {
     "name": "stdout",
     "output_type": "stream",
     "text": [
      "dlrow olleh\n"
     ]
    }
   ],
   "source": [
    "print(s[::-1])"
   ]
  },
  {
   "cell_type": "code",
   "execution_count": 13,
   "id": "420886b2-504b-4f83-9f75-18ef4c4f85d0",
   "metadata": {},
   "outputs": [
    {
     "name": "stdout",
     "output_type": "stream",
     "text": [
      "world\n"
     ]
    }
   ],
   "source": [
    "s = 'hello world'\n",
    "print(s[-5:])"
   ]
  },
  {
   "cell_type": "code",
   "execution_count": 23,
   "id": "38e917a0-0ae6-4df1-b9d4-33bd8d4165e1",
   "metadata": {},
   "outputs": [
    {
     "name": "stdout",
     "output_type": "stream",
     "text": [
      "dlro\n"
     ]
    }
   ],
   "source": [
    "s = 'hello world'\n",
    "print(s[-1:6:-1])"
   ]
  },
  {
   "cell_type": "code",
   "execution_count": 3,
   "id": "d7721ff5-67c9-4d2c-8f48-6de851f89d49",
   "metadata": {},
   "outputs": [
    {
     "ename": "TypeError",
     "evalue": "'str' object does not support item assignment",
     "output_type": "error",
     "traceback": [
      "\u001b[1;31m---------------------------------------------------------------------------\u001b[0m",
      "\u001b[1;31mTypeError\u001b[0m                                 Traceback (most recent call last)",
      "\u001b[1;32m~\\AppData\\Local\\Temp/ipykernel_1440/575726432.py\u001b[0m in \u001b[0;36m<module>\u001b[1;34m\u001b[0m\n\u001b[0;32m      1\u001b[0m \u001b[1;31m# python strings are immutable\u001b[0m\u001b[1;33m\u001b[0m\u001b[1;33m\u001b[0m\u001b[0m\n\u001b[0;32m      2\u001b[0m \u001b[0ms\u001b[0m \u001b[1;33m=\u001b[0m \u001b[1;34m'hello world'\u001b[0m\u001b[1;33m\u001b[0m\u001b[1;33m\u001b[0m\u001b[0m\n\u001b[1;32m----> 3\u001b[1;33m \u001b[0ms\u001b[0m\u001b[1;33m[\u001b[0m\u001b[1;36m0\u001b[0m\u001b[1;33m]\u001b[0m \u001b[1;33m=\u001b[0m \u001b[1;34m'H'\u001b[0m\u001b[1;33m\u001b[0m\u001b[1;33m\u001b[0m\u001b[0m\n\u001b[0m",
      "\u001b[1;31mTypeError\u001b[0m: 'str' object does not support item assignment"
     ]
    }
   ],
   "source": [
    "# python strings are immutable\n",
    "s = 'hello world'\n",
    "s[0] = 'H'"
   ]
  },
  {
   "cell_type": "code",
   "execution_count": 5,
   "id": "a6965de5-018e-4434-9bb6-bb234487f3ca",
   "metadata": {},
   "outputs": [],
   "source": [
    "s = 'hello world'\n",
    "del s"
   ]
  },
  {
   "cell_type": "code",
   "execution_count": 6,
   "id": "30c0ec54-da3c-47a5-aaa0-ac30aefb98e6",
   "metadata": {},
   "outputs": [
    {
     "ename": "NameError",
     "evalue": "name 's' is not defined",
     "output_type": "error",
     "traceback": [
      "\u001b[1;31m---------------------------------------------------------------------------\u001b[0m",
      "\u001b[1;31mNameError\u001b[0m                                 Traceback (most recent call last)",
      "\u001b[1;32m~\\AppData\\Local\\Temp/ipykernel_1440/1028141915.py\u001b[0m in \u001b[0;36m<module>\u001b[1;34m\u001b[0m\n\u001b[1;32m----> 1\u001b[1;33m \u001b[0ms\u001b[0m\u001b[1;33m\u001b[0m\u001b[1;33m\u001b[0m\u001b[0m\n\u001b[0m",
      "\u001b[1;31mNameError\u001b[0m: name 's' is not defined"
     ]
    }
   ],
   "source": [
    "s"
   ]
  },
  {
   "cell_type": "code",
   "execution_count": 7,
   "id": "1eebb69e-b12a-431b-85e9-0ca257143fab",
   "metadata": {},
   "outputs": [
    {
     "ename": "TypeError",
     "evalue": "'str' object does not support item deletion",
     "output_type": "error",
     "traceback": [
      "\u001b[1;31m---------------------------------------------------------------------------\u001b[0m",
      "\u001b[1;31mTypeError\u001b[0m                                 Traceback (most recent call last)",
      "\u001b[1;32m~\\AppData\\Local\\Temp/ipykernel_1440/266792670.py\u001b[0m in \u001b[0;36m<module>\u001b[1;34m\u001b[0m\n\u001b[0;32m      1\u001b[0m \u001b[0ms\u001b[0m \u001b[1;33m=\u001b[0m \u001b[1;34m'hello world'\u001b[0m\u001b[1;33m\u001b[0m\u001b[1;33m\u001b[0m\u001b[0m\n\u001b[1;32m----> 2\u001b[1;33m \u001b[1;32mdel\u001b[0m \u001b[0ms\u001b[0m\u001b[1;33m[\u001b[0m\u001b[1;33m-\u001b[0m\u001b[1;36m1\u001b[0m\u001b[1;33m:\u001b[0m\u001b[1;33m-\u001b[0m\u001b[1;36m5\u001b[0m\u001b[1;33m:\u001b[0m\u001b[1;36m2\u001b[0m\u001b[1;33m]\u001b[0m\u001b[1;33m\u001b[0m\u001b[1;33m\u001b[0m\u001b[0m\n\u001b[0m\u001b[0;32m      3\u001b[0m \u001b[0mprint\u001b[0m\u001b[1;33m(\u001b[0m\u001b[0ms\u001b[0m\u001b[1;33m)\u001b[0m\u001b[1;33m\u001b[0m\u001b[1;33m\u001b[0m\u001b[0m\n",
      "\u001b[1;31mTypeError\u001b[0m: 'str' object does not support item deletion"
     ]
    }
   ],
   "source": [
    "s = 'hello world'\n",
    "del s[-1:-5:2]\n",
    "print(s)"
   ]
  },
  {
   "cell_type": "markdown",
   "id": "061b4654-26c6-460b-a070-070c64e9de9e",
   "metadata": {},
   "source": [
    "## Operations on Strings\n",
    "\n",
    "- Arithmetic Operations\n",
    "- Relational Operations\n",
    "- Logical Operations\n",
    "- Loops on Strings\n",
    "- Membership Operations"
   ]
  },
  {
   "cell_type": "code",
   "execution_count": 4,
   "id": "60a60950-cb54-4886-8894-eedeb80d8018",
   "metadata": {},
   "outputs": [
    {
     "name": "stdout",
     "output_type": "stream",
     "text": [
      "Delhi Mumbai\n"
     ]
    }
   ],
   "source": [
    "# Arithmetic Operation \n",
    "print('Delhi'+' '+ 'Mumbai')"
   ]
  },
  {
   "cell_type": "code",
   "execution_count": 5,
   "id": "cee41380-7e40-4c40-a326-d00bb0f6b0f4",
   "metadata": {},
   "outputs": [
    {
     "name": "stdout",
     "output_type": "stream",
     "text": [
      "DelhiDelhiDelhiDelhiDelhi\n"
     ]
    }
   ],
   "source": [
    "print('Delhi'*5)"
   ]
  },
  {
   "cell_type": "code",
   "execution_count": 7,
   "id": "b46f1865-36b9-4a8c-a25c-36b981499f2c",
   "metadata": {},
   "outputs": [
    {
     "name": "stdout",
     "output_type": "stream",
     "text": [
      "********************\n"
     ]
    }
   ],
   "source": [
    "print(\"*\"*20)"
   ]
  },
  {
   "cell_type": "code",
   "execution_count": 8,
   "id": "c8ff4bd1-bf90-4bd0-91a8-a02d5bfe56fc",
   "metadata": {},
   "outputs": [
    {
     "data": {
      "text/plain": [
       "True"
      ]
     },
     "execution_count": 8,
     "metadata": {},
     "output_type": "execute_result"
    }
   ],
   "source": [
    "# Relational Operators\n",
    "'delhi' == 'delhi'"
   ]
  },
  {
   "cell_type": "code",
   "execution_count": 11,
   "id": "b287e25c-463a-4fa7-a6ca-782d3ddafd0e",
   "metadata": {},
   "outputs": [
    {
     "data": {
      "text/plain": [
       "False"
      ]
     },
     "execution_count": 11,
     "metadata": {},
     "output_type": "execute_result"
    }
   ],
   "source": [
    "'delhi' == 'mumbai'"
   ]
  },
  {
   "cell_type": "code",
   "execution_count": 12,
   "id": "8563e431-dfa4-483a-b315-1465b2d6c229",
   "metadata": {},
   "outputs": [
    {
     "data": {
      "text/plain": [
       "False"
      ]
     },
     "execution_count": 12,
     "metadata": {},
     "output_type": "execute_result"
    }
   ],
   "source": [
    "# it compare on the basis of dect.(lexiographically)\n",
    "'mumbai' > 'pune'"
   ]
  },
  {
   "cell_type": "code",
   "execution_count": 10,
   "id": "0e634f68-10ef-4886-9481-be568fab7a9f",
   "metadata": {},
   "outputs": [
    {
     "data": {
      "text/plain": [
       "True"
      ]
     },
     "execution_count": 10,
     "metadata": {},
     "output_type": "execute_result"
    }
   ],
   "source": [
    "'mumbai' < 'pune'"
   ]
  },
  {
   "cell_type": "code",
   "execution_count": 13,
   "id": "21d35207-0e48-4339-8489-f0bf910ece2d",
   "metadata": {},
   "outputs": [
    {
     "data": {
      "text/plain": [
       "'world'"
      ]
     },
     "execution_count": 13,
     "metadata": {},
     "output_type": "execute_result"
    }
   ],
   "source": [
    "# Logical Operators\n",
    "'hello' and 'world'"
   ]
  },
  {
   "cell_type": "code",
   "execution_count": 14,
   "id": "6fd9b288-55b0-42cb-a094-e8205b7d42ba",
   "metadata": {},
   "outputs": [
    {
     "data": {
      "text/plain": [
       "'hello'"
      ]
     },
     "execution_count": 14,
     "metadata": {},
     "output_type": "execute_result"
    }
   ],
   "source": [
    "'hello' or 'world'"
   ]
  },
  {
   "cell_type": "code",
   "execution_count": 15,
   "id": "b02f1aca-6a76-43c0-aa0a-24982ccff5c8",
   "metadata": {},
   "outputs": [
    {
     "data": {
      "text/plain": [
       "''"
      ]
     },
     "execution_count": 15,
     "metadata": {},
     "output_type": "execute_result"
    }
   ],
   "source": [
    "'' and 'world'"
   ]
  },
  {
   "cell_type": "code",
   "execution_count": 16,
   "id": "a661a7e3-e353-4731-b498-0b9d0ccb3e4b",
   "metadata": {},
   "outputs": [
    {
     "data": {
      "text/plain": [
       "'world'"
      ]
     },
     "execution_count": 16,
     "metadata": {},
     "output_type": "execute_result"
    }
   ],
   "source": [
    "'' or 'world'"
   ]
  },
  {
   "cell_type": "code",
   "execution_count": 17,
   "id": "0f469971-048b-4761-aa93-aaaf04fc7912",
   "metadata": {},
   "outputs": [
    {
     "data": {
      "text/plain": [
       "True"
      ]
     },
     "execution_count": 17,
     "metadata": {},
     "output_type": "execute_result"
    }
   ],
   "source": [
    "not ''"
   ]
  },
  {
   "cell_type": "code",
   "execution_count": 18,
   "id": "747715dd-a10a-4261-82c3-8a397b8d4c82",
   "metadata": {},
   "outputs": [
    {
     "data": {
      "text/plain": [
       "False"
      ]
     },
     "execution_count": 18,
     "metadata": {},
     "output_type": "execute_result"
    }
   ],
   "source": [
    "not 'hello'"
   ]
  },
  {
   "cell_type": "code",
   "execution_count": 19,
   "id": "34b93a53-e649-45b2-b3b6-614acd5d30c7",
   "metadata": {},
   "outputs": [],
   "source": [
    "# Loops On Strings"
   ]
  },
  {
   "cell_type": "code",
   "execution_count": 23,
   "id": "f4fd1cf5-929e-41ba-8ad0-674131ce8d01",
   "metadata": {},
   "outputs": [
    {
     "name": "stdout",
     "output_type": "stream",
     "text": [
      "h\n",
      "e\n",
      "l\n",
      "l\n",
      "o\n"
     ]
    }
   ],
   "source": [
    "for i in 'hello':\n",
    "    print(i)"
   ]
  },
  {
   "cell_type": "code",
   "execution_count": 24,
   "id": "3be958d8-4155-495d-aa96-8afb8ca82f77",
   "metadata": {},
   "outputs": [
    {
     "name": "stdout",
     "output_type": "stream",
     "text": [
      "pune\n",
      "pune\n",
      "pune\n",
      "pune\n",
      "pune\n"
     ]
    }
   ],
   "source": [
    "for i in 'delhi':\n",
    "    print('pune')"
   ]
  },
  {
   "cell_type": "code",
   "execution_count": 27,
   "id": "a5162cb7-ec8c-4f26-94b7-80ca7b145202",
   "metadata": {},
   "outputs": [
    {
     "data": {
      "text/plain": [
       "True"
      ]
     },
     "execution_count": 27,
     "metadata": {},
     "output_type": "execute_result"
    }
   ],
   "source": [
    "# Membership Operators\n",
    "'D' in 'Delhi'"
   ]
  },
  {
   "cell_type": "code",
   "execution_count": 26,
   "id": "625b495d-3c25-4437-877c-84f4813f0bdc",
   "metadata": {},
   "outputs": [
    {
     "data": {
      "text/plain": [
       "False"
      ]
     },
     "execution_count": 26,
     "metadata": {},
     "output_type": "execute_result"
    }
   ],
   "source": [
    "'d' in 'Delhi'"
   ]
  },
  {
   "cell_type": "markdown",
   "id": "d40f0dd2-c83a-4a41-b9ec-0256ac126cc5",
   "metadata": {},
   "source": [
    "# Common function"
   ]
  },
  {
   "cell_type": "code",
   "execution_count": 28,
   "id": "c252a159-b0d8-4e85-bb99-c4c7d343af3c",
   "metadata": {},
   "outputs": [],
   "source": [
    "# len\n",
    "# max\n",
    "# min\n",
    "# sorted"
   ]
  },
  {
   "cell_type": "code",
   "execution_count": 29,
   "id": "f8ca634b-5efb-4471-ab54-b08cd35277ce",
   "metadata": {},
   "outputs": [
    {
     "data": {
      "text/plain": [
       "11"
      ]
     },
     "execution_count": 29,
     "metadata": {},
     "output_type": "execute_result"
    }
   ],
   "source": [
    "len('hello world')"
   ]
  },
  {
   "cell_type": "code",
   "execution_count": 30,
   "id": "dd8e4284-f34d-4596-81ac-f1b3a17c6f24",
   "metadata": {},
   "outputs": [
    {
     "data": {
      "text/plain": [
       "'w'"
      ]
     },
     "execution_count": 30,
     "metadata": {},
     "output_type": "execute_result"
    }
   ],
   "source": [
    "max('hello world')"
   ]
  },
  {
   "cell_type": "code",
   "execution_count": 31,
   "id": "eb6a488c-6031-46a1-be59-c88381076982",
   "metadata": {},
   "outputs": [
    {
     "data": {
      "text/plain": [
       "' '"
      ]
     },
     "execution_count": 31,
     "metadata": {},
     "output_type": "execute_result"
    }
   ],
   "source": [
    "min('hello world')"
   ]
  },
  {
   "cell_type": "code",
   "execution_count": 32,
   "id": "68cdbcb8-3c00-49a5-9802-13747140b2f4",
   "metadata": {},
   "outputs": [
    {
     "data": {
      "text/plain": [
       "[' ', 'd', 'e', 'h', 'l', 'l', 'l', 'o', 'o', 'r', 'w']"
      ]
     },
     "execution_count": 32,
     "metadata": {},
     "output_type": "execute_result"
    }
   ],
   "source": [
    "sorted('hello world')"
   ]
  },
  {
   "cell_type": "code",
   "execution_count": 33,
   "id": "02a812b9-742a-4ebe-8267-05fc1fa05e5d",
   "metadata": {},
   "outputs": [
    {
     "data": {
      "text/plain": [
       "['w', 'r', 'o', 'o', 'l', 'l', 'l', 'h', 'e', 'd', ' ']"
      ]
     },
     "execution_count": 33,
     "metadata": {},
     "output_type": "execute_result"
    }
   ],
   "source": [
    "sorted('hello world',reverse = True)"
   ]
  },
  {
   "cell_type": "markdown",
   "id": "1558d7eb-91ab-402e-8f13-a22092ef400b",
   "metadata": {},
   "source": [
    "# Captalize/Title/Upper/Lower/Swapcase"
   ]
  },
  {
   "cell_type": "code",
   "execution_count": 35,
   "id": "ebbe73c8-993b-434f-acda-e046298844ee",
   "metadata": {},
   "outputs": [
    {
     "data": {
      "text/plain": [
       "'Hello world'"
      ]
     },
     "execution_count": 35,
     "metadata": {},
     "output_type": "execute_result"
    }
   ],
   "source": [
    "s = 'hello world'\n",
    "s.capitalize()"
   ]
  },
  {
   "cell_type": "code",
   "execution_count": 36,
   "id": "2189c3e8-1e8a-4e00-aa58-a66357256d69",
   "metadata": {},
   "outputs": [
    {
     "data": {
      "text/plain": [
       "'Hello World'"
      ]
     },
     "execution_count": 36,
     "metadata": {},
     "output_type": "execute_result"
    }
   ],
   "source": [
    "s.title()"
   ]
  },
  {
   "cell_type": "code",
   "execution_count": 38,
   "id": "57f29314-8e2b-4626-93fd-2b05a9f19520",
   "metadata": {},
   "outputs": [
    {
     "data": {
      "text/plain": [
       "'HELLO WORLD'"
      ]
     },
     "execution_count": 38,
     "metadata": {},
     "output_type": "execute_result"
    }
   ],
   "source": [
    "s.upper()"
   ]
  },
  {
   "cell_type": "code",
   "execution_count": 39,
   "id": "9a3d9965-ef3c-46f9-b8d4-305c2a714aaa",
   "metadata": {},
   "outputs": [
    {
     "data": {
      "text/plain": [
       "'hello world'"
      ]
     },
     "execution_count": 39,
     "metadata": {},
     "output_type": "execute_result"
    }
   ],
   "source": [
    "s.lower()"
   ]
  },
  {
   "cell_type": "code",
   "execution_count": 40,
   "id": "aa9ff138-29ec-4a83-b2c5-3d2b66c8a341",
   "metadata": {},
   "outputs": [
    {
     "data": {
      "text/plain": [
       "'hELLO wORLD'"
      ]
     },
     "execution_count": 40,
     "metadata": {},
     "output_type": "execute_result"
    }
   ],
   "source": [
    "'Hello World'.swapcase()"
   ]
  },
  {
   "cell_type": "code",
   "execution_count": 42,
   "id": "51ce13c9-c8e1-4f06-a5d0-acbf47b4bb26",
   "metadata": {},
   "outputs": [],
   "source": [
    "# Count/Find/Index"
   ]
  },
  {
   "cell_type": "code",
   "execution_count": 43,
   "id": "c2890cbb-00d4-4e9a-931a-b935301d0234",
   "metadata": {},
   "outputs": [
    {
     "data": {
      "text/plain": [
       "2"
      ]
     },
     "execution_count": 43,
     "metadata": {},
     "output_type": "execute_result"
    }
   ],
   "source": [
    "'my name is parinav'.count('i')"
   ]
  },
  {
   "cell_type": "code",
   "execution_count": 45,
   "id": "68094347-d796-427b-bbc4-c4463b40b131",
   "metadata": {},
   "outputs": [
    {
     "data": {
      "text/plain": [
       "8"
      ]
     },
     "execution_count": 45,
     "metadata": {},
     "output_type": "execute_result"
    }
   ],
   "source": [
    "'my name is parinav'.find('is')"
   ]
  },
  {
   "cell_type": "code",
   "execution_count": 46,
   "id": "9991eb40-f23e-4d9b-a8d8-aec7267c9567",
   "metadata": {},
   "outputs": [
    {
     "data": {
      "text/plain": [
       "11"
      ]
     },
     "execution_count": 46,
     "metadata": {},
     "output_type": "execute_result"
    }
   ],
   "source": [
    "'my name is parinav'.index('parinav')"
   ]
  },
  {
   "cell_type": "markdown",
   "id": "9b5339ea-fadc-4b13-92e2-036b2ad12f26",
   "metadata": {},
   "source": [
    "# endswith/startswith"
   ]
  },
  {
   "cell_type": "code",
   "execution_count": 51,
   "id": "a7aa8c1c-804a-4318-86bc-deeb12267b86",
   "metadata": {},
   "outputs": [
    {
     "data": {
      "text/plain": [
       "False"
      ]
     },
     "execution_count": 51,
     "metadata": {},
     "output_type": "execute_result"
    }
   ],
   "source": [
    "'my name is parinav'.endswith('sho')"
   ]
  },
  {
   "cell_type": "code",
   "execution_count": 55,
   "id": "53664485-d21f-43e8-951b-a14447d61245",
   "metadata": {},
   "outputs": [
    {
     "data": {
      "text/plain": [
       "True"
      ]
     },
     "execution_count": 55,
     "metadata": {},
     "output_type": "execute_result"
    }
   ],
   "source": [
    "'my name is parinav'.endswith('parinav')"
   ]
  },
  {
   "cell_type": "code",
   "execution_count": 48,
   "id": "dd4c1a18-dec0-4875-8f7b-ad6b28af1703",
   "metadata": {},
   "outputs": [
    {
     "data": {
      "text/plain": [
       "False"
      ]
     },
     "execution_count": 48,
     "metadata": {},
     "output_type": "execute_result"
    }
   ],
   "source": [
    "'my name is parinav'.startswith('sho')"
   ]
  },
  {
   "cell_type": "code",
   "execution_count": 53,
   "id": "2a832c59-fb13-4438-af77-e32d65476ef6",
   "metadata": {},
   "outputs": [
    {
     "data": {
      "text/plain": [
       "True"
      ]
     },
     "execution_count": 53,
     "metadata": {},
     "output_type": "execute_result"
    }
   ],
   "source": [
    "'my name is parinav'.startswith('my')"
   ]
  },
  {
   "cell_type": "markdown",
   "id": "9f1bf573-0e02-4199-a660-e4e1fb3edb48",
   "metadata": {},
   "source": [
    "# Format"
   ]
  },
  {
   "cell_type": "code",
   "execution_count": 57,
   "id": "544d8221-b289-433c-9316-43eea83a0da8",
   "metadata": {},
   "outputs": [
    {
     "data": {
      "text/plain": [
       "'Hi my name is nitish and I am a male'"
      ]
     },
     "execution_count": 57,
     "metadata": {},
     "output_type": "execute_result"
    }
   ],
   "source": [
    "name = 'nitish'\n",
    "gender = 'male'\n",
    "\n",
    "'Hi my name is {} and I am a {}'.format(name,gender)"
   ]
  },
  {
   "cell_type": "code",
   "execution_count": 60,
   "id": "3eca3186-2da9-4907-993a-1c2d41cba180",
   "metadata": {},
   "outputs": [
    {
     "data": {
      "text/plain": [
       "'Hi my name is parinav and I am a male'"
      ]
     },
     "execution_count": 60,
     "metadata": {},
     "output_type": "execute_result"
    }
   ],
   "source": [
    "name = 'parinav'\n",
    "gender = 'male'\n",
    "\n",
    "'Hi my name is {1} and I am a {0}'.format(gender,name)"
   ]
  },
  {
   "cell_type": "markdown",
   "id": "7020b153-1d89-4528-b64b-43d2bc1865d4",
   "metadata": {},
   "source": [
    "# isalnum/isalpha/isdigit/isidentifier"
   ]
  },
  {
   "cell_type": "code",
   "execution_count": 61,
   "id": "ae9a0784-df4d-406b-9b27-c12e3b3226ac",
   "metadata": {},
   "outputs": [
    {
     "data": {
      "text/plain": [
       "True"
      ]
     },
     "execution_count": 61,
     "metadata": {},
     "output_type": "execute_result"
    }
   ],
   "source": [
    "'parinav1234'.isalnum()"
   ]
  },
  {
   "cell_type": "code",
   "execution_count": 62,
   "id": "51aa306d-b96e-4170-a4f6-040b71f31ca0",
   "metadata": {},
   "outputs": [
    {
     "data": {
      "text/plain": [
       "False"
      ]
     },
     "execution_count": 62,
     "metadata": {},
     "output_type": "execute_result"
    }
   ],
   "source": [
    "'parinav1234'.isalpha()"
   ]
  },
  {
   "cell_type": "code",
   "execution_count": 63,
   "id": "c8fe6df6-b948-4cbb-9e9d-f55cc4c53751",
   "metadata": {},
   "outputs": [
    {
     "data": {
      "text/plain": [
       "True"
      ]
     },
     "execution_count": 63,
     "metadata": {},
     "output_type": "execute_result"
    }
   ],
   "source": [
    "'1234'.isdigit()"
   ]
  },
  {
   "cell_type": "code",
   "execution_count": 64,
   "id": "8a5402e4-a96c-4bad-8d0e-0221d4839fec",
   "metadata": {},
   "outputs": [
    {
     "data": {
      "text/plain": [
       "True"
      ]
     },
     "execution_count": 64,
     "metadata": {},
     "output_type": "execute_result"
    }
   ],
   "source": [
    "'parinav9'.isidentifier()"
   ]
  },
  {
   "cell_type": "code",
   "execution_count": 65,
   "id": "66ac1b55-8ed3-4239-ac66-e17aaeb62afb",
   "metadata": {},
   "outputs": [
    {
     "data": {
      "text/plain": [
       "False"
      ]
     },
     "execution_count": 65,
     "metadata": {},
     "output_type": "execute_result"
    }
   ],
   "source": [
    "'9parinav'.isidentifier()"
   ]
  },
  {
   "cell_type": "markdown",
   "id": "721b3816-07b2-4d23-ae0b-0d7013066851",
   "metadata": {},
   "source": [
    "# Split/Join"
   ]
  },
  {
   "cell_type": "code",
   "execution_count": 73,
   "id": "585400cf-71c7-4d71-8e8b-16f4d162552c",
   "metadata": {},
   "outputs": [
    {
     "data": {
      "text/plain": [
       "['hi', 'my', 'name', 'is', 'parinav']"
      ]
     },
     "execution_count": 73,
     "metadata": {},
     "output_type": "execute_result"
    }
   ],
   "source": [
    "'hi my name is parinav'.split()"
   ]
  },
  {
   "cell_type": "code",
   "execution_count": 74,
   "id": "acd6a12a-c384-453d-8b90-a6625e38f603",
   "metadata": {},
   "outputs": [
    {
     "data": {
      "text/plain": [
       "['h', ' my name ', 's par', 'nav']"
      ]
     },
     "execution_count": 74,
     "metadata": {},
     "output_type": "execute_result"
    }
   ],
   "source": [
    "'hi my name is parinav'.split('i')"
   ]
  },
  {
   "cell_type": "code",
   "execution_count": 75,
   "id": "4db999e8-dfc4-4315-a5bc-ec0fbee31059",
   "metadata": {},
   "outputs": [
    {
     "data": {
      "text/plain": [
       "'hi my name is parinav'"
      ]
     },
     "execution_count": 75,
     "metadata": {},
     "output_type": "execute_result"
    }
   ],
   "source": [
    "' '.join(['hi', 'my', 'name', 'is', 'parinav'])"
   ]
  },
  {
   "cell_type": "code",
   "execution_count": 76,
   "id": "705dcfb6-6532-4104-a093-d3cc21d78528",
   "metadata": {},
   "outputs": [
    {
     "data": {
      "text/plain": [
       "'hi-my-name-is-parinav'"
      ]
     },
     "execution_count": 76,
     "metadata": {},
     "output_type": "execute_result"
    }
   ],
   "source": [
    "'-'.join(['hi', 'my', 'name', 'is', 'parinav'])"
   ]
  },
  {
   "cell_type": "markdown",
   "id": "f1757422-ee68-4d14-b77c-e5f5859ef265",
   "metadata": {},
   "source": [
    "# Replace"
   ]
  },
  {
   "cell_type": "code",
   "execution_count": 78,
   "id": "b6fd2d11-d4b9-44bc-9ebb-125eb430ec48",
   "metadata": {},
   "outputs": [
    {
     "data": {
      "text/plain": [
       "'hi my name is aniket'"
      ]
     },
     "execution_count": 78,
     "metadata": {},
     "output_type": "execute_result"
    }
   ],
   "source": [
    "'hi my name is parinav'.replace('parinav','aniket')"
   ]
  },
  {
   "cell_type": "markdown",
   "id": "f3b5e562-3dbb-4c59-b2cd-f9b74207a382",
   "metadata": {},
   "source": [
    "# Strip"
   ]
  },
  {
   "cell_type": "code",
   "execution_count": 79,
   "id": "e13a8096-5f3b-4d65-9dff-3ded1dd8a385",
   "metadata": {},
   "outputs": [
    {
     "data": {
      "text/plain": [
       "'parinav'"
      ]
     },
     "execution_count": 79,
     "metadata": {},
     "output_type": "execute_result"
    }
   ],
   "source": [
    "'parinav             '.strip()"
   ]
  },
  {
   "cell_type": "code",
   "execution_count": null,
   "id": "a28939cd-6a31-4d9c-abc8-18a7321bcd27",
   "metadata": {},
   "outputs": [],
   "source": []
  }
 ],
 "metadata": {
  "kernelspec": {
   "display_name": "Python 3 (ipykernel)",
   "language": "python",
   "name": "python3"
  },
  "language_info": {
   "codemirror_mode": {
    "name": "ipython",
    "version": 3
   },
   "file_extension": ".py",
   "mimetype": "text/x-python",
   "name": "python",
   "nbconvert_exporter": "python",
   "pygments_lexer": "ipython3",
   "version": "3.9.7"
  }
 },
 "nbformat": 4,
 "nbformat_minor": 5
}
